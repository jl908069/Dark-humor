{
 "cells": [
  {
   "cell_type": "code",
   "execution_count": 1,
   "metadata": {},
   "outputs": [],
   "source": [
    "from sklearn import svm\n",
    "from sklearn.ensemble import RandomForestClassifier\n",
    "from sklearn.neural_network import MLPClassifier\n",
    "from sklearn import metrics\n",
    "import pandas as pd\n",
    "import numpy as np\n",
    "from sklearn.linear_model import LinearRegression, LogisticRegression\n",
    "from sklearn.preprocessing import StandardScaler\n",
    "from sklearn.preprocessing import LabelBinarizer\n",
    "from sklearn.model_selection import train_test_split, GridSearchCV\n",
    "from sklearn.pipeline import Pipeline\n",
    "from sklearn import metrics\n",
    "from sklearn import preprocessing\n",
    "from mord import LogisticIT"
   ]
  },
  {
   "cell_type": "markdown",
   "metadata": {},
   "source": [
    "### Prepare Data"
   ]
  },
  {
   "cell_type": "code",
   "execution_count": 2,
   "metadata": {},
   "outputs": [
    {
     "data": {
      "text/html": [
       "<div>\n",
       "<style scoped>\n",
       "    .dataframe tbody tr th:only-of-type {\n",
       "        vertical-align: middle;\n",
       "    }\n",
       "\n",
       "    .dataframe tbody tr th {\n",
       "        vertical-align: top;\n",
       "    }\n",
       "\n",
       "    .dataframe thead th {\n",
       "        text-align: right;\n",
       "    }\n",
       "</style>\n",
       "<table border=\"1\" class=\"dataframe\">\n",
       "  <thead>\n",
       "    <tr style=\"text-align: right;\">\n",
       "      <th></th>\n",
       "      <th>ID</th>\n",
       "      <th>Images</th>\n",
       "      <th>OCR</th>\n",
       "      <th>Template_Name</th>\n",
       "      <th>dh_1</th>\n",
       "      <th>dh_2</th>\n",
       "      <th>dh_3</th>\n",
       "      <th>dh</th>\n",
       "    </tr>\n",
       "  </thead>\n",
       "  <tbody>\n",
       "    <tr>\n",
       "      <th>0</th>\n",
       "      <td>1</td>\n",
       "      <td>NaN</td>\n",
       "      <td>當我再差幾秒就遲到時，卻在這幾秒內衝到學校。我。學校。</td>\n",
       "      <td>自信的善逸</td>\n",
       "      <td>0</td>\n",
       "      <td>0</td>\n",
       "      <td>0</td>\n",
       "      <td>0</td>\n",
       "    </tr>\n",
       "    <tr>\n",
       "      <th>1</th>\n",
       "      <td>2</td>\n",
       "      <td>NaN</td>\n",
       "      <td>當你以為他們要幫你拿倉鼠飼料來餵你吃，但手上卻是拿著兩條蟒蛇加上一個攝影機。</td>\n",
       "      <td>怕爆倉鼠</td>\n",
       "      <td>0</td>\n",
       "      <td>2</td>\n",
       "      <td>0</td>\n",
       "      <td>0</td>\n",
       "    </tr>\n",
       "    <tr>\n",
       "      <th>2</th>\n",
       "      <td>3</td>\n",
       "      <td>NaN</td>\n",
       "      <td>紅燈了行人大搖大擺的過馬路。行人。台灣的計程車司機\\n</td>\n",
       "      <td>小丑被車撞</td>\n",
       "      <td>0</td>\n",
       "      <td>1</td>\n",
       "      <td>0</td>\n",
       "      <td>0</td>\n",
       "    </tr>\n",
       "    <tr>\n",
       "      <th>3</th>\n",
       "      <td>4</td>\n",
       "      <td>NaN</td>\n",
       "      <td>辛普森家庭從來不會讓我失望。AREA 51 WARNING:DO NOT ENTER!\\n\\n</td>\n",
       "      <td>51禁區辛普森家族早就知道了</td>\n",
       "      <td>0</td>\n",
       "      <td>0</td>\n",
       "      <td>0</td>\n",
       "      <td>0</td>\n",
       "    </tr>\n",
       "    <tr>\n",
       "      <th>4</th>\n",
       "      <td>5</td>\n",
       "      <td>NaN</td>\n",
       "      <td>武漢肺炎疫情日漸嚴重。習近平:</td>\n",
       "      <td>小熊維尼笑</td>\n",
       "      <td>0</td>\n",
       "      <td>1</td>\n",
       "      <td>2</td>\n",
       "      <td>1</td>\n",
       "    </tr>\n",
       "  </tbody>\n",
       "</table>\n",
       "</div>"
      ],
      "text/plain": [
       "   ID  Images                                              OCR  \\\n",
       "0   1     NaN                      當我再差幾秒就遲到時，卻在這幾秒內衝到學校。我。學校。   \n",
       "1   2     NaN           當你以為他們要幫你拿倉鼠飼料來餵你吃，但手上卻是拿著兩條蟒蛇加上一個攝影機。   \n",
       "2   3     NaN                      紅燈了行人大搖大擺的過馬路。行人。台灣的計程車司機\\n   \n",
       "3   4     NaN  辛普森家庭從來不會讓我失望。AREA 51 WARNING:DO NOT ENTER!\\n\\n   \n",
       "4   5     NaN                                  武漢肺炎疫情日漸嚴重。習近平:   \n",
       "\n",
       "    Template_Name  dh_1  dh_2  dh_3  dh  \n",
       "0           自信的善逸     0     0     0   0  \n",
       "1            怕爆倉鼠     0     2     0   0  \n",
       "2           小丑被車撞     0     1     0   0  \n",
       "3  51禁區辛普森家族早就知道了     0     0     0   0  \n",
       "4           小熊維尼笑     0     1     2   1  "
      ]
     },
     "execution_count": 2,
     "metadata": {},
     "output_type": "execute_result"
    }
   ],
   "source": [
    "df= pd.read_excel(\"Anno-1000.xlsx\")\n",
    "y_overall=df.dh\n",
    "y_transform = LabelBinarizer().fit_transform(y_overall)\n",
    "\n",
    "rater1 = df['dh_1']\n",
    "rater2 = df['dh_2']\n",
    "rater3 = df['dh_3']\n",
    "ratings = [rater1, rater2, rater3]\n",
    "r_df=pd.DataFrame({'rater1':rater1,'rater2':rater2,'rater3':rater3}, columns=['rater1','rater2','rater3'])\n",
    "df['rating_avg']=r_df.mean(axis=1)\n",
    "x=df['rating_avg'].values\n",
    "x=x.reshape((-1,1))\n",
    "min_max= preprocessing.MinMaxScaler().fit_transform(x).ravel()\n",
    "df['min_max']=min_max\n",
    "#Check df\n",
    "#df.head(5)"
   ]
  },
  {
   "cell_type": "code",
   "execution_count": null,
   "metadata": {},
   "outputs": [],
   "source": [
    "# X variables\n",
    "ocr_tm_annox_1000=np.load('ocr_tm_annox_1000.npy')\n",
    "ocr_tm_p2v3_annox_1000=np.load('ocr_tm_p2v3_annox_1000.npy')\n",
    "ocr_annox_1000=np.load('ocr_annox_1000.npy')\n",
    "tm_annox_1000=np.load('tm_annox_1000.npy')\n",
    "p2v3_annox_1000=np.load('p2v3_annox_1000.npy')\n"
   ]
  },
  {
   "cell_type": "markdown",
   "metadata": {},
   "source": [
    "### Multiclass MLP"
   ]
  },
  {
   "cell_type": "code",
   "execution_count": null,
   "metadata": {},
   "outputs": [],
   "source": [
    "target = y_transform\n",
    "features=ocr_tm_annox_1000\n",
    "target = np.argmax(target, axis=1)"
   ]
  },
  {
   "cell_type": "code",
   "execution_count": null,
   "metadata": {},
   "outputs": [],
   "source": [
    "X_train, X_test, y_train, y_test, indices_train, indices_test = train_test_split(features, target, df, test_size=0.33, random_state=0)"
   ]
  },
  {
   "cell_type": "code",
   "execution_count": null,
   "metadata": {},
   "outputs": [],
   "source": [
    "LR = LogisticRegression(random_state=2019, solver='lbfgs', multi_class='multinomial').fit(X_train, y_train)\n",
    "LR.predict(X_test)\n",
    "print(round(LR.score(X_test,y_test), 4))\n",
    "\n",
    "\n",
    "SVM = svm.SVC(decision_function_shape=\"ovr\", random_state=0).fit(X_train, y_train)\n",
    "SVM.predict(X_test)\n",
    "print(round(SVM.score(X_test, y_test), 4))\n",
    "\n",
    "\n",
    "RF = RandomForestClassifier(n_estimators=1000, max_depth=10, random_state=2019).fit(X_train, y_train)\n",
    "RF.predict(X_test)\n",
    "print(round(RF.score(X_test, y_test), 4))\n",
    "\n",
    "\n",
    "NN = MLPClassifier(solver='lbfgs', alpha=1e-5, hidden_layer_sizes=(150, 10), random_state=2019).fit(X_train, y_train)\n",
    "NN.predict(X_test)\n",
    "print(round(NN.score(X_test, y_test), 4))\n"
   ]
  },
  {
   "cell_type": "markdown",
   "metadata": {},
   "source": [
    "### Evaluation"
   ]
  },
  {
   "cell_type": "code",
   "execution_count": null,
   "metadata": {},
   "outputs": [],
   "source": [
    "model=SVM\n",
    "model.fit(X_train, y_train)\n",
    "y_pred = model.predict(X_test)\n",
    "print(metrics.classification_report(y_test, y_pred))"
   ]
  },
  {
   "cell_type": "code",
   "execution_count": null,
   "metadata": {},
   "outputs": [],
   "source": [
    "model=RF\n",
    "model.fit(X_train, y_train)\n",
    "y_pred = model.predict(X_test)\n",
    "print(metrics.classification_report(y_test, y_pred))"
   ]
  },
  {
   "cell_type": "code",
   "execution_count": null,
   "metadata": {},
   "outputs": [],
   "source": [
    "model=LR\n",
    "model.fit(X_train, y_train)\n",
    "y_pred = model.predict(X_test)\n",
    "print(metrics.classification_report(y_test, y_pred))"
   ]
  },
  {
   "cell_type": "code",
   "execution_count": null,
   "metadata": {},
   "outputs": [],
   "source": [
    "model=NN\n",
    "model.fit(X_train, y_train)\n",
    "y_pred = model.predict(X_test)\n",
    "print(metrics.classification_report(y_test, y_pred))"
   ]
  }
 ],
 "metadata": {
  "kernelspec": {
   "display_name": "Python 3",
   "language": "python",
   "name": "python3"
  },
  "language_info": {
   "codemirror_mode": {
    "name": "ipython",
    "version": 3
   },
   "file_extension": ".py",
   "mimetype": "text/x-python",
   "name": "python",
   "nbconvert_exporter": "python",
   "pygments_lexer": "ipython3",
   "version": "3.7.2"
  }
 },
 "nbformat": 4,
 "nbformat_minor": 2
}
