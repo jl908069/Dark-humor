{
 "cells": [
  {
   "cell_type": "markdown",
   "metadata": {},
   "source": [
    "### Prepare data"
   ]
  },
  {
   "cell_type": "code",
   "execution_count": 3,
   "metadata": {},
   "outputs": [],
   "source": [
    "df= pd.read_excel(\"Anno-1000.xlsx\")\n"
   ]
  },
  {
   "cell_type": "markdown",
   "metadata": {},
   "source": [
    "### Anno Agreement"
   ]
  },
  {
   "cell_type": "markdown",
   "metadata": {},
   "source": [
    "#### Fleiss Kappa"
   ]
  },
  {
   "cell_type": "code",
   "execution_count": null,
   "metadata": {},
   "outputs": [],
   "source": [
    "#a ratio relating the level of agreement observed vs what would be expected by chance\n",
    "def fleiss_kappa(lists, classes):\n",
    "    n = len(lists)\n",
    "    N = len(lists[0])\n",
    "    k = len(classes)\n",
    "    \n",
    "    nij = []\n",
    "    for i in range(N):\n",
    "        nij.append([0]*k)\n",
    "        \n",
    "    \n",
    "    for i in range(len(lists)):\n",
    "        for j in range(len(lists[i])):\n",
    "            nij[j][classes.index(lists[i][j])] += 1 \n",
    "    \n",
    "    P = []\n",
    "    for i in nij:\n",
    "        P.append(1/(n*(n-1))*(sum([j*j for j in i])-n))\n",
    "    return (((sum(P)/N)-(sum([y*y for y in [x/(N*n) for x in[sum(i) for i in zip(*nij)]]])))/(1-sum([y*y for y in [x/(N*n) for x in[sum(i) for i in zip(*nij)]]]))+1)/2"
   ]
  },
  {
   "cell_type": "code",
   "execution_count": null,
   "metadata": {},
   "outputs": [],
   "source": [
    "classes = [0, 1, 2, 3] \n",
    "rater1 = df['dh_1']\n",
    "rater2 = df['dh_2']\n",
    "rater3 = df['dh_3']\n",
    "ratings = [rater1, rater2, rater3]\n",
    "\n",
    "print(fleiss_kappa(ratings, classes))"
   ]
  },
  {
   "cell_type": "markdown",
   "metadata": {},
   "source": [
    "#### kendalltau"
   ]
  },
  {
   "cell_type": "code",
   "execution_count": null,
   "metadata": {},
   "outputs": [],
   "source": [
    "import scipy.stats\n",
    "from scipy import stats"
   ]
  },
  {
   "cell_type": "code",
   "execution_count": null,
   "metadata": {},
   "outputs": [],
   "source": [
    "xyz = pd.DataFrame({'rater1':rater1 , 'rater2': rater2, 'rater3': rater3})\n",
    "xyz.corr(method='kendall')"
   ]
  },
  {
   "cell_type": "markdown",
   "metadata": {},
   "source": [
    "### Visualization"
   ]
  },
  {
   "cell_type": "code",
   "execution_count": null,
   "metadata": {},
   "outputs": [],
   "source": [
    "import matplotlib.pyplot as plt"
   ]
  },
  {
   "cell_type": "code",
   "execution_count": null,
   "metadata": {},
   "outputs": [],
   "source": [
    "Anno_1=df['dh_1'].value_counts()\n",
    "Anno_2=df['dh_2'].value_counts()\n",
    "Anno_3=df['dh_3'].value_counts()"
   ]
  },
  {
   "cell_type": "code",
   "execution_count": null,
   "metadata": {},
   "outputs": [],
   "source": [
    "labels = ['0', '1', '2', '3']\n",
    "#x = np.arange(len(labels))  # the label locations\n",
    "#width = 0.35  # the width of the bars\n",
    "col_count = 4\n",
    "bar_width = 0.2\n",
    "index = np.arange(col_count)\n",
    "A1_counts = [572, 145, 261, 24]\n",
    "A2_counts = [634, 148, 116, 104]\n",
    "A3_counts = [475,236, 267, 24]\n",
    "\n",
    "A = plt.bar(index,\n",
    "           A1_counts, \n",
    "           bar_width,\n",
    "           alpha=.4,\n",
    "           label=\"Annotator_1\") \n",
    "B = plt.bar(index+0.2,\n",
    "            A2_counts,\n",
    "            bar_width,\n",
    "            alpha=.4,\n",
    "            label=\"Annotator_2\") \n",
    "C = plt.bar(index+0.4,\n",
    "            A3_counts,\n",
    "            bar_width,\n",
    "            alpha=.4,\n",
    "            label=\"Annotator_3\") # x,y ,width\n",
    "def createLabels(data):\n",
    "    for item in data:\n",
    "        height = item.get_height()\n",
    "        plt.text(\n",
    "            item.get_x()+item.get_width()/2., \n",
    "            height*1.05, \n",
    "            '%d' % int(height),\n",
    "            ha = \"center\",\n",
    "            va = \"bottom\",\n",
    "        )\n",
    "createLabels(A)\n",
    "createLabels(B)\n",
    "createLabels(C)\n",
    "\n",
    "plt.xlabel(\"Dark Humor Ratings\")\n",
    "plt.ylabel(\"Counts\")\n",
    "plt.xticks(index+.3 / 2 ,(\"0\",\"1\",\"2\",\"3\"))\n",
    "\n",
    "plt.legend() #要使用label要加這行\n",
    "plt.title(\"The Distribution of Ratings between Three Annotators\",y=1.08)\n",
    "#plt.grid(True)\n",
    "plt.show()\n",
    "\n"
   ]
  },
  {
   "cell_type": "code",
   "execution_count": null,
   "metadata": {},
   "outputs": [],
   "source": []
  }
 ],
 "metadata": {
  "kernelspec": {
   "display_name": "Python 3",
   "language": "python",
   "name": "python3"
  },
  "language_info": {
   "codemirror_mode": {
    "name": "ipython",
    "version": 3
   },
   "file_extension": ".py",
   "mimetype": "text/x-python",
   "name": "python",
   "nbconvert_exporter": "python",
   "pygments_lexer": "ipython3",
   "version": "3.7.2"
  }
 },
 "nbformat": 4,
 "nbformat_minor": 2
}
