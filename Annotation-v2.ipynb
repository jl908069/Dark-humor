{
 "cells": [
  {
   "cell_type": "code",
   "execution_count": 19,
   "metadata": {},
   "outputs": [],
   "source": [
    "import collections\n",
    "import nltk\n",
    "from nltk import agreement\n",
    "import os\n",
    "import pandas as pd\n",
    "import numpy as np\n",
    "import scipy.sparse as sparse\n",
    "import jieba\n",
    "import csv\n",
    "import pickle\n",
    "import matplotlib.pyplot as plt\n",
    "from sklearn import preprocessing\n",
    "from sklearn.preprocessing import LabelEncoder\n",
    "from sklearn.metrics import confusion_matrix"
   ]
  },
  {
   "cell_type": "code",
   "execution_count": 2,
   "metadata": {},
   "outputs": [],
   "source": [
    "porn = open(\"porn.txt\",\"r\").read().split(\"\\n\")\n",
    "profanity = open(\"profanity.txt\",\"r\").read().split(\"\\n\")\n",
    "pronoun = open(\"pronoun.txt\",\"r\").read().split(\"\\n\")\n",
    "positive_words = open(\"positive_words.txt\",\"r\").read().split(\"\\n\")\n",
    "negative_words = open(\"negative_words.txt\",\"r\").read().split(\"\\n\")"
   ]
  },
  {
   "cell_type": "code",
   "execution_count": 3,
   "metadata": {},
   "outputs": [],
   "source": [
    "df2= pd.read_excel(\"Anno-1000.xlsx\")\n",
    "ocr=df2.iloc[:,2]"
   ]
  },
  {
   "cell_type": "code",
   "execution_count": 4,
   "metadata": {},
   "outputs": [
    {
     "name": "stderr",
     "output_type": "stream",
     "text": [
      "Building prefix dict from /Library/Frameworks/Python.framework/Versions/3.7/lib/python3.7/site-packages/jieba/dict.txt ...\n",
      "Dumping model to file cache /var/folders/s3/x6bgjnss22ggm9fct3z9mgz00000gn/T/jieba.cache\n",
      "Loading model cost 1.9184770584106445 seconds.\n",
      "Prefix dict has been built succesfully.\n"
     ]
    }
   ],
   "source": [
    "s_ocr=[] #建立存储分词的列表\n",
    "for i in range(len(ocr)):\n",
    "    result=[]\n",
    "    seg_list = jieba.cut(ocr[i])\n",
    "    for w in seg_list :#读取每一行分词\n",
    "        result.append(w)\n",
    "    s_ocr.append(result)#将该行分词写入列表形式的总分词列表"
   ]
  },
  {
   "cell_type": "code",
   "execution_count": 5,
   "metadata": {},
   "outputs": [],
   "source": [
    "df2['cln_content'] = s_ocr"
   ]
  },
  {
   "cell_type": "markdown",
   "metadata": {},
   "source": [
    "## Porn Score"
   ]
  },
  {
   "cell_type": "code",
   "execution_count": 8,
   "metadata": {},
   "outputs": [],
   "source": [
    "porn_score = []\n",
    "for text in list(df2.cln_content):\n",
    "    result=0\n",
    "    for words in porn:\n",
    "         if words in text:\n",
    "                 result += 1 \n",
    "    porn_score.append(result)\n",
    "    porn_score\n",
    "df2['porn_score']=porn_score"
   ]
  },
  {
   "cell_type": "markdown",
   "metadata": {},
   "source": [
    "## Profanity Score"
   ]
  },
  {
   "cell_type": "code",
   "execution_count": 9,
   "metadata": {},
   "outputs": [],
   "source": [
    "profanity_score = []\n",
    "for text in list(df2.cln_content):\n",
    "    result=0\n",
    "    for words in profanity:\n",
    "         if words in text:\n",
    "                 result += 1 \n",
    "    profanity_score.append(result)\n",
    "    profanity_score\n",
    "df2['profanity_score']=profanity_score"
   ]
  },
  {
   "cell_type": "markdown",
   "metadata": {},
   "source": [
    "## Pronoun Count"
   ]
  },
  {
   "cell_type": "code",
   "execution_count": 10,
   "metadata": {},
   "outputs": [],
   "source": [
    "pronoun_count = []\n",
    "for text in list(df2.cln_content):\n",
    "    result=0\n",
    "    for words in pronoun:\n",
    "         if words in text:\n",
    "                 result += 1 \n",
    "    pronoun_count.append(result)\n",
    "    pronoun_count\n",
    "df2['pronoun_count']=pronoun_count"
   ]
  },
  {
   "cell_type": "markdown",
   "metadata": {},
   "source": [
    "## Sentiment Score"
   ]
  },
  {
   "cell_type": "code",
   "execution_count": 12,
   "metadata": {},
   "outputs": [],
   "source": [
    "positive_score = []\n",
    "for text in list(df2.cln_content):\n",
    "    result = 0\n",
    "    for words in positive_words:\n",
    "        if words in text:\n",
    "            result += 1\n",
    "    positive_score.append(result)\n",
    "# positive_score"
   ]
  },
  {
   "cell_type": "code",
   "execution_count": 13,
   "metadata": {},
   "outputs": [],
   "source": [
    "negative_score = []\n",
    "for text in list(df2.cln_content):\n",
    "    result = 0\n",
    "    for words in negative_words:\n",
    "        if words in text:\n",
    "            result -= 1\n",
    "    negative_score.append(result)\n",
    "# negative_score"
   ]
  },
  {
   "cell_type": "code",
   "execution_count": 14,
   "metadata": {},
   "outputs": [],
   "source": [
    "df2['polarity_score'] = [positive_score[i] + negative_score[i] for i in range(len(positive_score))]"
   ]
  },
  {
   "cell_type": "code",
   "execution_count": 16,
   "metadata": {},
   "outputs": [],
   "source": [
    "df2.loc[df2.polarity_score > 0, 'sentiment'] = '1' \n",
    "df2.loc[df2.polarity_score < 0, 'sentiment'] = '-1' \n",
    "df2.loc[df2.polarity_score == 0, 'sentiment'] = '0'"
   ]
  },
  {
   "cell_type": "code",
   "execution_count": 17,
   "metadata": {},
   "outputs": [],
   "source": [
    "sentiment=df2['sentiment']"
   ]
  },
  {
   "cell_type": "markdown",
   "metadata": {},
   "source": [
    "## Calculating Quadratic Weighted Kappa"
   ]
  },
  {
   "cell_type": "code",
   "execution_count": 20,
   "metadata": {},
   "outputs": [],
   "source": [
    "dh1=df2['dh_1']\n",
    "A = np.array(dh1)\n",
    "dh2=df2['dh_2']\n",
    "B = np.array(dh2)"
   ]
  },
  {
   "cell_type": "code",
   "execution_count": 21,
   "metadata": {},
   "outputs": [
    {
     "data": {
      "text/plain": [
       "array([[518,  44,   6,   4],\n",
       "       [ 69,  42,  20,  14],\n",
       "       [ 38,  58,  87,  78],\n",
       "       [  9,   4,   3,   8]])"
      ]
     },
     "execution_count": 21,
     "metadata": {},
     "output_type": "execute_result"
    }
   ],
   "source": [
    "confusion_matrix(A, B)"
   ]
  },
  {
   "cell_type": "code",
   "execution_count": 22,
   "metadata": {},
   "outputs": [],
   "source": [
    "w = np.zeros((4,4))"
   ]
  },
  {
   "cell_type": "code",
   "execution_count": 23,
   "metadata": {},
   "outputs": [],
   "source": [
    "for i in range(len(w)):\n",
    "    for j in range(len(w)):\n",
    "        w[i][j] = float(((i-j)**2)/16) "
   ]
  },
  {
   "cell_type": "code",
   "execution_count": 24,
   "metadata": {},
   "outputs": [
    {
     "data": {
      "text/plain": [
       "array([[0.    , 0.0625, 0.25  , 0.5625],\n",
       "       [0.0625, 0.    , 0.0625, 0.25  ],\n",
       "       [0.25  , 0.0625, 0.    , 0.0625],\n",
       "       [0.5625, 0.25  , 0.0625, 0.    ]])"
      ]
     },
     "execution_count": 24,
     "metadata": {},
     "output_type": "execute_result"
    }
   ],
   "source": [
    "w"
   ]
  },
  {
   "cell_type": "code",
   "execution_count": 25,
   "metadata": {},
   "outputs": [],
   "source": [
    "N=4\n",
    "A_hist=np.zeros([N])\n",
    "for item in A: \n",
    "    A_hist[item]+=1\n",
    "    \n",
    "B_hist=np.zeros([N])\n",
    "for item in B: \n",
    "    B_hist[item]+=1"
   ]
  },
  {
   "cell_type": "code",
   "execution_count": 26,
   "metadata": {},
   "outputs": [],
   "source": [
    "E = np.outer(A_hist, B_hist)"
   ]
  },
  {
   "cell_type": "code",
   "execution_count": 27,
   "metadata": {},
   "outputs": [],
   "source": [
    "O = confusion_matrix(A, B)"
   ]
  },
  {
   "cell_type": "code",
   "execution_count": 28,
   "metadata": {},
   "outputs": [
    {
     "data": {
      "text/plain": [
       "1.0"
      ]
     },
     "execution_count": 28,
     "metadata": {},
     "output_type": "execute_result"
    }
   ],
   "source": [
    "E = E/E.sum(); E.sum()\n",
    "O = O/O.sum(); O.sum()"
   ]
  },
  {
   "cell_type": "code",
   "execution_count": 29,
   "metadata": {},
   "outputs": [
    {
     "data": {
      "text/plain": [
       "0.6703351531147185"
      ]
     },
     "execution_count": 29,
     "metadata": {},
     "output_type": "execute_result"
    }
   ],
   "source": [
    "num=0\n",
    "den=0\n",
    "for i in range(len(w)):\n",
    "    for j in range(len(w)):\n",
    "        num+=w[i][j]*O[i][j]\n",
    "        den+=w[i][j]*E[i][j]\n",
    " \n",
    "weighted_kappa = (1 - (num/den)); weighted_kappa"
   ]
  },
  {
   "cell_type": "markdown",
   "metadata": {},
   "source": [
    "Calculates the quadratic weighted kappa\n",
    "axquadratic_weighted_kappa calculates the quadratic weighted kappa\n",
    "value, which is a measure of inter-rater agreement between two raters\n",
    "that provide discrete numeric ratings.  Potential values range from -1\n",
    "(representing complete disagreement) to 1 (representing complete\n",
    "agreement).  A kappa value of 0 is expected if all agreement is due to\n",
    "chance. quadratic_weighted_kappa(rater_a, rater_b), where rater_a and rater_b each correspond to a list of integer ratings.  These lists must have the same length.\n",
    "The ratings should be integers, and it is assumed that they contain the complete range of possible ratings.\n",
    "quadratic_weighted_kappa(X, min_rating, max_rating), where min_rating is the minimum possible rating, and max_rating is the maximum possible rating.\n",
    "https://www.kaggle.com/aroraaman/quadratic-kappa-metric-explained-in-5-simple-steps"
   ]
  },
  {
   "cell_type": "markdown",
   "metadata": {},
   "source": [
    "## Plotting"
   ]
  },
  {
   "cell_type": "code",
   "execution_count": 30,
   "metadata": {},
   "outputs": [],
   "source": [
    "import matplotlib.pyplot as plt"
   ]
  },
  {
   "cell_type": "code",
   "execution_count": 31,
   "metadata": {},
   "outputs": [
    {
     "data": {
      "image/png": "[encoded data removed]",
      "text/plain": [
       "<Figure size 432x288 with 1 Axes>"
      ]
     },
     "metadata": {
      "needs_background": "light"
     },
     "output_type": "display_data"
    }
   ],
   "source": [
    "labels = ['0', '1', '2', '3']\n",
    "col_count = 4\n",
    "bar_width = 0.2\n",
    "index = np.arange(col_count)\n",
    "A_counts = [572, 145, 261, 24]\n",
    "B_counts = [634,148, 116, 104]\n",
    "A = plt.bar(index,\n",
    "           A_counts, \n",
    "           bar_width,\n",
    "           alpha=.4,\n",
    "           label=\"Coder A\") \n",
    "B = plt.bar(index+0.2,\n",
    "            B_counts,\n",
    "            bar_width,\n",
    "            alpha=.4,\n",
    "            label=\"Coder B\")\n",
    "def createLabels(data):\n",
    "    for item in data:\n",
    "        height = item.get_height()\n",
    "        plt.text(\n",
    "            item.get_x()+item.get_width()/2., \n",
    "            height*1.05, \n",
    "            '%d' % int(height),\n",
    "            ha = \"center\",\n",
    "            va = \"bottom\",\n",
    "        )\n",
    "createLabels(A)\n",
    "createLabels(B)\n",
    "plt.xlabel(\"Ratings\")\n",
    "plt.ylabel(\"Counts\")\n",
    "plt.xticks(index+.3 / 2 ,(\"0\",\"1\",\"2\",\"3\"))\n",
    "plt.legend() #要使用label要加這行\n",
    "#plt.title(\"The Distribution of Dark Humor Ratings Aggreement\")\n",
    "#plt.grid(True)\n",
    "plt.show()\n",
    "\n"
   ]
  },
  {
   "cell_type": "code",
   "execution_count": 35,
   "metadata": {},
   "outputs": [
    {
     "name": "stdout",
     "output_type": "stream",
     "text": [
      "count    1002.000000\n",
      "mean        0.714072\n",
      "std         0.897511\n",
      "min         0.000000\n",
      "25%         0.000000\n",
      "50%         0.000000\n",
      "75%         1.500000\n",
      "max         3.000000\n",
      "Name: avg_rat, dtype: float64\n"
     ]
    }
   ],
   "source": [
    "df2['avg_rat']=df2[['dh_1', 'dh_2']].mean(axis=1)\n",
    "print(df2['avg_rat'].describe())"
   ]
  },
  {
   "cell_type": "code",
   "execution_count": 36,
   "metadata": {},
   "outputs": [
    {
     "data": {
      "text/html": [
       "<div>\n",
       "<style scoped>\n",
       "    .dataframe tbody tr th:only-of-type {\n",
       "        vertical-align: middle;\n",
       "    }\n",
       "\n",
       "    .dataframe tbody tr th {\n",
       "        vertical-align: top;\n",
       "    }\n",
       "\n",
       "    .dataframe thead th {\n",
       "        text-align: right;\n",
       "    }\n",
       "</style>\n",
       "<table border=\"1\" class=\"dataframe\">\n",
       "  <thead>\n",
       "    <tr style=\"text-align: right;\">\n",
       "      <th></th>\n",
       "      <th>ID</th>\n",
       "      <th>Images</th>\n",
       "      <th>OCR</th>\n",
       "      <th>Template_Name</th>\n",
       "      <th>dh_1</th>\n",
       "      <th>dh_2</th>\n",
       "      <th>cln_content</th>\n",
       "      <th>porn_score</th>\n",
       "      <th>profanity_score</th>\n",
       "      <th>pronoun_count</th>\n",
       "      <th>polarity_score</th>\n",
       "      <th>sentiment</th>\n",
       "      <th>avg_rat</th>\n",
       "    </tr>\n",
       "  </thead>\n",
       "  <tbody>\n",
       "    <tr>\n",
       "      <th>0</th>\n",
       "      <td>1</td>\n",
       "      <td>NaN</td>\n",
       "      <td>當我再差幾秒就遲到時，卻在這幾秒內衝到學校。我。學校。</td>\n",
       "      <td>自信的善逸</td>\n",
       "      <td>0</td>\n",
       "      <td>0</td>\n",
       "      <td>[當我, 再, 差, 幾秒, 就, 遲到, 時, ，, 卻, 在, 這幾秒, 內, 衝到, ...</td>\n",
       "      <td>0</td>\n",
       "      <td>0</td>\n",
       "      <td>1</td>\n",
       "      <td>0</td>\n",
       "      <td>0</td>\n",
       "      <td>0.0</td>\n",
       "    </tr>\n",
       "    <tr>\n",
       "      <th>1</th>\n",
       "      <td>2</td>\n",
       "      <td>NaN</td>\n",
       "      <td>當你以為他們要幫你拿倉鼠飼料來餵你吃，但手上卻是拿著兩條蟒蛇加上一個攝影機。</td>\n",
       "      <td>怕爆倉鼠</td>\n",
       "      <td>0</td>\n",
       "      <td>2</td>\n",
       "      <td>[當你以, 為, 他們, 要, 幫, 你, 拿, 倉鼠, 飼料, 來, 餵, 你, 吃, ，...</td>\n",
       "      <td>0</td>\n",
       "      <td>0</td>\n",
       "      <td>1</td>\n",
       "      <td>0</td>\n",
       "      <td>0</td>\n",
       "      <td>1.0</td>\n",
       "    </tr>\n",
       "    <tr>\n",
       "      <th>2</th>\n",
       "      <td>3</td>\n",
       "      <td>NaN</td>\n",
       "      <td>紅燈了行人大搖大擺的過馬路。行人。台灣的計程車司機\\n</td>\n",
       "      <td>小丑被車撞</td>\n",
       "      <td>0</td>\n",
       "      <td>1</td>\n",
       "      <td>[紅燈, 了, 行, 人大, 搖大, 擺, 的, 過馬路, 。, 行人, 。, 台灣, 的,...</td>\n",
       "      <td>0</td>\n",
       "      <td>0</td>\n",
       "      <td>0</td>\n",
       "      <td>0</td>\n",
       "      <td>0</td>\n",
       "      <td>0.5</td>\n",
       "    </tr>\n",
       "    <tr>\n",
       "      <th>3</th>\n",
       "      <td>4</td>\n",
       "      <td>NaN</td>\n",
       "      <td>辛普森家庭從來不會讓我失望。AREA 51 WARNING:DO NOT ENTER!\\n\\n</td>\n",
       "      <td>51禁區辛普森家族早就知道了</td>\n",
       "      <td>0</td>\n",
       "      <td>0</td>\n",
       "      <td>[辛普森, 家庭, 從來, 不會, 讓, 我, 失望, 。, AREA,  , 51,  ,...</td>\n",
       "      <td>0</td>\n",
       "      <td>0</td>\n",
       "      <td>1</td>\n",
       "      <td>-3</td>\n",
       "      <td>-1</td>\n",
       "      <td>0.0</td>\n",
       "    </tr>\n",
       "    <tr>\n",
       "      <th>4</th>\n",
       "      <td>5</td>\n",
       "      <td>NaN</td>\n",
       "      <td>武漢肺炎疫情日漸嚴重。習近平:</td>\n",
       "      <td>小熊維尼笑</td>\n",
       "      <td>0</td>\n",
       "      <td>1</td>\n",
       "      <td>[武漢, 肺炎, 疫情, 日漸, 嚴重, 。, 習近, 平, :]</td>\n",
       "      <td>0</td>\n",
       "      <td>0</td>\n",
       "      <td>0</td>\n",
       "      <td>-2</td>\n",
       "      <td>-1</td>\n",
       "      <td>0.5</td>\n",
       "    </tr>\n",
       "  </tbody>\n",
       "</table>\n",
       "</div>"
      ],
      "text/plain": [
       "   ID  Images                                              OCR  \\\n",
       "0   1     NaN                      當我再差幾秒就遲到時，卻在這幾秒內衝到學校。我。學校。   \n",
       "1   2     NaN           當你以為他們要幫你拿倉鼠飼料來餵你吃，但手上卻是拿著兩條蟒蛇加上一個攝影機。   \n",
       "2   3     NaN                      紅燈了行人大搖大擺的過馬路。行人。台灣的計程車司機\\n   \n",
       "3   4     NaN  辛普森家庭從來不會讓我失望。AREA 51 WARNING:DO NOT ENTER!\\n\\n   \n",
       "4   5     NaN                                  武漢肺炎疫情日漸嚴重。習近平:   \n",
       "\n",
       "    Template_Name  dh_1  dh_2  \\\n",
       "0           自信的善逸     0     0   \n",
       "1            怕爆倉鼠     0     2   \n",
       "2           小丑被車撞     0     1   \n",
       "3  51禁區辛普森家族早就知道了     0     0   \n",
       "4           小熊維尼笑     0     1   \n",
       "\n",
       "                                         cln_content  porn_score  \\\n",
       "0  [當我, 再, 差, 幾秒, 就, 遲到, 時, ，, 卻, 在, 這幾秒, 內, 衝到, ...           0   \n",
       "1  [當你以, 為, 他們, 要, 幫, 你, 拿, 倉鼠, 飼料, 來, 餵, 你, 吃, ，...           0   \n",
       "2  [紅燈, 了, 行, 人大, 搖大, 擺, 的, 過馬路, 。, 行人, 。, 台灣, 的,...           0   \n",
       "3  [辛普森, 家庭, 從來, 不會, 讓, 我, 失望, 。, AREA,  , 51,  ,...           0   \n",
       "4                  [武漢, 肺炎, 疫情, 日漸, 嚴重, 。, 習近, 平, :]           0   \n",
       "\n",
       "   profanity_score  pronoun_count  polarity_score sentiment  avg_rat  \n",
       "0                0              1               0         0      0.0  \n",
       "1                0              1               0         0      1.0  \n",
       "2                0              0               0         0      0.5  \n",
       "3                0              1              -3        -1      0.0  \n",
       "4                0              0              -2        -1      0.5  "
      ]
     },
     "execution_count": 36,
     "metadata": {},
     "output_type": "execute_result"
    }
   ],
   "source": [
    "df2.head(5)"
   ]
  },
  {
   "cell_type": "code",
   "execution_count": 38,
   "metadata": {},
   "outputs": [],
   "source": [
    "pickle.dump(df2, open('df2.pkl', 'wb'))\n",
    "#df = pickle.load(open('df_p2v2.pkl', 'rb')) "
   ]
  },
  {
   "cell_type": "code",
   "execution_count": null,
   "metadata": {},
   "outputs": [],
   "source": []
  }
 ],
 "metadata": {
  "kernelspec": {
   "display_name": "Python 3",
   "language": "python",
   "name": "python3"
  },
  "language_info": {
   "codemirror_mode": {
    "name": "ipython",
    "version": 3
   },
   "file_extension": ".py",
   "mimetype": "text/x-python",
   "name": "python",
   "nbconvert_exporter": "python",
   "pygments_lexer": "ipython3",
   "version": "3.7.2"
  }
 },
 "nbformat": 4,
 "nbformat_minor": 2
}
