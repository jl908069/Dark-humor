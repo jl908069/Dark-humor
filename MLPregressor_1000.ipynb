{
 "cells": [
  {
   "cell_type": "code",
   "execution_count": 1,
   "metadata": {},
   "outputs": [],
   "source": [
    "import pandas as pd\n",
    "import numpy as np\n",
    "import pickle\n",
    "from sklearn.neural_network import MLPRegressor\n",
    "from sklearn.neural_network import MLPClassifier\n",
    "from sklearn.metrics import mean_squared_error, mean_absolute_error, r2_score\n",
    "from sklearn.model_selection import train_test_split"
   ]
  },
  {
   "cell_type": "code",
   "execution_count": 2,
   "metadata": {},
   "outputs": [],
   "source": [
    "from sklearn import neural_network\n",
    "from sklearn.preprocessing import StandardScaler\n",
    "from sklearn.pipeline import Pipeline\n",
    "from sklearn.model_selection import KFold\n",
    "from sklearn.model_selection import cross_val_score\n",
    "from sklearn.metrics import accuracy_score\n",
    "from sklearn.preprocessing import MinMaxScaler\n",
    "import sklearn.model_selection\n",
    "from sklearn.model_selection import learning_curve\n",
    "import matplotlib.pyplot as plt\n",
    "import sys\n",
    "from math import sqrt"
   ]
  },
  {
   "cell_type": "code",
   "execution_count": 3,
   "metadata": {},
   "outputs": [
    {
     "name": "stderr",
     "output_type": "stream",
     "text": [
      "Using TensorFlow backend.\n"
     ]
    }
   ],
   "source": [
    "from keras.models import Sequential\n",
    "from keras.layers import Dense\n",
    "from keras.wrappers.scikit_learn import KerasRegressor\n",
    "from sklearn.model_selection import cross_val_score\n",
    "from sklearn.model_selection import KFold"
   ]
  },
  {
   "cell_type": "code",
   "execution_count": 4,
   "metadata": {},
   "outputs": [],
   "source": [
    "ocr_500=np.load('ocr_500.npy')\n",
    "tm_500=np.load('tm_500.npy')\n",
    "p2v2_500=np.load('p2v2_500.npy')\n",
    "p2v_500=np.load('p2v_500.npy')\n",
    "p2v3_500=np.load('p2v3_500.npy')\n",
    "tm_p2v_500=np.load('tm_p2v_500.npy')\n",
    "tm_p2v2_500=np.load('tm_p2v2_500.npy')\n",
    "tm_p2v3_500=np.load('tm_p2v3_500.npy')\n",
    "ocr_tm_500=np.load('ocr_tm_500.npy')\n",
    "ocr_p2v_500=np.load('ocr_p2v_500.npy')\n",
    "ocr_p2v2_500=np.load('ocr_p2v2_500.npy')\n",
    "ocr_p2v3_500=np.load('ocr_p2v3_500.npy')\n",
    "ocr_tm_p2v_500=np.load('ocr_tm_p2v_500.npy')\n",
    "ocr_tm_p2v2_500=np.load('ocr_tm_p2v2_500.npy')\n",
    "ocr_tm_p2v3_500=np.load('ocr_tm_p2v3_500.npy')\n",
    "Combined_np1=np.load('Combined_np1.npy')\n",
    "Combined_np2=np.load('Combined_np2.npy')\n",
    "Combined_np3=np.load('Combined_np3.npy')"
   ]
  },
  {
   "cell_type": "code",
   "execution_count": 76,
   "metadata": {},
   "outputs": [],
   "source": [
    "ocr_merged=np.load('ocr_merged.npy')\n",
    "tm_merged=np.load('tm_merged.npy')\n",
    "p2v3_merged=np.load('p2v3_merged.npy')\n",
    "p2v2_merged=np.load('p2v2_merged.npy')\n",
    "p2v_merged=np.load('p2v_merged.npy')\n",
    "ocr_tm_merged=np.load('ocr_tm_merged.npy')\n",
    "ocr_p2v_merged=np.load('ocr_p2v_merged.npy')\n",
    "ocr_p2v2_merged=np.load('ocr_p2v2_merged.npy')\n",
    "ocr_p2v3_merged=np.load('ocr_p2v3_merged.npy')\n",
    "tm_p2v_merged=np.load('tm_p2v_merged.npy')\n",
    "tm_p2v2_merged=np.load('tm_p2v2_merged.npy')\n",
    "tm_p2v3_merged=np.load('tm_p2v3_merged.npy')\n",
    "ocr_p2v3_merged=np.load('ocr_p2v3_merged.npy')\n",
    "ocr_tm_p2v3_merged=np.load('ocr_tm_p2v3_merged.npy')\n",
    "ocr_tm_p2v2_merged=np.load('ocr_tm_p2v2_merged.npy')\n",
    "ocr_tm_p2v_merged=np.load('ocr_tm_p2v_merged.npy')"
   ]
  },
  {
   "cell_type": "code",
   "execution_count": 103,
   "metadata": {},
   "outputs": [],
   "source": [
    "ocr_annox_1000=np.load('ocr_annox_1000.npy')\n",
    "tm_annox_1000=np.load('tm_annox_1000.npy')\n",
    "p2v_annox_1000=np.load('p2v_annox_1000.npy')\n",
    "tm_p2v_annox_1000=np.load('tm_p2v_annox_1000.npy')\n",
    "ocr_p2v_annox_1000=np.load('ocr_p2v_annox_1000.npy')\n",
    "ocr_tm_annox_1000=np.load('ocr_tm_annox_1000.npy')"
   ]
  },
  {
   "cell_type": "code",
   "execution_count": 104,
   "metadata": {},
   "outputs": [],
   "source": [
    "p2v2_annox_1000=np.load('p2v2_annox_1000.npy')\n",
    "p2v3_annox_1000=np.load('p2v3_annox_1000.npy')\n",
    "tm_p2v2_annox_1000=np.load('tm_p2v2_annox_1000.npy')\n",
    "tm_p2v3_annox_1000=np.load('tm_p2v3_annox_1000.npy')\n",
    "ocr_p2v2_annox_1000=np.load('ocr_p2v2_annox_1000.npy')\n",
    "ocr_p2v3_annox_1000=np.load('ocr_p2v3_annox_1000.npy')"
   ]
  },
  {
   "cell_type": "code",
   "execution_count": 131,
   "metadata": {},
   "outputs": [],
   "source": [
    "ocr_tm_p2v_annox_1000=np.load('ocr_tm_p2v_annox_1000.npy')\n",
    "ocr_tm_p2v2_annox_1000=np.load('ocr_tm_p2v2_annox_1000.npy')\n",
    "ocr_tm_p2v3_annox_1000=np.load('ocr_tm_p2v3_annox_1000.npy')"
   ]
  },
  {
   "cell_type": "code",
   "execution_count": 15,
   "metadata": {},
   "outputs": [],
   "source": [
    "df2 = pickle.load(open('df2.pkl', 'rb')) "
   ]
  },
  {
   "cell_type": "code",
   "execution_count": 16,
   "metadata": {},
   "outputs": [
    {
     "data": {
      "text/html": [
       "<div>\n",
       "<style scoped>\n",
       "    .dataframe tbody tr th:only-of-type {\n",
       "        vertical-align: middle;\n",
       "    }\n",
       "\n",
       "    .dataframe tbody tr th {\n",
       "        vertical-align: top;\n",
       "    }\n",
       "\n",
       "    .dataframe thead th {\n",
       "        text-align: right;\n",
       "    }\n",
       "</style>\n",
       "<table border=\"1\" class=\"dataframe\">\n",
       "  <thead>\n",
       "    <tr style=\"text-align: right;\">\n",
       "      <th></th>\n",
       "      <th>ID</th>\n",
       "      <th>Images</th>\n",
       "      <th>OCR</th>\n",
       "      <th>Template_Name</th>\n",
       "      <th>dh_1</th>\n",
       "      <th>dh_2</th>\n",
       "      <th>cln_content</th>\n",
       "      <th>porn_score</th>\n",
       "      <th>profanity_score</th>\n",
       "      <th>pronoun_count</th>\n",
       "      <th>polarity_score</th>\n",
       "      <th>sentiment</th>\n",
       "      <th>avg_rat</th>\n",
       "      <th>min_max</th>\n",
       "    </tr>\n",
       "  </thead>\n",
       "  <tbody>\n",
       "    <tr>\n",
       "      <th>0</th>\n",
       "      <td>1</td>\n",
       "      <td>NaN</td>\n",
       "      <td>當我再差幾秒就遲到時，卻在這幾秒內衝到學校。我。學校。</td>\n",
       "      <td>自信的善逸</td>\n",
       "      <td>0</td>\n",
       "      <td>0</td>\n",
       "      <td>[當我, 再, 差, 幾秒, 就, 遲到, 時, ，, 卻, 在, 這幾秒, 內, 衝到, ...</td>\n",
       "      <td>0</td>\n",
       "      <td>0</td>\n",
       "      <td>1</td>\n",
       "      <td>0</td>\n",
       "      <td>0</td>\n",
       "      <td>0.0</td>\n",
       "      <td>0.000000</td>\n",
       "    </tr>\n",
       "    <tr>\n",
       "      <th>1</th>\n",
       "      <td>2</td>\n",
       "      <td>NaN</td>\n",
       "      <td>當你以為他們要幫你拿倉鼠飼料來餵你吃，但手上卻是拿著兩條蟒蛇加上一個攝影機。</td>\n",
       "      <td>怕爆倉鼠</td>\n",
       "      <td>0</td>\n",
       "      <td>2</td>\n",
       "      <td>[當你以, 為, 他們, 要, 幫, 你, 拿, 倉鼠, 飼料, 來, 餵, 你, 吃, ，...</td>\n",
       "      <td>0</td>\n",
       "      <td>0</td>\n",
       "      <td>1</td>\n",
       "      <td>0</td>\n",
       "      <td>0</td>\n",
       "      <td>1.0</td>\n",
       "      <td>0.333333</td>\n",
       "    </tr>\n",
       "    <tr>\n",
       "      <th>2</th>\n",
       "      <td>3</td>\n",
       "      <td>NaN</td>\n",
       "      <td>紅燈了行人大搖大擺的過馬路。行人。台灣的計程車司機\\n</td>\n",
       "      <td>小丑被車撞</td>\n",
       "      <td>0</td>\n",
       "      <td>1</td>\n",
       "      <td>[紅燈, 了, 行, 人大, 搖大, 擺, 的, 過馬路, 。, 行人, 。, 台灣, 的,...</td>\n",
       "      <td>0</td>\n",
       "      <td>0</td>\n",
       "      <td>0</td>\n",
       "      <td>0</td>\n",
       "      <td>0</td>\n",
       "      <td>0.5</td>\n",
       "      <td>0.166667</td>\n",
       "    </tr>\n",
       "    <tr>\n",
       "      <th>3</th>\n",
       "      <td>4</td>\n",
       "      <td>NaN</td>\n",
       "      <td>辛普森家庭從來不會讓我失望。AREA 51 WARNING:DO NOT ENTER!\\n\\n</td>\n",
       "      <td>51禁區辛普森家族早就知道了</td>\n",
       "      <td>0</td>\n",
       "      <td>0</td>\n",
       "      <td>[辛普森, 家庭, 從來, 不會, 讓, 我, 失望, 。, AREA,  , 51,  ,...</td>\n",
       "      <td>0</td>\n",
       "      <td>0</td>\n",
       "      <td>1</td>\n",
       "      <td>-3</td>\n",
       "      <td>-1</td>\n",
       "      <td>0.0</td>\n",
       "      <td>0.000000</td>\n",
       "    </tr>\n",
       "    <tr>\n",
       "      <th>4</th>\n",
       "      <td>5</td>\n",
       "      <td>NaN</td>\n",
       "      <td>武漢肺炎疫情日漸嚴重。習近平:</td>\n",
       "      <td>小熊維尼笑</td>\n",
       "      <td>0</td>\n",
       "      <td>1</td>\n",
       "      <td>[武漢, 肺炎, 疫情, 日漸, 嚴重, 。, 習近, 平, :]</td>\n",
       "      <td>0</td>\n",
       "      <td>0</td>\n",
       "      <td>0</td>\n",
       "      <td>-2</td>\n",
       "      <td>-1</td>\n",
       "      <td>0.5</td>\n",
       "      <td>0.166667</td>\n",
       "    </tr>\n",
       "  </tbody>\n",
       "</table>\n",
       "</div>"
      ],
      "text/plain": [
       "   ID  Images                                              OCR  \\\n",
       "0   1     NaN                      當我再差幾秒就遲到時，卻在這幾秒內衝到學校。我。學校。   \n",
       "1   2     NaN           當你以為他們要幫你拿倉鼠飼料來餵你吃，但手上卻是拿著兩條蟒蛇加上一個攝影機。   \n",
       "2   3     NaN                      紅燈了行人大搖大擺的過馬路。行人。台灣的計程車司機\\n   \n",
       "3   4     NaN  辛普森家庭從來不會讓我失望。AREA 51 WARNING:DO NOT ENTER!\\n\\n   \n",
       "4   5     NaN                                  武漢肺炎疫情日漸嚴重。習近平:   \n",
       "\n",
       "    Template_Name  dh_1  dh_2  \\\n",
       "0           自信的善逸     0     0   \n",
       "1            怕爆倉鼠     0     2   \n",
       "2           小丑被車撞     0     1   \n",
       "3  51禁區辛普森家族早就知道了     0     0   \n",
       "4           小熊維尼笑     0     1   \n",
       "\n",
       "                                         cln_content  porn_score  \\\n",
       "0  [當我, 再, 差, 幾秒, 就, 遲到, 時, ，, 卻, 在, 這幾秒, 內, 衝到, ...           0   \n",
       "1  [當你以, 為, 他們, 要, 幫, 你, 拿, 倉鼠, 飼料, 來, 餵, 你, 吃, ，...           0   \n",
       "2  [紅燈, 了, 行, 人大, 搖大, 擺, 的, 過馬路, 。, 行人, 。, 台灣, 的,...           0   \n",
       "3  [辛普森, 家庭, 從來, 不會, 讓, 我, 失望, 。, AREA,  , 51,  ,...           0   \n",
       "4                  [武漢, 肺炎, 疫情, 日漸, 嚴重, 。, 習近, 平, :]           0   \n",
       "\n",
       "   profanity_score  pronoun_count  polarity_score sentiment  avg_rat   min_max  \n",
       "0                0              1               0         0      0.0  0.000000  \n",
       "1                0              1               0         0      1.0  0.333333  \n",
       "2                0              0               0         0      0.5  0.166667  \n",
       "3                0              1              -3        -1      0.0  0.000000  \n",
       "4                0              0              -2        -1      0.5  0.166667  "
      ]
     },
     "execution_count": 16,
     "metadata": {},
     "output_type": "execute_result"
    }
   ],
   "source": [
    "df2.head(5)"
   ]
  },
  {
   "cell_type": "code",
   "execution_count": 17,
   "metadata": {},
   "outputs": [],
   "source": [
    "x = ocr_merged\n",
    "y = df2.iloc[:,13].values"
   ]
  },
  {
   "cell_type": "code",
   "execution_count": 63,
   "metadata": {},
   "outputs": [
    {
     "data": {
      "text/html": [
       "<div>\n",
       "<style scoped>\n",
       "    .dataframe tbody tr th:only-of-type {\n",
       "        vertical-align: middle;\n",
       "    }\n",
       "\n",
       "    .dataframe tbody tr th {\n",
       "        vertical-align: top;\n",
       "    }\n",
       "\n",
       "    .dataframe thead th {\n",
       "        text-align: right;\n",
       "    }\n",
       "</style>\n",
       "<table border=\"1\" class=\"dataframe\">\n",
       "  <thead>\n",
       "    <tr style=\"text-align: right;\">\n",
       "      <th></th>\n",
       "      <th>Images</th>\n",
       "    </tr>\n",
       "  </thead>\n",
       "  <tbody>\n",
       "    <tr>\n",
       "      <th>0</th>\n",
       "      <td>NaN</td>\n",
       "    </tr>\n",
       "    <tr>\n",
       "      <th>1</th>\n",
       "      <td>NaN</td>\n",
       "    </tr>\n",
       "    <tr>\n",
       "      <th>2</th>\n",
       "      <td>NaN</td>\n",
       "    </tr>\n",
       "    <tr>\n",
       "      <th>3</th>\n",
       "      <td>NaN</td>\n",
       "    </tr>\n",
       "    <tr>\n",
       "      <th>4</th>\n",
       "      <td>NaN</td>\n",
       "    </tr>\n",
       "    <tr>\n",
       "      <th>...</th>\n",
       "      <td>...</td>\n",
       "    </tr>\n",
       "    <tr>\n",
       "      <th>495</th>\n",
       "      <td>NaN</td>\n",
       "    </tr>\n",
       "    <tr>\n",
       "      <th>496</th>\n",
       "      <td>NaN</td>\n",
       "    </tr>\n",
       "    <tr>\n",
       "      <th>497</th>\n",
       "      <td>NaN</td>\n",
       "    </tr>\n",
       "    <tr>\n",
       "      <th>498</th>\n",
       "      <td>NaN</td>\n",
       "    </tr>\n",
       "    <tr>\n",
       "      <th>499</th>\n",
       "      <td>NaN</td>\n",
       "    </tr>\n",
       "  </tbody>\n",
       "</table>\n",
       "<p>500 rows × 1 columns</p>\n",
       "</div>"
      ],
      "text/plain": [
       "     Images\n",
       "0       NaN\n",
       "1       NaN\n",
       "2       NaN\n",
       "3       NaN\n",
       "4       NaN\n",
       "..      ...\n",
       "495     NaN\n",
       "496     NaN\n",
       "497     NaN\n",
       "498     NaN\n",
       "499     NaN\n",
       "\n",
       "[500 rows x 1 columns]"
      ]
     },
     "execution_count": 63,
     "metadata": {},
     "output_type": "execute_result"
    }
   ],
   "source": [
    "col_mask=df.isnull().any(axis=0)\n",
    "row_mask=df.isnull().any(axis=1)\n",
    "df.loc[row_mask,col_mask]"
   ]
  },
  {
   "cell_type": "code",
   "execution_count": 5,
   "metadata": {},
   "outputs": [
    {
     "data": {
      "text/plain": [
       "1002"
      ]
     },
     "execution_count": 5,
     "metadata": {},
     "output_type": "execute_result"
    }
   ],
   "source": [
    "#a=np.ones((501,1))\n",
    "#b=np.zeros((501,1))\n",
    "#dh_score=np.vstack((a, b))\n",
    "#len(dh_score)"
   ]
  },
  {
   "cell_type": "markdown",
   "metadata": {},
   "source": [
    "## Keras MLP"
   ]
  },
  {
   "cell_type": "code",
   "execution_count": 28,
   "metadata": {},
   "outputs": [],
   "source": [
    "x = ocr_merged\n",
    "y = df2.iloc[:,13].values"
   ]
  },
  {
   "cell_type": "code",
   "execution_count": 29,
   "metadata": {},
   "outputs": [
    {
     "name": "stdout",
     "output_type": "stream",
     "text": [
      "WARNING:tensorflow:From /home/jl8394/humor/lib/python3.6/site-packages/keras/backend/tensorflow_backend.py:66: The name tf.get_default_graph is deprecated. Please use tf.compat.v1.get_default_graph instead.\n",
      "\n",
      "WARNING:tensorflow:From /home/jl8394/humor/lib/python3.6/site-packages/keras/backend/tensorflow_backend.py:541: The name tf.placeholder is deprecated. Please use tf.compat.v1.placeholder instead.\n",
      "\n",
      "WARNING:tensorflow:From /home/jl8394/humor/lib/python3.6/site-packages/keras/backend/tensorflow_backend.py:4432: The name tf.random_uniform is deprecated. Please use tf.random.uniform instead.\n",
      "\n",
      "WARNING:tensorflow:From /home/jl8394/humor/lib/python3.6/site-packages/keras/optimizers.py:793: The name tf.train.Optimizer is deprecated. Please use tf.compat.v1.train.Optimizer instead.\n",
      "\n",
      "WARNING:tensorflow:From /home/jl8394/humor/lib/python3.6/site-packages/keras/backend/tensorflow_backend.py:1033: The name tf.assign_add is deprecated. Please use tf.compat.v1.assign_add instead.\n",
      "\n",
      "WARNING:tensorflow:From /home/jl8394/humor/lib/python3.6/site-packages/keras/backend/tensorflow_backend.py:1020: The name tf.assign is deprecated. Please use tf.compat.v1.assign instead.\n",
      "\n",
      "WARNING:tensorflow:From /home/jl8394/humor/lib/python3.6/site-packages/keras/backend/tensorflow_backend.py:3005: The name tf.Session is deprecated. Please use tf.compat.v1.Session instead.\n",
      "\n",
      "WARNING:tensorflow:From /home/jl8394/humor/lib/python3.6/site-packages/keras/backend/tensorflow_backend.py:190: The name tf.get_default_session is deprecated. Please use tf.compat.v1.get_default_session instead.\n",
      "\n",
      "WARNING:tensorflow:From /home/jl8394/humor/lib/python3.6/site-packages/keras/backend/tensorflow_backend.py:197: The name tf.ConfigProto is deprecated. Please use tf.compat.v1.ConfigProto instead.\n",
      "\n",
      "WARNING:tensorflow:From /home/jl8394/humor/lib/python3.6/site-packages/keras/backend/tensorflow_backend.py:207: The name tf.global_variables is deprecated. Please use tf.compat.v1.global_variables instead.\n",
      "\n",
      "WARNING:tensorflow:From /home/jl8394/humor/lib/python3.6/site-packages/keras/backend/tensorflow_backend.py:216: The name tf.is_variable_initialized is deprecated. Please use tf.compat.v1.is_variable_initialized instead.\n",
      "\n",
      "WARNING:tensorflow:From /home/jl8394/humor/lib/python3.6/site-packages/keras/backend/tensorflow_backend.py:223: The name tf.variables_initializer is deprecated. Please use tf.compat.v1.variables_initializer instead.\n",
      "\n",
      "Results: -0.10 (0.01) MSE\n",
      "Results: -0.12 (0.09) R2\n"
     ]
    }
   ],
   "source": [
    "seed = 1\n",
    "\n",
    "def baseline_model():\n",
    "    model = Sequential()\n",
    "    model.add(Dense(100, input_dim=len(x[0]), activation='relu'))\n",
    "    model.add(Dense(100, activation='relu'))\n",
    "    model.add(Dense(1))\n",
    "    model.compile(loss='mean_squared_error', optimizer='adam',metrics=['mean_squared_error'])\n",
    "    return model\n",
    "\n",
    "\n",
    "estimator = KerasRegressor(build_fn=baseline_model, nb_epoch=100, batch_size=100, verbose=False)\n",
    "kfold = KFold(n_splits=10)\n",
    "results = cross_val_score(estimator, x, y, cv=kfold)\n",
    "print(\"Results: %.2f (%.2f) MSE\" % (results.mean(), results.std()))\n",
    "\n",
    "acc = cross_val_score(estimator,x, y, scoring='r2',cv = kfold)\n",
    "print(\"Results: %.2f (%.2f) R2\" % (acc.mean(), acc.std()))"
   ]
  },
  {
   "cell_type": "code",
   "execution_count": 31,
   "metadata": {},
   "outputs": [
    {
     "name": "stdout",
     "output_type": "stream",
     "text": [
      "Epoch 1/100\n",
      " - 1s - loss: 0.1107 - mean_squared_error: 0.1107\n",
      "Epoch 2/100\n",
      " - 0s - loss: 0.0967 - mean_squared_error: 0.0967\n",
      "Epoch 3/100\n",
      " - 0s - loss: 0.0851 - mean_squared_error: 0.0851\n",
      "Epoch 4/100\n",
      " - 0s - loss: 0.0813 - mean_squared_error: 0.0813\n",
      "Epoch 5/100\n",
      " - 0s - loss: 0.0799 - mean_squared_error: 0.0799\n",
      "Epoch 6/100\n",
      " - 0s - loss: 0.0749 - mean_squared_error: 0.0749\n",
      "Epoch 7/100\n",
      " - 0s - loss: 0.0719 - mean_squared_error: 0.0719\n",
      "Epoch 8/100\n",
      " - 0s - loss: 0.0666 - mean_squared_error: 0.0666\n",
      "Epoch 9/100\n",
      " - 0s - loss: 0.0618 - mean_squared_error: 0.0618\n",
      "Epoch 10/100\n",
      " - 0s - loss: 0.0575 - mean_squared_error: 0.0575\n",
      "Epoch 11/100\n",
      " - 0s - loss: 0.0540 - mean_squared_error: 0.0540\n",
      "Epoch 12/100\n",
      " - 0s - loss: 0.0499 - mean_squared_error: 0.0499\n",
      "Epoch 13/100\n",
      " - 0s - loss: 0.0439 - mean_squared_error: 0.0439\n",
      "Epoch 14/100\n",
      " - 0s - loss: 0.0378 - mean_squared_error: 0.0378\n",
      "Epoch 15/100\n",
      " - 0s - loss: 0.0330 - mean_squared_error: 0.0330\n",
      "Epoch 16/100\n",
      " - 0s - loss: 0.0308 - mean_squared_error: 0.0308\n",
      "Epoch 17/100\n",
      " - 0s - loss: 0.0263 - mean_squared_error: 0.0263\n",
      "Epoch 18/100\n",
      " - 0s - loss: 0.0237 - mean_squared_error: 0.0237\n",
      "Epoch 19/100\n",
      " - 0s - loss: 0.0197 - mean_squared_error: 0.0197\n",
      "Epoch 20/100\n",
      " - 0s - loss: 0.0169 - mean_squared_error: 0.0169\n",
      "Epoch 21/100\n",
      " - 0s - loss: 0.0149 - mean_squared_error: 0.0149\n",
      "Epoch 22/100\n",
      " - 0s - loss: 0.0161 - mean_squared_error: 0.0161\n",
      "Epoch 23/100\n",
      " - 0s - loss: 0.0160 - mean_squared_error: 0.0160\n",
      "Epoch 24/100\n",
      " - 0s - loss: 0.0143 - mean_squared_error: 0.0143\n",
      "Epoch 25/100\n",
      " - 0s - loss: 0.0127 - mean_squared_error: 0.0127\n",
      "Epoch 26/100\n",
      " - 0s - loss: 0.0119 - mean_squared_error: 0.0119\n",
      "Epoch 27/100\n",
      " - 0s - loss: 0.0117 - mean_squared_error: 0.0117\n",
      "Epoch 28/100\n",
      " - 0s - loss: 0.0087 - mean_squared_error: 0.0087\n",
      "Epoch 29/100\n",
      " - 0s - loss: 0.0072 - mean_squared_error: 0.0072\n",
      "Epoch 30/100\n",
      " - 0s - loss: 0.0068 - mean_squared_error: 0.0068\n",
      "Epoch 31/100\n",
      " - 0s - loss: 0.0062 - mean_squared_error: 0.0062\n",
      "Epoch 32/100\n",
      " - 0s - loss: 0.0058 - mean_squared_error: 0.0058\n",
      "Epoch 33/100\n",
      " - 0s - loss: 0.0058 - mean_squared_error: 0.0058\n",
      "Epoch 34/100\n",
      " - 0s - loss: 0.0050 - mean_squared_error: 0.0050\n",
      "Epoch 35/100\n",
      " - 0s - loss: 0.0041 - mean_squared_error: 0.0041\n",
      "Epoch 36/100\n",
      " - 0s - loss: 0.0037 - mean_squared_error: 0.0037\n",
      "Epoch 37/100\n",
      " - 0s - loss: 0.0032 - mean_squared_error: 0.0032\n",
      "Epoch 38/100\n",
      " - 0s - loss: 0.0028 - mean_squared_error: 0.0028\n",
      "Epoch 39/100\n",
      " - 0s - loss: 0.0025 - mean_squared_error: 0.0025\n",
      "Epoch 40/100\n",
      " - 0s - loss: 0.0022 - mean_squared_error: 0.0022\n",
      "Epoch 41/100\n",
      " - 0s - loss: 0.0022 - mean_squared_error: 0.0022\n",
      "Epoch 42/100\n",
      " - 0s - loss: 0.0024 - mean_squared_error: 0.0024\n",
      "Epoch 43/100\n",
      " - 0s - loss: 0.0028 - mean_squared_error: 0.0028\n",
      "Epoch 44/100\n",
      " - 0s - loss: 0.0027 - mean_squared_error: 0.0027\n",
      "Epoch 45/100\n",
      " - 0s - loss: 0.0037 - mean_squared_error: 0.0037\n",
      "Epoch 46/100\n",
      " - 0s - loss: 0.0039 - mean_squared_error: 0.0039\n",
      "Epoch 47/100\n",
      " - 0s - loss: 0.0025 - mean_squared_error: 0.0025\n",
      "Epoch 48/100\n",
      " - 0s - loss: 0.0024 - mean_squared_error: 0.0024\n",
      "Epoch 49/100\n",
      " - 0s - loss: 0.0020 - mean_squared_error: 0.0020\n",
      "Epoch 50/100\n",
      " - 0s - loss: 0.0018 - mean_squared_error: 0.0018\n",
      "Epoch 51/100\n",
      " - 0s - loss: 0.0101 - mean_squared_error: 0.0101\n",
      "Epoch 52/100\n",
      " - 0s - loss: 0.0076 - mean_squared_error: 0.0076\n",
      "Epoch 53/100\n",
      " - 0s - loss: 0.0049 - mean_squared_error: 0.0049\n",
      "Epoch 54/100\n",
      " - 0s - loss: 0.0031 - mean_squared_error: 0.0031\n",
      "Epoch 55/100\n",
      " - 0s - loss: 0.0027 - mean_squared_error: 0.0027\n",
      "Epoch 56/100\n",
      " - 0s - loss: 0.0025 - mean_squared_error: 0.0025\n",
      "Epoch 57/100\n",
      " - 0s - loss: 0.0023 - mean_squared_error: 0.0023\n",
      "Epoch 58/100\n",
      " - 0s - loss: 0.0021 - mean_squared_error: 0.0021\n",
      "Epoch 59/100\n",
      " - 0s - loss: 0.0018 - mean_squared_error: 0.0018\n",
      "Epoch 60/100\n",
      " - 0s - loss: 0.0016 - mean_squared_error: 0.0016\n",
      "Epoch 61/100\n",
      " - 0s - loss: 0.0015 - mean_squared_error: 0.0015\n",
      "Epoch 62/100\n",
      " - 0s - loss: 0.0014 - mean_squared_error: 0.0014\n",
      "Epoch 63/100\n",
      " - 0s - loss: 0.0014 - mean_squared_error: 0.0014\n",
      "Epoch 64/100\n",
      " - 0s - loss: 0.0014 - mean_squared_error: 0.0014\n",
      "Epoch 65/100\n",
      " - 0s - loss: 0.0013 - mean_squared_error: 0.0013\n",
      "Epoch 66/100\n",
      " - 0s - loss: 0.0013 - mean_squared_error: 0.0013\n",
      "Epoch 67/100\n",
      " - 0s - loss: 0.0013 - mean_squared_error: 0.0013\n",
      "Epoch 68/100\n",
      " - 0s - loss: 0.0013 - mean_squared_error: 0.0013\n",
      "Epoch 69/100\n",
      " - 0s - loss: 0.0012 - mean_squared_error: 0.0012\n",
      "Epoch 70/100\n",
      " - 0s - loss: 0.0014 - mean_squared_error: 0.0014\n",
      "Epoch 71/100\n",
      " - 0s - loss: 0.0013 - mean_squared_error: 0.0013\n",
      "Epoch 72/100\n",
      " - 0s - loss: 0.0013 - mean_squared_error: 0.0013\n",
      "Epoch 73/100\n",
      " - 0s - loss: 0.0012 - mean_squared_error: 0.0012\n",
      "Epoch 74/100\n",
      " - 0s - loss: 0.0074 - mean_squared_error: 0.0074\n",
      "Epoch 75/100\n",
      " - 0s - loss: 0.0059 - mean_squared_error: 0.0059\n",
      "Epoch 76/100\n",
      " - 0s - loss: 0.0038 - mean_squared_error: 0.0038\n",
      "Epoch 77/100\n",
      " - 0s - loss: 0.0028 - mean_squared_error: 0.0028\n",
      "Epoch 78/100\n",
      " - 0s - loss: 0.0029 - mean_squared_error: 0.0029\n",
      "Epoch 79/100\n",
      " - 0s - loss: 0.0025 - mean_squared_error: 0.0025\n",
      "Epoch 80/100\n",
      " - 0s - loss: 0.0023 - mean_squared_error: 0.0023\n",
      "Epoch 81/100\n",
      " - 0s - loss: 0.0022 - mean_squared_error: 0.0022\n",
      "Epoch 82/100\n",
      " - 0s - loss: 0.0020 - mean_squared_error: 0.0020\n",
      "Epoch 83/100\n",
      " - 0s - loss: 0.0016 - mean_squared_error: 0.0016\n",
      "Epoch 84/100\n",
      " - 0s - loss: 0.0023 - mean_squared_error: 0.0023\n",
      "Epoch 85/100\n",
      " - 0s - loss: 0.0033 - mean_squared_error: 0.0033\n",
      "Epoch 86/100\n",
      " - 0s - loss: 0.0028 - mean_squared_error: 0.0028\n",
      "Epoch 87/100\n",
      " - 0s - loss: 0.0028 - mean_squared_error: 0.0028\n",
      "Epoch 88/100\n",
      " - 0s - loss: 0.0035 - mean_squared_error: 0.0035\n",
      "Epoch 89/100\n",
      " - 0s - loss: 0.0028 - mean_squared_error: 0.0028\n",
      "Epoch 90/100\n",
      " - 0s - loss: 0.0026 - mean_squared_error: 0.0026\n",
      "Epoch 91/100\n",
      " - 0s - loss: 0.0022 - mean_squared_error: 0.0022\n",
      "Epoch 92/100\n",
      " - 0s - loss: 0.0018 - mean_squared_error: 0.0018\n",
      "Epoch 93/100\n",
      " - 0s - loss: 0.0016 - mean_squared_error: 0.0016\n",
      "Epoch 94/100\n",
      " - 0s - loss: 0.0015 - mean_squared_error: 0.0015\n",
      "Epoch 95/100\n",
      " - 0s - loss: 0.0014 - mean_squared_error: 0.0014\n",
      "Epoch 96/100\n",
      " - 0s - loss: 0.0013 - mean_squared_error: 0.0013\n",
      "Epoch 97/100\n",
      " - 0s - loss: 0.0013 - mean_squared_error: 0.0013\n",
      "Epoch 98/100\n",
      " - 0s - loss: 0.0012 - mean_squared_error: 0.0012\n",
      "Epoch 99/100\n",
      " - 0s - loss: 0.0012 - mean_squared_error: 0.0012\n",
      "Epoch 100/100\n",
      " - 0s - loss: 0.0012 - mean_squared_error: 0.0012\n"
     ]
    }
   ],
   "source": [
    "#loss: value of loss function for your training data, acc: accuracy value for your training data.\n",
    "history = estimator.fit(x, y,\n",
    "                    batch_size=100,\n",
    "                    epochs=100,\n",
    "                    verbose=2)                    "
   ]
  },
  {
   "cell_type": "code",
   "execution_count": 133,
   "metadata": {},
   "outputs": [
    {
     "ename": "KeyError",
     "evalue": "'mean_squared_error'",
     "output_type": "error",
     "traceback": [
      "\u001b[0;31m---------------------------------------------------------------------------\u001b[0m",
      "\u001b[0;31mKeyError\u001b[0m                                  Traceback (most recent call last)",
      "\u001b[0;32m<ipython-input-133-9d48c7385d98>\u001b[0m in \u001b[0;36m<module>\u001b[0;34m\u001b[0m\n\u001b[1;32m      1\u001b[0m \u001b[0;31m# summarize history for loss\u001b[0m\u001b[0;34m\u001b[0m\u001b[0;34m\u001b[0m\u001b[0;34m\u001b[0m\u001b[0m\n\u001b[1;32m      2\u001b[0m \u001b[0;34m\u001b[0m\u001b[0m\n\u001b[0;32m----> 3\u001b[0;31m \u001b[0mplt\u001b[0m\u001b[0;34m.\u001b[0m\u001b[0mplot\u001b[0m\u001b[0;34m(\u001b[0m\u001b[0mhistory\u001b[0m\u001b[0;34m.\u001b[0m\u001b[0mhistory\u001b[0m\u001b[0;34m[\u001b[0m\u001b[0;34m'mean_squared_error'\u001b[0m\u001b[0;34m]\u001b[0m\u001b[0;34m)\u001b[0m\u001b[0;34m\u001b[0m\u001b[0;34m\u001b[0m\u001b[0m\n\u001b[0m\u001b[1;32m      4\u001b[0m \u001b[0mplt\u001b[0m\u001b[0;34m.\u001b[0m\u001b[0mtitle\u001b[0m\u001b[0;34m(\u001b[0m\u001b[0;34m'p2v3 model loss'\u001b[0m\u001b[0;34m)\u001b[0m\u001b[0;34m\u001b[0m\u001b[0;34m\u001b[0m\u001b[0m\n\u001b[1;32m      5\u001b[0m \u001b[0mplt\u001b[0m\u001b[0;34m.\u001b[0m\u001b[0mylabel\u001b[0m\u001b[0;34m(\u001b[0m\u001b[0;34m'loss'\u001b[0m\u001b[0;34m)\u001b[0m\u001b[0;34m\u001b[0m\u001b[0;34m\u001b[0m\u001b[0m\n",
      "\u001b[0;31mKeyError\u001b[0m: 'mean_squared_error'"
     ]
    }
   ],
   "source": [
    "# summarize history for loss\n",
    "\n",
    "plt.plot(history.history['mean_squared_error'])\n",
    "plt.title('p2v3 model loss')\n",
    "plt.ylabel('loss')\n",
    "plt.xlabel('epoch')\n",
    "plt.show()"
   ]
  },
  {
   "cell_type": "markdown",
   "metadata": {},
   "source": [
    "## MLP Regressor in Scikit Learn"
   ]
  },
  {
   "cell_type": "code",
   "execution_count": 164,
   "metadata": {},
   "outputs": [],
   "source": [
    "x = ocr_tm_p2v3_annox_1000\n",
    "y = df2.iloc[:,13].values"
   ]
  },
  {
   "cell_type": "code",
   "execution_count": 53,
   "metadata": {},
   "outputs": [],
   "source": [
    "#x_train, x_test, y_train, y_test = train_test_split(x, y, test_size=.3, random_state=1)"
   ]
  },
  {
   "cell_type": "code",
   "execution_count": 106,
   "metadata": {},
   "outputs": [],
   "source": [
    "mlp = neural_network.MLPRegressor(hidden_layer_sizes=(100,100,100), activation=\"relu\",\n",
    "                 solver='adam', alpha=0.01,\n",
    "                 max_fun=15000,\n",
    "                 early_stopping=True, validation_fraction=0.1,\n",
    "                 max_iter=1000,tol=1e-4,random_state=1)"
   ]
  },
  {
   "cell_type": "code",
   "execution_count": 165,
   "metadata": {
    "scrolled": true
   },
   "outputs": [
    {
     "data": {
      "text/plain": [
       "MLPRegressor(activation='relu', alpha=0.01, batch_size='auto', beta_1=0.9,\n",
       "             beta_2=0.999, early_stopping=True, epsilon=1e-08,\n",
       "             hidden_layer_sizes=(100, 100, 100), learning_rate='constant',\n",
       "             learning_rate_init=0.001, max_fun=15000, max_iter=1000,\n",
       "             momentum=0.9, n_iter_no_change=10, nesterovs_momentum=True,\n",
       "             power_t=0.5, random_state=1, shuffle=True, solver='adam',\n",
       "             tol=0.0001, validation_fraction=0.1, verbose=False,\n",
       "             warm_start=False)"
      ]
     },
     "execution_count": 165,
     "metadata": {},
     "output_type": "execute_result"
    }
   ],
   "source": [
    "mlp.fit(x, y)"
   ]
  },
  {
   "cell_type": "code",
   "execution_count": 166,
   "metadata": {},
   "outputs": [],
   "source": [
    "cv=KFold(n_splits=10)\n",
    "scorescrossval=cross_val_score(mlp,x,y,cv=cv,scoring='r2')\n",
    "losscrossval = -cross_val_score(mlp, x, y, cv=cv, scoring='neg_mean_squared_error')"
   ]
  },
  {
   "cell_type": "code",
   "execution_count": 27,
   "metadata": {},
   "outputs": [],
   "source": [
    "#nnr_pred = mlp.predict(x_test)\n",
    "#nny_pred= mlp.predict(x_train)\n",
    "#list_training_error = []\n",
    "#list_testing_error = []"
   ]
  },
  {
   "cell_type": "code",
   "execution_count": 167,
   "metadata": {
    "scrolled": true
   },
   "outputs": [
    {
     "name": "stdout",
     "output_type": "stream",
     "text": [
      "scores cross val [-0.04178032 -0.04904161 -0.03430207  0.00716283 -0.01542408  0.02072388\n",
      " -0.04237957 -0.091287   -0.09769323 -0.02420331]\n",
      "Accuracy: -0.04 (+/- 0.07)\n",
      "loss cross val [0.10597203 0.10275144 0.10170637 0.07450691 0.11315209 0.06707769\n",
      " 0.08227849 0.08602676 0.09019074 0.08415253]\n",
      "Average loss: 0.09078150632719206\n"
     ]
    }
   ],
   "source": [
    "print('scores cross val',scorescrossval)\n",
    "print('Accuracy: %0.2f (+/- %0.2f)'%(scorescrossval.mean(),scorescrossval.std()*2))\n",
    "print('loss cross val',losscrossval)\n",
    "print('Average loss:', (losscrossval.mean()))"
   ]
  },
  {
   "cell_type": "code",
   "execution_count": null,
   "metadata": {},
   "outputs": [],
   "source": [
    "#scores on training data\n",
    "neural_network_regression_score = mlp.score(x, y)\n",
    "neural_network_regression_score"
   ]
  },
  {
   "cell_type": "code",
   "execution_count": 12,
   "metadata": {},
   "outputs": [
    {
     "name": "stderr",
     "output_type": "stream",
     "text": [
      "/home/jl8394/humor/lib/python3.6/site-packages/sklearn/neural_network/_multilayer_perceptron.py:571: ConvergenceWarning: Stochastic Optimizer: Maximum iterations (200) reached and the optimization hasn't converged yet.\n",
      "  % self.max_iter, ConvergenceWarning)\n",
      "/home/jl8394/humor/lib/python3.6/site-packages/sklearn/neural_network/_multilayer_perceptron.py:571: ConvergenceWarning: Stochastic Optimizer: Maximum iterations (200) reached and the optimization hasn't converged yet.\n",
      "  % self.max_iter, ConvergenceWarning)\n",
      "/home/jl8394/humor/lib/python3.6/site-packages/sklearn/neural_network/_multilayer_perceptron.py:571: ConvergenceWarning: Stochastic Optimizer: Maximum iterations (200) reached and the optimization hasn't converged yet.\n",
      "  % self.max_iter, ConvergenceWarning)\n",
      "/home/jl8394/humor/lib/python3.6/site-packages/sklearn/neural_network/_multilayer_perceptron.py:571: ConvergenceWarning: Stochastic Optimizer: Maximum iterations (200) reached and the optimization hasn't converged yet.\n",
      "  % self.max_iter, ConvergenceWarning)\n",
      "/home/jl8394/humor/lib/python3.6/site-packages/sklearn/neural_network/_multilayer_perceptron.py:571: ConvergenceWarning: Stochastic Optimizer: Maximum iterations (200) reached and the optimization hasn't converged yet.\n",
      "  % self.max_iter, ConvergenceWarning)\n",
      "/home/jl8394/humor/lib/python3.6/site-packages/sklearn/neural_network/_multilayer_perceptron.py:571: ConvergenceWarning: Stochastic Optimizer: Maximum iterations (200) reached and the optimization hasn't converged yet.\n",
      "  % self.max_iter, ConvergenceWarning)\n",
      "/home/jl8394/humor/lib/python3.6/site-packages/sklearn/neural_network/_multilayer_perceptron.py:571: ConvergenceWarning: Stochastic Optimizer: Maximum iterations (200) reached and the optimization hasn't converged yet.\n",
      "  % self.max_iter, ConvergenceWarning)\n",
      "/home/jl8394/humor/lib/python3.6/site-packages/sklearn/neural_network/_multilayer_perceptron.py:571: ConvergenceWarning: Stochastic Optimizer: Maximum iterations (200) reached and the optimization hasn't converged yet.\n",
      "  % self.max_iter, ConvergenceWarning)\n",
      "/home/jl8394/humor/lib/python3.6/site-packages/sklearn/neural_network/_multilayer_perceptron.py:571: ConvergenceWarning: Stochastic Optimizer: Maximum iterations (200) reached and the optimization hasn't converged yet.\n",
      "  % self.max_iter, ConvergenceWarning)\n",
      "/home/jl8394/humor/lib/python3.6/site-packages/sklearn/neural_network/_multilayer_perceptron.py:571: ConvergenceWarning: Stochastic Optimizer: Maximum iterations (200) reached and the optimization hasn't converged yet.\n",
      "  % self.max_iter, ConvergenceWarning)\n",
      "/home/jl8394/humor/lib/python3.6/site-packages/sklearn/neural_network/_multilayer_perceptron.py:571: ConvergenceWarning: Stochastic Optimizer: Maximum iterations (200) reached and the optimization hasn't converged yet.\n",
      "  % self.max_iter, ConvergenceWarning)\n",
      "/home/jl8394/humor/lib/python3.6/site-packages/sklearn/neural_network/_multilayer_perceptron.py:571: ConvergenceWarning: Stochastic Optimizer: Maximum iterations (200) reached and the optimization hasn't converged yet.\n",
      "  % self.max_iter, ConvergenceWarning)\n",
      "/home/jl8394/humor/lib/python3.6/site-packages/sklearn/neural_network/_multilayer_perceptron.py:571: ConvergenceWarning: Stochastic Optimizer: Maximum iterations (200) reached and the optimization hasn't converged yet.\n",
      "  % self.max_iter, ConvergenceWarning)\n",
      "/home/jl8394/humor/lib/python3.6/site-packages/sklearn/neural_network/_multilayer_perceptron.py:571: ConvergenceWarning: Stochastic Optimizer: Maximum iterations (200) reached and the optimization hasn't converged yet.\n",
      "  % self.max_iter, ConvergenceWarning)\n",
      "/home/jl8394/humor/lib/python3.6/site-packages/sklearn/neural_network/_multilayer_perceptron.py:571: ConvergenceWarning: Stochastic Optimizer: Maximum iterations (200) reached and the optimization hasn't converged yet.\n",
      "  % self.max_iter, ConvergenceWarning)\n",
      "/home/jl8394/humor/lib/python3.6/site-packages/sklearn/neural_network/_multilayer_perceptron.py:571: ConvergenceWarning: Stochastic Optimizer: Maximum iterations (200) reached and the optimization hasn't converged yet.\n",
      "  % self.max_iter, ConvergenceWarning)\n",
      "/home/jl8394/humor/lib/python3.6/site-packages/sklearn/neural_network/_multilayer_perceptron.py:571: ConvergenceWarning: Stochastic Optimizer: Maximum iterations (200) reached and the optimization hasn't converged yet.\n",
      "  % self.max_iter, ConvergenceWarning)\n",
      "/home/jl8394/humor/lib/python3.6/site-packages/sklearn/neural_network/_multilayer_perceptron.py:571: ConvergenceWarning: Stochastic Optimizer: Maximum iterations (200) reached and the optimization hasn't converged yet.\n",
      "  % self.max_iter, ConvergenceWarning)\n",
      "/home/jl8394/humor/lib/python3.6/site-packages/sklearn/neural_network/_multilayer_perceptron.py:571: ConvergenceWarning: Stochastic Optimizer: Maximum iterations (200) reached and the optimization hasn't converged yet.\n",
      "  % self.max_iter, ConvergenceWarning)\n",
      "/home/jl8394/humor/lib/python3.6/site-packages/sklearn/neural_network/_multilayer_perceptron.py:571: ConvergenceWarning: Stochastic Optimizer: Maximum iterations (200) reached and the optimization hasn't converged yet.\n",
      "  % self.max_iter, ConvergenceWarning)\n",
      "/home/jl8394/humor/lib/python3.6/site-packages/sklearn/neural_network/_multilayer_perceptron.py:571: ConvergenceWarning: Stochastic Optimizer: Maximum iterations (200) reached and the optimization hasn't converged yet.\n",
      "  % self.max_iter, ConvergenceWarning)\n",
      "/home/jl8394/humor/lib/python3.6/site-packages/sklearn/neural_network/_multilayer_perceptron.py:571: ConvergenceWarning: Stochastic Optimizer: Maximum iterations (200) reached and the optimization hasn't converged yet.\n",
      "  % self.max_iter, ConvergenceWarning)\n",
      "/home/jl8394/humor/lib/python3.6/site-packages/sklearn/neural_network/_multilayer_perceptron.py:571: ConvergenceWarning: Stochastic Optimizer: Maximum iterations (200) reached and the optimization hasn't converged yet.\n",
      "  % self.max_iter, ConvergenceWarning)\n",
      "/home/jl8394/humor/lib/python3.6/site-packages/sklearn/neural_network/_multilayer_perceptron.py:571: ConvergenceWarning: Stochastic Optimizer: Maximum iterations (200) reached and the optimization hasn't converged yet.\n",
      "  % self.max_iter, ConvergenceWarning)\n",
      "/home/jl8394/humor/lib/python3.6/site-packages/sklearn/neural_network/_multilayer_perceptron.py:571: ConvergenceWarning: Stochastic Optimizer: Maximum iterations (200) reached and the optimization hasn't converged yet.\n",
      "  % self.max_iter, ConvergenceWarning)\n",
      "/home/jl8394/humor/lib/python3.6/site-packages/sklearn/neural_network/_multilayer_perceptron.py:571: ConvergenceWarning: Stochastic Optimizer: Maximum iterations (200) reached and the optimization hasn't converged yet.\n",
      "  % self.max_iter, ConvergenceWarning)\n",
      "/home/jl8394/humor/lib/python3.6/site-packages/sklearn/neural_network/_multilayer_perceptron.py:571: ConvergenceWarning: Stochastic Optimizer: Maximum iterations (200) reached and the optimization hasn't converged yet.\n",
      "  % self.max_iter, ConvergenceWarning)\n"
     ]
    },
    {
     "data": {
      "image/png": "[encoded data removed]",
      "text/plain": [
       "<Figure size 432x288 with 2 Axes>"
      ]
     },
     "metadata": {
      "needs_background": "light"
     },
     "output_type": "display_data"
    }
   ],
   "source": [
    "split_range = range(1,11)\n",
    "r2_scores = []\n",
    "for cv in split_range:\n",
    "    mlp = mlp\n",
    "    scores = cross_val_score(mlp,x,y,scoring='r2')\n",
    "    r2_scores.append(scores.mean())\n",
    "\n",
    "plt.subplot(1,2,1)   \n",
    "plt.plot(split_range,r2_scores)\n",
    "plt.xlabel('Value of kfold')\n",
    "plt.ylabel('Cross-Validated Accuracy')\n",
    "plt.title('p2v3 Cross-Validated Accuracy')\n",
    "plt.tight_layout()\n",
    "\n",
    "\n",
    "\n",
    "RMSE_loss = []\n",
    "for r in split_range:\n",
    "    mlp=mlp\n",
    "    loss = -cross_val_score(mlp, x, y, cv=10, scoring='neg_mean_squared_error')\n",
    "    RMSE_loss .append(loss.mean())\n",
    "    \n",
    "plt.subplot(1,2,2)\n",
    "plt.plot(split_range, RMSE_loss )\n",
    "plt.xlabel('Value of kfold')\n",
    "plt.ylabel('Cross-Validated MSE')\n",
    "plt.title('p2v3 Cross-Validated MSE')\n",
    "plt.tight_layout()\n",
    "plt.show()\n",
    "    #fold_training_score = r2_score(y_train, nny_pred)        \n",
    "    #fold_testing_score = r2_score(y_test, nnr_pred)\n",
    "    #list_training_score.append(fold_training_score)\n",
    "    #list_testing_score.append(fold_testing_score)\n",
    "\n",
    "    \n",
    "#plt.subplot(1,2,1)\n",
    "#plt.plot(range(1, cv.get_n_splits() + 1), np.array(list_training_score).ravel())\n",
    "#plt.xlabel('number of fold')\n",
    "#plt.ylabel('training score')\n",
    "#plt.title('Training score across folds')\n",
    "#plt.tight_layout()\n",
    "\n",
    "#plt.subplot(1,2,2)\n",
    "#plt.plot(range(1, cv.get_n_splits() + 1), np.array(list_testing_score).ravel())\n",
    "#plt.xlabel('number of fold')\n",
    "#plt.ylabel('testing score')\n",
    "#plt.title('Testing score across folds')\n",
    "#plt.tight_layout()\n",
    "#plt.show()"
   ]
  },
  {
   "cell_type": "code",
   "execution_count": 111,
   "metadata": {},
   "outputs": [
    {
     "name": "stdout",
     "output_type": "stream",
     "text": [
      "Root mean squared error: 0.02\n",
      "Mean absolute error: 0.01\n",
      "R-squared: 1.00\n"
     ]
    }
   ],
   "source": [
    "# The mean squared error\n",
    "#print(\"Root mean squared error: %.2f\"\n",
    "      #% sqrt(mean_squared_error(y_test, nnr_pred)))\n",
    "# The absolute squared error\n",
    "#print(\"Mean absolute error: %.2f\"\n",
    "#print('R-squared: %.2f' % r2_score(y_test, nnr_pred))"
   ]
  },
  {
   "cell_type": "markdown",
   "metadata": {},
   "source": [
    "## MLP Classifier"
   ]
  },
  {
   "cell_type": "code",
   "execution_count": 6,
   "metadata": {},
   "outputs": [],
   "source": [
    "x=ocr_tm_p2v_merged\n",
    "y=dh_score"
   ]
  },
  {
   "cell_type": "code",
   "execution_count": 8,
   "metadata": {},
   "outputs": [],
   "source": [
    "mlp = MLPClassifier(hidden_layer_sizes=(100,100), max_iter=500,activation = 'relu',solver='adam',random_state=1)"
   ]
  },
  {
   "cell_type": "code",
   "execution_count": 9,
   "metadata": {},
   "outputs": [
    {
     "name": "stderr",
     "output_type": "stream",
     "text": [
      "/home/jl8394/humor/lib/python3.6/site-packages/sklearn/neural_network/_multilayer_perceptron.py:934: DataConversionWarning: A column-vector y was passed when a 1d array was expected. Please change the shape of y to (n_samples, ), for example using ravel().\n",
      "  y = column_or_1d(y, warn=True)\n"
     ]
    }
   ],
   "source": [
    "x_train, x_test, y_train, y_test = train_test_split(x, y, test_size=.3, random_state=2020)\n",
    "mlp.fit(x_train, y_train)\n",
    "scaler=StandardScaler()\n",
    "x_train=scaler.fit_transform(x_train)\n",
    "x_test=scaler.transform(x_test)"
   ]
  },
  {
   "cell_type": "code",
   "execution_count": 10,
   "metadata": {},
   "outputs": [],
   "source": [
    "def accuracy(confusion_matrix):\n",
    "   diagonal_sum = confusion_matrix.trace()\n",
    "   sum_of_all_elements = confusion_matrix.sum()\n",
    "   return diagonal_sum / sum_of_all_elements\n",
    "    \n"
   ]
  },
  {
   "cell_type": "code",
   "execution_count": 11,
   "metadata": {},
   "outputs": [
    {
     "name": "stderr",
     "output_type": "stream",
     "text": [
      "/home/jl8394/humor/lib/python3.6/site-packages/sklearn/neural_network/_multilayer_perceptron.py:934: DataConversionWarning: A column-vector y was passed when a 1d array was expected. Please change the shape of y to (n_samples, ), for example using ravel().\n",
      "  y = column_or_1d(y, warn=True)\n"
     ]
    },
    {
     "data": {
      "text/plain": [
       "MLPClassifier(activation='relu', alpha=0.0001, batch_size='auto', beta_1=0.9,\n",
       "              beta_2=0.999, early_stopping=False, epsilon=1e-08,\n",
       "              hidden_layer_sizes=(100, 100), learning_rate='constant',\n",
       "              learning_rate_init=0.001, max_fun=15000, max_iter=500,\n",
       "              momentum=0.9, n_iter_no_change=10, nesterovs_momentum=True,\n",
       "              power_t=0.5, random_state=1, shuffle=True, solver='adam',\n",
       "              tol=0.0001, validation_fraction=0.1, verbose=False,\n",
       "              warm_start=False)"
      ]
     },
     "execution_count": 11,
     "metadata": {},
     "output_type": "execute_result"
    }
   ],
   "source": [
    "mlp.fit(x_train, y_train)"
   ]
  },
  {
   "cell_type": "code",
   "execution_count": 18,
   "metadata": {},
   "outputs": [],
   "source": [
    "#Predicting y for X_val\n",
    "#y_pred = mlp.predict(x_train)\n",
    "predictions = mlp.predict(x_test)"
   ]
  },
  {
   "cell_type": "code",
   "execution_count": 19,
   "metadata": {},
   "outputs": [
    {
     "name": "stdout",
     "output_type": "stream",
     "text": [
      "[[104  38]\n",
      " [ 48 111]]\n"
     ]
    }
   ],
   "source": [
    "#Importing Confusion Matrix\n",
    "from sklearn.metrics import classification_report,confusion_matrix\n",
    "#Comparing the predictions against the actual observations in y_val\n",
    "#cm = confusion_matrix(y_pred, y_train)\n",
    "print(confusion_matrix(y_test,predictions))"
   ]
  },
  {
   "cell_type": "code",
   "execution_count": 20,
   "metadata": {},
   "outputs": [
    {
     "name": "stdout",
     "output_type": "stream",
     "text": [
      "              precision    recall  f1-score   support\n",
      "\n",
      "         0.0       0.68      0.73      0.71       142\n",
      "         1.0       0.74      0.70      0.72       159\n",
      "\n",
      "    accuracy                           0.71       301\n",
      "   macro avg       0.71      0.72      0.71       301\n",
      "weighted avg       0.72      0.71      0.71       301\n",
      "\n"
     ]
    }
   ],
   "source": [
    "print(classification_report(y_test,predictions))"
   ]
  },
  {
   "cell_type": "code",
   "execution_count": null,
   "metadata": {},
   "outputs": [],
   "source": []
  }
 ],
 "metadata": {
  "kernelspec": {
   "display_name": "Python 3",
   "language": "python",
   "name": "python3"
  },
  "language_info": {
   "codemirror_mode": {
    "name": "ipython",
    "version": 3
   },
   "file_extension": ".py",
   "mimetype": "text/x-python",
   "name": "python",
   "nbconvert_exporter": "python",
   "pygments_lexer": "ipython3",
   "version": "3.6.8"
  }
 },
 "nbformat": 4,
 "nbformat_minor": 4
}
