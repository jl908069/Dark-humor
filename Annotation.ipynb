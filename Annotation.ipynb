{
 "cells": [
  {
   "cell_type": "code",
   "execution_count": 2,
   "metadata": {},
   "outputs": [
    {
     "name": "stdout",
     "output_type": "stream",
     "text": [
      "Collecting jieba\n",
      "  Downloading jieba-0.42.1.tar.gz (19.2 MB)\n",
      "\u001b[K     |████████████████████████████████| 19.2 MB 3.3 MB/s eta 0:00:01\n",
      "\u001b[?25hBuilding wheels for collected packages: jieba\n",
      "  Building wheel for jieba (setup.py) ... \u001b[?25ldone\n",
      "\u001b[?25h  Created wheel for jieba: filename=jieba-0.42.1-py3-none-any.whl size=19314478 sha256=c8a0c8a9ee8948665760b0dec173cab64124d5828a0115695e0fe733fba361d1\n",
      "  Stored in directory: /home/jl8394/.cache/pip/wheels/17/a7/8b/a7e03881534e78558920ac68aaeca05180c0e2c3d11c4fce3b\n",
      "Successfully built jieba\n",
      "Installing collected packages: jieba\n",
      "Successfully installed jieba-0.42.1\n",
      "Note: you may need to restart the kernel to use updated packages.\n"
     ]
    }
   ],
   "source": [
    "pip install -U jieba"
   ]
  },
  {
   "cell_type": "code",
   "execution_count": 1,
   "metadata": {},
   "outputs": [],
   "source": [
    "import collections\n",
    "import nltk\n",
    "from nltk import agreement\n",
    "import os\n",
    "import pandas as pd\n",
    "import numpy as np\n",
    "import scipy.sparse as sparse\n",
    "import jieba\n",
    "import csv\n",
    "import pickle\n",
    "import matplotlib.pyplot as plt\n",
    "from sklearn import preprocessing\n",
    "from sklearn.preprocessing import LabelEncoder"
   ]
  },
  {
   "cell_type": "markdown",
   "metadata": {},
   "source": [
    "## Importing wordlist"
   ]
  },
  {
   "cell_type": "code",
   "execution_count": 2,
   "metadata": {},
   "outputs": [],
   "source": [
    "porn = open(\"porn.txt\",\"r\").read().split(\"\\n\")\n",
    "profanity = open(\"profanity.txt\",\"r\").read().split(\"\\n\")\n",
    "pronoun = open(\"pronoun.txt\",\"r\").read().split(\"\\n\")\n",
    "positive_words = open(\"positive_words.txt\",\"r\").read().split(\"\\n\")\n",
    "negative_words = open(\"negative_words.txt\",\"r\").read().split(\"\\n\")"
   ]
  },
  {
   "cell_type": "code",
   "execution_count": 3,
   "metadata": {},
   "outputs": [],
   "source": [
    "df= pd.read_excel(\"Anno-500.xlsx\")\n",
    "ocr=df.iloc[:,2]"
   ]
  },
  {
   "cell_type": "code",
   "execution_count": 4,
   "metadata": {},
   "outputs": [
    {
     "name": "stderr",
     "output_type": "stream",
     "text": [
      "Building prefix dict from /Library/Frameworks/Python.framework/Versions/3.7/lib/python3.7/site-packages/jieba/dict.txt ...\n",
      "Dumping model to file cache /var/folders/s3/x6bgjnss22ggm9fct3z9mgz00000gn/T/jieba.cache\n",
      "Loading model cost 1.90254807472229 seconds.\n",
      "Prefix dict has been built succesfully.\n"
     ]
    }
   ],
   "source": [
    "s_ocr=[] #建立存储分词的列表\n",
    "for i in range(len(ocr)):\n",
    "    result=[]\n",
    "    seg_list = jieba.cut(ocr[i])\n",
    "    for w in seg_list :#读取每一行分词\n",
    "        result.append(w)\n",
    "    s_ocr.append(result)#将该行分词写入列表形式的总分词列表"
   ]
  },
  {
   "cell_type": "code",
   "execution_count": 5,
   "metadata": {},
   "outputs": [],
   "source": [
    "df['cln_content'] = s_ocr\n",
    "#df= pd.DataFrame(df['cln_content'])"
   ]
  },
  {
   "cell_type": "markdown",
   "metadata": {},
   "source": [
    "## OCR, TM, P2V embedding"
   ]
  },
  {
   "cell_type": "code",
   "execution_count": 6,
   "metadata": {},
   "outputs": [],
   "source": [
    "ocr_500=np.load('ocr_500.npy')\n",
    "#ocr_merged=np.load('ocr_merged.npy')\n",
    "#tm_merged=np.load('tm_merged.npy')\n",
    "tm_500=np.load('tm_500.npy')\n",
    "p2v_500=np.load('p2v_500.npy')\n",
    "#p2v_merged=np.load('p2v_merged.npy')\n",
    "p2v2_500=np.load('p2v2_500.npy')\n",
    "p2v3_500=np.load('p2v3_500.npy')\n",
    "ocr_tm_500=np.load('ocr_tm_500.npy')\n",
    "#ocr_tm_merged=np.load('ocr_tm_merged.npy')\n",
    "ocr_p2v_500=np.load('ocr_p2v_500.npy')\n",
    "ocr_p2v2_500=np.load('ocr_p2v2_500.npy')\n",
    "ocr_p2v3_500=np.load('ocr_p2v3_500.npy')\n",
    "tm_p2v_500=np.load('tm_p2v_500.npy')\n",
    "tm_p2v2_500=np.load('tm_p2v2_500.npy')\n",
    "tm_p2v3_500=np.load('tm_p2v3_500.npy')\n",
    "ocr_tm_p2v_500=np.load('ocr_tm_p2v_500.npy')\n",
    "#ocr_tm_p2v_merged=np.load('ocr_tm_p2v_merged.npy')\n",
    "ocr_tm_p2v2_500=np.load('ocr_tm_p2v2_500.npy')\n",
    "ocr_tm_p2v3_500=np.load('ocr_tm_p2v3_500.npy')"
   ]
  },
  {
   "cell_type": "markdown",
   "metadata": {},
   "source": [
    "### list()的話每一個都是np.array, 進去之後每個數字都是numpy.float32\n",
    "### arr.toarray().tolist()的話每一個都是list, 進去之後每個數字都是float"
   ]
  },
  {
   "cell_type": "code",
   "execution_count": 7,
   "metadata": {},
   "outputs": [],
   "source": [
    "df['ocr_emb']=list(ocr_500)\n",
    "df['tm_emb']=list(tm_500)\n",
    "df['p2v2_emb']=list(p2v2_500)\n",
    "df['ocr_tm_p2v2_500_emb']=list(ocr_tm_p2v2_500)\n",
    "#arr1 = sparse.coo_matrix(ocr_500)\n",
    "#df['ocr_emb'] = arr1.toarray().tolist()\n",
    "#arr2 = sparse.coo_matrix(tm_500)\n",
    "#df['tm_emb'] = arr2.toarray().tolist()\n",
    "#arr3 = sparse.coo_matrix(p2v2_500)\n",
    "#df['p2v2_emb'] = arr3.toarray().tolist()\n",
    "#arr4 = sparse.coo_matrix(ocr_tm_p2v2_500)\n",
    "#df['ocr_tm_p2v2_500'] = arr4.toarray().tolist()"
   ]
  },
  {
   "cell_type": "code",
   "execution_count": 139,
   "metadata": {},
   "outputs": [
    {
     "data": {
      "text/plain": [
       "array([-3.44803161e-03, -1.40647916e-03, -2.00861637e-02, -1.23386160e-02,\n",
       "       -3.03926934e-02, -3.30204256e-02,  6.79715276e-02, -3.71600199e-03,\n",
       "       -3.78896855e-02, -5.13198599e-02, -2.99346242e-02, -2.46653054e-02,\n",
       "       -4.65489216e-02,  6.75989548e-03,  5.51648512e-02,  6.09474853e-02,\n",
       "        4.21853438e-02,  1.05038537e-02,  1.05466484e-03, -2.53310725e-02,\n",
       "       -4.18840954e-03, -1.12355063e-02,  2.66580526e-02,  3.69208008e-02,\n",
       "       -4.77307895e-03,  2.08921842e-02,  5.02035674e-03,  3.77529711e-02,\n",
       "        6.11803792e-02,  3.39643913e-03,  3.11041884e-02,  4.95350175e-02,\n",
       "       -3.14637534e-02, -1.09699639e-02, -5.29429875e-02,  3.20458114e-02,\n",
       "       -4.39662039e-02,  1.86270457e-02,  7.66024515e-02,  4.31374013e-02,\n",
       "        3.74725508e-03, -6.45035133e-02,  1.58310384e-02, -6.26251325e-02,\n",
       "        6.13400945e-03,  9.77849122e-03,  3.64091508e-02, -4.19191346e-02,\n",
       "        1.98597424e-02,  9.02523100e-03,  8.18930641e-02,  7.04200640e-02,\n",
       "        3.07635441e-02, -5.04534468e-02, -1.94948502e-02,  2.28164420e-02,\n",
       "       -2.33382396e-02,  1.63325258e-02,  4.56195790e-03, -1.00383006e-01,\n",
       "        4.40741470e-03,  1.05988316e-01,  5.82601428e-02,  1.10946707e-01,\n",
       "       -6.89450745e-03, -2.74932035e-03,  1.97688770e-02,  4.31365743e-02,\n",
       "        5.67998104e-02,  1.12761026e-02,  5.38372733e-02, -3.08437999e-02,\n",
       "       -1.20053077e-02, -1.43206110e-02, -5.03660701e-02, -6.45695552e-02,\n",
       "       -6.72338977e-02, -2.60211602e-02, -1.04037359e-01, -6.32474050e-02,\n",
       "       -5.18878829e-03, -1.21015005e-01,  4.76033613e-02, -5.73358797e-02,\n",
       "        2.65091751e-02,  4.10106927e-02, -1.09502478e-02,  3.15764770e-02,\n",
       "       -5.97927812e-03, -3.07812952e-02,  2.11079288e-02, -4.34568338e-02,\n",
       "       -3.43589820e-02, -4.30280045e-02, -3.60448845e-02, -3.83813418e-02,\n",
       "       -5.80675621e-03, -7.96542130e-03,  3.13673168e-02, -6.42085150e-02,\n",
       "       -7.59557337e-02, -1.63734723e-02,  5.51611045e-03,  6.34951741e-02,\n",
       "       -3.98558266e-02,  3.95421162e-02,  8.39443505e-02, -2.21873615e-02,\n",
       "       -4.43081558e-02, -7.56803378e-02,  7.64412135e-02, -2.49683345e-03,\n",
       "        4.38278690e-02, -8.11801031e-02, -1.23846151e-01,  1.56111531e-02,\n",
       "        3.13921385e-02, -8.01322907e-02,  9.53670815e-02, -2.46427450e-02,\n",
       "       -2.64210510e-03,  5.96000962e-02, -1.15282014e-02,  9.74398199e-03,\n",
       "        2.61278590e-03, -1.39334369e-02, -1.65778548e-02, -2.62956843e-02,\n",
       "       -4.66441549e-02, -4.60212268e-02,  6.62252903e-02, -7.35862702e-02,\n",
       "       -2.82820836e-02, -2.87343259e-03, -3.20031494e-02,  2.88623124e-02,\n",
       "        1.02381259e-02,  7.03724916e-04,  2.63081510e-02, -1.11974264e-03,\n",
       "       -1.50772533e-03,  2.06474378e-03, -2.95273755e-02, -1.30113051e-03,\n",
       "       -2.20775139e-02,  2.02815924e-02,  5.12901247e-02, -1.59563310e-02,\n",
       "        3.11286729e-02, -2.13290676e-02, -1.62828155e-02,  5.83490953e-02,\n",
       "       -1.06374314e-02, -5.74048087e-02, -1.68257393e-02,  4.30925637e-02,\n",
       "       -2.44043209e-02,  3.83600593e-02,  5.21691479e-02,  2.37028375e-02,\n",
       "        2.29764115e-02, -1.78101696e-02,  1.95918139e-02, -7.72083737e-03,\n",
       "       -5.44222556e-02,  4.11968649e-04,  1.39707960e-02, -5.95286340e-02,\n",
       "        3.42840478e-02, -3.80559009e-03, -4.81687933e-02,  6.98832124e-02,\n",
       "        1.09062884e-02, -7.24149169e-04, -3.12023088e-02, -1.79184154e-02,\n",
       "        1.10053439e-02, -4.09111641e-02, -3.64954676e-03, -3.56144905e-02,\n",
       "       -1.83924125e-03, -3.85721936e-03, -8.04449022e-02, -1.80163514e-02,\n",
       "       -9.27226152e-03,  2.82348935e-02,  9.36132448e-04,  1.83897163e-03,\n",
       "       -1.90776940e-02,  3.80352023e-03,  8.41340423e-02, -6.09073751e-02,\n",
       "       -1.61282420e-02, -4.67649326e-02, -5.09968325e-02,  1.61710512e-02,\n",
       "        2.92101614e-02, -6.07172772e-02, -3.02345417e-02, -9.42028407e-03,\n",
       "       -1.53137334e-02, -9.37629193e-02, -5.59988990e-02,  2.36915443e-02,\n",
       "       -2.55097989e-02,  2.45781410e-02,  1.32485237e-02, -1.92751568e-02,\n",
       "        1.02382218e-02,  5.55472309e-03, -7.27754608e-02, -4.60224822e-02,\n",
       "        7.06580058e-02,  3.91578935e-02, -2.21102815e-02, -4.74162260e-03,\n",
       "        5.40712615e-03, -5.39488457e-02,  6.10888265e-02,  2.27858983e-02,\n",
       "        2.04230119e-02, -9.26814601e-03, -7.70336092e-02,  5.47905490e-02,\n",
       "        1.73191465e-02, -2.74720378e-02,  7.93736149e-03,  2.69418657e-02,\n",
       "       -6.07599467e-02, -2.62480415e-02,  5.89505397e-03, -8.08669105e-02,\n",
       "       -5.62953390e-03, -1.16632037e-01, -4.19978872e-02, -5.25377356e-02,\n",
       "       -2.91934237e-02, -2.55552866e-02, -9.82149132e-03,  5.68080693e-03,\n",
       "        2.90286504e-02,  3.34230587e-02, -2.61748619e-02,  9.93885547e-02,\n",
       "       -2.31325906e-02, -1.51497396e-02,  2.71543115e-02, -3.41771506e-02,\n",
       "        8.93522426e-02, -1.27701005e-02,  2.81673539e-02,  1.58640072e-02,\n",
       "       -2.13040933e-02, -1.00680724e-01,  8.70445464e-03,  2.31458433e-02,\n",
       "       -6.16547018e-02,  2.94356402e-02,  2.01863069e-02,  1.13107422e-02,\n",
       "        4.63538803e-03,  4.57357913e-02, -4.62821918e-03, -1.09838629e-02,\n",
       "       -8.44746828e-03,  4.09051124e-03, -6.43959874e-03,  2.98156012e-02,\n",
       "        1.43741034e-02, -8.54925625e-03,  2.09289026e-02, -2.21316982e-02,\n",
       "        4.08505201e-02, -7.59976276e-04, -3.59161496e-02,  3.00576873e-02,\n",
       "        2.67748088e-02,  2.77365465e-02,  1.07727433e-02, -2.47676000e-02,\n",
       "        2.42382027e-02,  3.17448005e-02, -2.81877406e-02, -3.87568213e-02,\n",
       "        4.07993086e-02, -4.39933948e-02,  2.68927813e-02, -1.03332765e-01,\n",
       "        2.18971130e-02,  7.40105957e-02,  6.20752759e-02,  2.89431084e-02,\n",
       "        1.40825808e-01, -2.83317156e-02,  3.98655422e-02,  4.11909074e-02,\n",
       "       -2.11306494e-02, -6.92629814e-03,  3.69141996e-02,  4.53250632e-02,\n",
       "       -9.60740298e-02,  3.19544449e-02, -1.44782793e-02, -3.38566639e-02,\n",
       "       -1.18446453e-02,  1.85051151e-02, -4.51281443e-02, -3.66238848e-04,\n",
       "       -4.82823402e-02,  3.24424244e-02,  2.06612442e-02, -6.56251907e-02,\n",
       "       -4.07428630e-02,  7.31210923e-03, -7.75027648e-02, -3.00079584e-02,\n",
       "       -2.46276520e-03, -3.26914201e-03,  3.62407751e-02, -1.46899251e-02,\n",
       "       -3.67213637e-02,  1.63988937e-02, -3.62489298e-02,  9.96542629e-03,\n",
       "       -4.62122001e-02,  9.94410273e-03,  3.94722186e-02, -1.33655379e-02,\n",
       "       -1.80113818e-02,  2.43740100e-02,  4.02069241e-02,  1.41427713e-02,\n",
       "       -5.09951776e-03,  3.97872031e-02,  8.60958025e-02, -1.33264950e-02,\n",
       "        2.13872977e-02,  5.90111017e-02, -6.58993945e-02,  1.08781382e-02,\n",
       "       -1.77989881e-02, -2.46577803e-02,  4.59999032e-03,  2.39073206e-02,\n",
       "       -5.26198447e-02,  7.35509815e-03, -2.16854364e-02,  7.73199648e-03,\n",
       "       -3.96161899e-02, -8.77057761e-03, -1.92918591e-02,  2.92427223e-02,\n",
       "        2.56871954e-02, -3.14805955e-02, -1.61858797e-02, -5.49820848e-02,\n",
       "        9.36031267e-02, -6.15594871e-02,  1.91139169e-02,  4.04285304e-02,\n",
       "       -1.04409084e-02,  5.75725129e-03, -2.30716076e-02, -2.29687709e-03,\n",
       "       -2.86197364e-02,  1.15052946e-02,  1.88562497e-02, -3.50953899e-02,\n",
       "        6.91485628e-02, -3.19118202e-02,  5.45452312e-02,  2.57057585e-02,\n",
       "        1.61677063e-03,  2.84582525e-02,  4.76208003e-03, -3.93313542e-03,\n",
       "        1.90004334e-02, -2.40780991e-02,  9.14100558e-02,  2.06078403e-02,\n",
       "        2.91092205e-03, -5.43345474e-02, -3.48866917e-02,  4.36313488e-02,\n",
       "       -1.79631393e-02, -6.80755898e-02,  2.44567897e-02,  6.48746938e-02,\n",
       "       -3.77629921e-02, -6.12094700e-02, -1.89350452e-02,  4.08438966e-02,\n",
       "       -5.91351127e-04, -2.52294093e-02,  1.25004714e-02,  8.95537436e-03,\n",
       "        2.05880441e-02,  3.88645381e-02, -9.28253308e-03, -4.17092778e-02,\n",
       "       -5.99322096e-03,  9.29902717e-02,  7.40252137e-02, -2.17600167e-02,\n",
       "        1.70677267e-02, -1.88374929e-02,  6.83684088e-03, -9.97288525e-03,\n",
       "        7.53339473e-03,  4.94861118e-02,  7.94977706e-04, -6.67822454e-03,\n",
       "       -6.11882983e-03,  1.35979295e-01,  1.44741982e-02, -5.71730023e-04,\n",
       "        1.06320463e-01,  2.06547347e-03,  5.50974831e-02, -4.54816930e-02,\n",
       "       -7.63192922e-02, -6.74030855e-02, -1.72763485e-02, -4.34160717e-02,\n",
       "        1.20671904e-02, -6.99394569e-02, -5.57375923e-02,  3.56060010e-03,\n",
       "       -4.42415662e-02, -2.55404925e-03,  1.27769746e-02, -2.87588015e-02,\n",
       "       -3.56350690e-02, -2.68330239e-02, -2.72055734e-02,  8.90042866e-05,\n",
       "       -1.86656963e-03,  4.49514948e-02, -7.97091145e-03, -1.19275637e-02,\n",
       "        2.58696470e-02,  3.84489559e-02,  1.46006932e-03, -3.88537832e-02,\n",
       "       -5.77749982e-02, -3.23002227e-02, -3.31152529e-02, -7.55334720e-02,\n",
       "        6.13391213e-02,  4.90648970e-02,  4.44264039e-02,  1.77966524e-02,\n",
       "       -4.82441895e-02,  1.23805525e-02,  2.36453321e-02, -2.43033934e-02,\n",
       "       -3.31147462e-02,  3.20887417e-02,  6.51491657e-02, -5.97111823e-04,\n",
       "       -4.99278046e-02, -7.14526628e-04,  1.23447971e-02,  5.05331205e-03,\n",
       "       -5.10325842e-02,  7.32864141e-02, -1.31347803e-02,  1.52043896e-02,\n",
       "       -3.04513425e-02,  2.59660352e-02, -1.63133368e-02,  1.72141623e-02,\n",
       "       -5.47988154e-02, -1.92832053e-02,  3.23273428e-02,  6.45065401e-03,\n",
       "       -4.69059609e-02, -3.65572684e-02,  7.65781552e-02,  3.60225812e-02,\n",
       "        4.58301790e-02,  2.81794872e-02, -2.38361172e-02, -1.96104310e-02,\n",
       "        7.50017585e-03, -6.66298941e-02, -2.47695763e-03,  2.18473580e-02,\n",
       "       -4.24349606e-02, -1.96083281e-02,  1.19246356e-02, -7.09128305e-02,\n",
       "       -5.49168745e-03,  5.09801246e-02,  3.89374271e-02, -1.72277391e-02,\n",
       "        3.09566595e-02,  8.53287354e-02,  6.00612797e-02, -3.16737555e-02,\n",
       "        2.58977246e-02,  1.30482856e-02,  1.62065968e-01, -1.43945438e-03,\n",
       "        2.62197517e-02, -1.56785864e-02,  2.03179717e-02, -3.86004113e-02,\n",
       "        4.77103852e-02, -2.15417705e-03,  2.25408338e-02,  1.90577116e-02],\n",
       "      dtype=float32)"
      ]
     },
     "execution_count": 139,
     "metadata": {},
     "output_type": "execute_result"
    }
   ],
   "source": [
    "#df['ocr_emb'][0]"
   ]
  },
  {
   "cell_type": "code",
   "execution_count": 8,
   "metadata": {},
   "outputs": [
    {
     "data": {
      "text/html": [
       "<div>\n",
       "<style scoped>\n",
       "    .dataframe tbody tr th:only-of-type {\n",
       "        vertical-align: middle;\n",
       "    }\n",
       "\n",
       "    .dataframe tbody tr th {\n",
       "        vertical-align: top;\n",
       "    }\n",
       "\n",
       "    .dataframe thead th {\n",
       "        text-align: right;\n",
       "    }\n",
       "</style>\n",
       "<table border=\"1\" class=\"dataframe\">\n",
       "  <thead>\n",
       "    <tr style=\"text-align: right;\">\n",
       "      <th></th>\n",
       "      <th>ID</th>\n",
       "      <th>Images</th>\n",
       "      <th>OCR</th>\n",
       "      <th>Template_Name</th>\n",
       "      <th>dh_1</th>\n",
       "      <th>dh_2</th>\n",
       "      <th>dh_3</th>\n",
       "      <th>cln_content</th>\n",
       "      <th>ocr_emb</th>\n",
       "      <th>tm_emb</th>\n",
       "      <th>p2v2_emb</th>\n",
       "      <th>ocr_tm_p2v2_500_emb</th>\n",
       "    </tr>\n",
       "  </thead>\n",
       "  <tbody>\n",
       "    <tr>\n",
       "      <th>0</th>\n",
       "      <td>1</td>\n",
       "      <td>NaN</td>\n",
       "      <td>當我再差幾秒就遲到時，卻在這幾秒內衝到學校。我。學校。</td>\n",
       "      <td>自信的善逸</td>\n",
       "      <td>0</td>\n",
       "      <td>0</td>\n",
       "      <td>0</td>\n",
       "      <td>[當我, 再, 差, 幾秒, 就, 遲到, 時, ，, 卻, 在, 這幾秒, 內, 衝到, ...</td>\n",
       "      <td>[-0.0034480316, -0.0014064792, -0.020086164, -...</td>\n",
       "      <td>[-0.051428244, -0.006179096, 0.012731423, -0.0...</td>\n",
       "      <td>[-0.5377346, 0.8174292, 0.43731427, -0.4928556...</td>\n",
       "      <td>[-0.0034480316, -0.0014064792, -0.020086164, -...</td>\n",
       "    </tr>\n",
       "    <tr>\n",
       "      <th>1</th>\n",
       "      <td>2</td>\n",
       "      <td>NaN</td>\n",
       "      <td>當你以為他們要幫你拿倉鼠飼料來餵你吃，但手上卻是拿著兩條蟒蛇加上一個攝影機。</td>\n",
       "      <td>怕爆倉鼠</td>\n",
       "      <td>0</td>\n",
       "      <td>2</td>\n",
       "      <td>0</td>\n",
       "      <td>[當你以, 為, 他們, 要, 幫, 你, 拿, 倉鼠, 飼料, 來, 餵, 你, 吃, ，...</td>\n",
       "      <td>[0.013175973, -0.0027130025, 0.030018723, 0.02...</td>\n",
       "      <td>[-0.005815765, 0.007365296, 0.0742434, 0.01984...</td>\n",
       "      <td>[-0.35660374, 0.6002908, 0.49771008, -0.273855...</td>\n",
       "      <td>[0.013175973, -0.0027130025, 0.030018723, 0.02...</td>\n",
       "    </tr>\n",
       "    <tr>\n",
       "      <th>2</th>\n",
       "      <td>3</td>\n",
       "      <td>NaN</td>\n",
       "      <td>紅燈了行人大搖大擺的過馬路。行人。台灣的計程車司機\\n</td>\n",
       "      <td>小丑被車撞</td>\n",
       "      <td>0</td>\n",
       "      <td>1</td>\n",
       "      <td>0</td>\n",
       "      <td>[紅燈, 了, 行, 人大, 搖大, 擺, 的, 過馬路, 。, 行人, 。, 台灣, 的,...</td>\n",
       "      <td>[-0.035057098, -0.073808864, -0.018074743, 0.0...</td>\n",
       "      <td>[-0.028380213, -0.022930214, -0.0462088, 0.035...</td>\n",
       "      <td>[-0.20228152, 0.4813008, 0.08527977, -0.103984...</td>\n",
       "      <td>[-0.035057098, -0.073808864, -0.018074743, 0.0...</td>\n",
       "    </tr>\n",
       "    <tr>\n",
       "      <th>3</th>\n",
       "      <td>4</td>\n",
       "      <td>NaN</td>\n",
       "      <td>辛普森家庭從來不會讓我失望。AREA 51 WARNING:DO NOT ENTER!\\n\\n</td>\n",
       "      <td>51禁區辛普森家族早就知道了</td>\n",
       "      <td>0</td>\n",
       "      <td>0</td>\n",
       "      <td>0</td>\n",
       "      <td>[辛普森, 家庭, 從來, 不會, 讓, 我, 失望, 。, AREA,  , 51,  ,...</td>\n",
       "      <td>[0.014597042, -0.008372392, 0.042043738, 0.007...</td>\n",
       "      <td>[0.03861497, -0.026871063, 0.057037357, 0.0161...</td>\n",
       "      <td>[0.18491076, 0.5516072, 0.264255, 0.2202262, -...</td>\n",
       "      <td>[0.014597042, -0.008372392, 0.042043738, 0.007...</td>\n",
       "    </tr>\n",
       "    <tr>\n",
       "      <th>4</th>\n",
       "      <td>5</td>\n",
       "      <td>NaN</td>\n",
       "      <td>武漢肺炎疫情日漸嚴重。習近平:</td>\n",
       "      <td>小熊維尼笑</td>\n",
       "      <td>0</td>\n",
       "      <td>1</td>\n",
       "      <td>2</td>\n",
       "      <td>[武漢, 肺炎, 疫情, 日漸, 嚴重, 。, 習近, 平, :]</td>\n",
       "      <td>[0.0012484181, -0.026934076, 0.0077450513, 0.0...</td>\n",
       "      <td>[-0.017085267, -0.011113647, 0.05663415, 0.012...</td>\n",
       "      <td>[-0.13843994, 0.43964586, 0.3693608, -0.027635...</td>\n",
       "      <td>[0.0012484181, -0.026934076, 0.0077450513, 0.0...</td>\n",
       "    </tr>\n",
       "  </tbody>\n",
       "</table>\n",
       "</div>"
      ],
      "text/plain": [
       "   ID  Images                                              OCR  \\\n",
       "0   1     NaN                      當我再差幾秒就遲到時，卻在這幾秒內衝到學校。我。學校。   \n",
       "1   2     NaN           當你以為他們要幫你拿倉鼠飼料來餵你吃，但手上卻是拿著兩條蟒蛇加上一個攝影機。   \n",
       "2   3     NaN                      紅燈了行人大搖大擺的過馬路。行人。台灣的計程車司機\\n   \n",
       "3   4     NaN  辛普森家庭從來不會讓我失望。AREA 51 WARNING:DO NOT ENTER!\\n\\n   \n",
       "4   5     NaN                                  武漢肺炎疫情日漸嚴重。習近平:   \n",
       "\n",
       "    Template_Name  dh_1  dh_2  dh_3  \\\n",
       "0           自信的善逸     0     0     0   \n",
       "1            怕爆倉鼠     0     2     0   \n",
       "2           小丑被車撞     0     1     0   \n",
       "3  51禁區辛普森家族早就知道了     0     0     0   \n",
       "4           小熊維尼笑     0     1     2   \n",
       "\n",
       "                                         cln_content  \\\n",
       "0  [當我, 再, 差, 幾秒, 就, 遲到, 時, ，, 卻, 在, 這幾秒, 內, 衝到, ...   \n",
       "1  [當你以, 為, 他們, 要, 幫, 你, 拿, 倉鼠, 飼料, 來, 餵, 你, 吃, ，...   \n",
       "2  [紅燈, 了, 行, 人大, 搖大, 擺, 的, 過馬路, 。, 行人, 。, 台灣, 的,...   \n",
       "3  [辛普森, 家庭, 從來, 不會, 讓, 我, 失望, 。, AREA,  , 51,  ,...   \n",
       "4                  [武漢, 肺炎, 疫情, 日漸, 嚴重, 。, 習近, 平, :]   \n",
       "\n",
       "                                             ocr_emb  \\\n",
       "0  [-0.0034480316, -0.0014064792, -0.020086164, -...   \n",
       "1  [0.013175973, -0.0027130025, 0.030018723, 0.02...   \n",
       "2  [-0.035057098, -0.073808864, -0.018074743, 0.0...   \n",
       "3  [0.014597042, -0.008372392, 0.042043738, 0.007...   \n",
       "4  [0.0012484181, -0.026934076, 0.0077450513, 0.0...   \n",
       "\n",
       "                                              tm_emb  \\\n",
       "0  [-0.051428244, -0.006179096, 0.012731423, -0.0...   \n",
       "1  [-0.005815765, 0.007365296, 0.0742434, 0.01984...   \n",
       "2  [-0.028380213, -0.022930214, -0.0462088, 0.035...   \n",
       "3  [0.03861497, -0.026871063, 0.057037357, 0.0161...   \n",
       "4  [-0.017085267, -0.011113647, 0.05663415, 0.012...   \n",
       "\n",
       "                                            p2v2_emb  \\\n",
       "0  [-0.5377346, 0.8174292, 0.43731427, -0.4928556...   \n",
       "1  [-0.35660374, 0.6002908, 0.49771008, -0.273855...   \n",
       "2  [-0.20228152, 0.4813008, 0.08527977, -0.103984...   \n",
       "3  [0.18491076, 0.5516072, 0.264255, 0.2202262, -...   \n",
       "4  [-0.13843994, 0.43964586, 0.3693608, -0.027635...   \n",
       "\n",
       "                                 ocr_tm_p2v2_500_emb  \n",
       "0  [-0.0034480316, -0.0014064792, -0.020086164, -...  \n",
       "1  [0.013175973, -0.0027130025, 0.030018723, 0.02...  \n",
       "2  [-0.035057098, -0.073808864, -0.018074743, 0.0...  \n",
       "3  [0.014597042, -0.008372392, 0.042043738, 0.007...  \n",
       "4  [0.0012484181, -0.026934076, 0.0077450513, 0.0...  "
      ]
     },
     "execution_count": 8,
     "metadata": {},
     "output_type": "execute_result"
    }
   ],
   "source": [
    "df.head(5)"
   ]
  },
  {
   "cell_type": "markdown",
   "metadata": {},
   "source": [
    "## Porn Score"
   ]
  },
  {
   "cell_type": "code",
   "execution_count": 150,
   "metadata": {},
   "outputs": [],
   "source": [
    "porn_score = []\n",
    "for text in list(df.cln_content):\n",
    "    result=0\n",
    "    for words in porn:\n",
    "         if words in text:\n",
    "                 result += 1 \n",
    "    porn_score.append(result)\n",
    "    porn_score"
   ]
  },
  {
   "cell_type": "code",
   "execution_count": 114,
   "metadata": {},
   "outputs": [],
   "source": [
    "df['porn_score']=porn_score"
   ]
  },
  {
   "cell_type": "code",
   "execution_count": 153,
   "metadata": {},
   "outputs": [],
   "source": [
    "porn_score = np.array(porn_score)\n",
    "np.save('porn_score', porn_score)"
   ]
  },
  {
   "cell_type": "markdown",
   "metadata": {},
   "source": [
    "## Profanity Score"
   ]
  },
  {
   "cell_type": "code",
   "execution_count": 154,
   "metadata": {},
   "outputs": [],
   "source": [
    "profanity_score = []\n",
    "for text in list(df.cln_content):\n",
    "    result=0\n",
    "    for words in profanity:\n",
    "         if words in text:\n",
    "                 result += 1 \n",
    "    profanity_score.append(result)\n",
    "    profanity_score"
   ]
  },
  {
   "cell_type": "code",
   "execution_count": 116,
   "metadata": {},
   "outputs": [],
   "source": [
    "df['profanity_score']=profanity_score"
   ]
  },
  {
   "cell_type": "code",
   "execution_count": 155,
   "metadata": {},
   "outputs": [],
   "source": [
    "profanity_score = np.array(profanity_score)\n",
    "np.save('profanity_score', profanity_score)"
   ]
  },
  {
   "cell_type": "markdown",
   "metadata": {},
   "source": [
    "## Pronoun Count"
   ]
  },
  {
   "cell_type": "code",
   "execution_count": 156,
   "metadata": {},
   "outputs": [],
   "source": [
    "pronoun_count = []\n",
    "for text in list(df.cln_content):\n",
    "    result=0\n",
    "    for words in pronoun:\n",
    "         if words in text:\n",
    "                 result += 1 \n",
    "    pronoun_count.append(result)\n",
    "    pronoun_count"
   ]
  },
  {
   "cell_type": "code",
   "execution_count": 118,
   "metadata": {},
   "outputs": [],
   "source": [
    "df['pronoun_count']=pronoun_count"
   ]
  },
  {
   "cell_type": "code",
   "execution_count": 157,
   "metadata": {},
   "outputs": [],
   "source": [
    "pronoun_count = np.array(pronoun_count)\n",
    "np.save('pronoun_count', pronoun_count)"
   ]
  },
  {
   "cell_type": "markdown",
   "metadata": {},
   "source": [
    "## Sentiment Score"
   ]
  },
  {
   "cell_type": "code",
   "execution_count": 158,
   "metadata": {},
   "outputs": [],
   "source": [
    "positive_score = []\n",
    "for text in list(df.cln_content):\n",
    "    result = 0\n",
    "    for words in positive_words:\n",
    "        if words in text:\n",
    "            result += 1\n",
    "    positive_score.append(result)\n",
    "# positive_score"
   ]
  },
  {
   "cell_type": "code",
   "execution_count": 159,
   "metadata": {},
   "outputs": [],
   "source": [
    "negative_score = []\n",
    "for text in list(df.cln_content):\n",
    "    result = 0\n",
    "    for words in negative_words:\n",
    "        if words in text:\n",
    "            result -= 1\n",
    "    negative_score.append(result)\n",
    "# negative_score"
   ]
  },
  {
   "cell_type": "code",
   "execution_count": 160,
   "metadata": {},
   "outputs": [],
   "source": [
    "df['polarity_score'] = [positive_score[i] + negative_score[i] for i in range(len(positive_score))]"
   ]
  },
  {
   "cell_type": "code",
   "execution_count": 161,
   "metadata": {},
   "outputs": [],
   "source": [
    "df.loc[df.polarity_score > 0, 'sentiment'] = '1' \n",
    "df.loc[df.polarity_score < 0, 'sentiment'] = '-1' \n",
    "df.loc[df.polarity_score == 0, 'sentiment'] = '0'\n"
   ]
  },
  {
   "cell_type": "code",
   "execution_count": 164,
   "metadata": {},
   "outputs": [],
   "source": [
    "sentiment=df['sentiment']\n",
    "sentiment = np.array(sentiment)\n",
    "np.save('sentiment', sentiment)"
   ]
  },
  {
   "cell_type": "code",
   "execution_count": 174,
   "metadata": {},
   "outputs": [],
   "source": [
    "def concats(vec1, vec2,vec3,vec4):\n",
    "    return np.concatenate((vec1, vec2,vec3,vec4))"
   ]
  },
  {
   "cell_type": "code",
   "execution_count": 176,
   "metadata": {},
   "outputs": [
    {
     "ename": "ValueError",
     "evalue": "zero-dimensional arrays cannot be concatenated",
     "output_type": "error",
     "traceback": [
      "\u001b[0;31m---------------------------------------------------------------------------\u001b[0m",
      "\u001b[0;31mValueError\u001b[0m                                Traceback (most recent call last)",
      "\u001b[0;32m<ipython-input-176-1da06723ad7f>\u001b[0m in \u001b[0;36m<module>\u001b[0;34m\u001b[0m\n\u001b[1;32m      1\u001b[0m \u001b[0mannox\u001b[0m\u001b[0;34m=\u001b[0m\u001b[0;34m[\u001b[0m\u001b[0;34m]\u001b[0m\u001b[0;34m\u001b[0m\u001b[0;34m\u001b[0m\u001b[0m\n\u001b[1;32m      2\u001b[0m \u001b[0;32mfor\u001b[0m \u001b[0memb1\u001b[0m\u001b[0;34m,\u001b[0m \u001b[0memb2\u001b[0m\u001b[0;34m,\u001b[0m\u001b[0memb3\u001b[0m\u001b[0;34m,\u001b[0m\u001b[0memb4\u001b[0m \u001b[0;32min\u001b[0m \u001b[0mzip\u001b[0m\u001b[0;34m(\u001b[0m\u001b[0mporn_score\u001b[0m\u001b[0;34m,\u001b[0m\u001b[0mprofanity_score\u001b[0m\u001b[0;34m,\u001b[0m\u001b[0mpronoun_count\u001b[0m\u001b[0;34m,\u001b[0m\u001b[0msentiment\u001b[0m\u001b[0;34m)\u001b[0m\u001b[0;34m:\u001b[0m\u001b[0;34m\u001b[0m\u001b[0;34m\u001b[0m\u001b[0m\n\u001b[0;32m----> 3\u001b[0;31m     \u001b[0mres\u001b[0m\u001b[0;34m=\u001b[0m\u001b[0mconcats\u001b[0m\u001b[0;34m(\u001b[0m\u001b[0memb1\u001b[0m\u001b[0;34m,\u001b[0m\u001b[0memb2\u001b[0m\u001b[0;34m,\u001b[0m\u001b[0memb3\u001b[0m\u001b[0;34m,\u001b[0m\u001b[0memb4\u001b[0m\u001b[0;34m)\u001b[0m\u001b[0;34m\u001b[0m\u001b[0;34m\u001b[0m\u001b[0m\n\u001b[0m\u001b[1;32m      4\u001b[0m     \u001b[0mannox\u001b[0m\u001b[0;34m.\u001b[0m\u001b[0mappend\u001b[0m\u001b[0;34m(\u001b[0m\u001b[0mres\u001b[0m\u001b[0;34m)\u001b[0m\u001b[0;34m\u001b[0m\u001b[0;34m\u001b[0m\u001b[0m\n\u001b[1;32m      5\u001b[0m \u001b[0;34m\u001b[0m\u001b[0m\n",
      "\u001b[0;32m<ipython-input-174-5cf15cc5ab90>\u001b[0m in \u001b[0;36mconcats\u001b[0;34m(vec1, vec2, vec3, vec4)\u001b[0m\n\u001b[1;32m      1\u001b[0m \u001b[0;32mdef\u001b[0m \u001b[0mconcats\u001b[0m\u001b[0;34m(\u001b[0m\u001b[0mvec1\u001b[0m\u001b[0;34m,\u001b[0m \u001b[0mvec2\u001b[0m\u001b[0;34m,\u001b[0m\u001b[0mvec3\u001b[0m\u001b[0;34m,\u001b[0m\u001b[0mvec4\u001b[0m\u001b[0;34m)\u001b[0m\u001b[0;34m:\u001b[0m\u001b[0;34m\u001b[0m\u001b[0;34m\u001b[0m\u001b[0m\n\u001b[0;32m----> 2\u001b[0;31m     \u001b[0;32mreturn\u001b[0m \u001b[0mnp\u001b[0m\u001b[0;34m.\u001b[0m\u001b[0mconcatenate\u001b[0m\u001b[0;34m(\u001b[0m\u001b[0;34m(\u001b[0m\u001b[0mvec1\u001b[0m\u001b[0;34m,\u001b[0m \u001b[0mvec2\u001b[0m\u001b[0;34m,\u001b[0m\u001b[0mvec3\u001b[0m\u001b[0;34m,\u001b[0m\u001b[0mvec4\u001b[0m\u001b[0;34m)\u001b[0m\u001b[0;34m)\u001b[0m\u001b[0;34m\u001b[0m\u001b[0;34m\u001b[0m\u001b[0m\n\u001b[0m",
      "\u001b[0;32m<__array_function__ internals>\u001b[0m in \u001b[0;36mconcatenate\u001b[0;34m(*args, **kwargs)\u001b[0m\n",
      "\u001b[0;31mValueError\u001b[0m: zero-dimensional arrays cannot be concatenated"
     ]
    }
   ],
   "source": [
    "annox=[]\n",
    "for emb1, emb2,emb3,emb4 in zip(porn_score,profanity_score,pronoun_count,sentiment):\n",
    "    res=concats(emb1,emb2,emb3,emb4)\n",
    "    annox.append(res)\n",
    "    \n",
    "len(annox)"
   ]
  },
  {
   "cell_type": "markdown",
   "metadata": {},
   "source": [
    "## Fleiss' Kappa"
   ]
  },
  {
   "cell_type": "code",
   "execution_count": 6,
   "metadata": {},
   "outputs": [
    {
     "name": "stdout",
     "output_type": "stream",
     "text": [
      "kappa 0.35171479887686874\n",
      "fleiss 0.3500214977361773\n",
      "alpha 0.33968551893206667\n",
      "scotts 0.33924501560913944\n"
     ]
    }
   ],
   "source": [
    "#using NLTK\n",
    "rater1 = df['dh_1']\n",
    "rater2 = df['dh_2']\n",
    "rater3 = df['dh_3']\n",
    "\n",
    "taskdata=[[0,str(i),str(rater1[i])] for i in range(0,len(rater1))]+[[1,str(i),str(rater2[i])] for i in range(0,len(rater2))]+[[2,str(i),str(rater3[i])] for i in range(0,len(rater3))]\n",
    "ratingtask = agreement.AnnotationTask(data=taskdata)\n",
    "print(\"kappa \" +str(ratingtask.kappa()))\n",
    "print(\"fleiss \" + str(ratingtask.multi_kappa()))\n",
    "print(\"alpha \" +str(ratingtask.alpha()))\n",
    "print(\"scotts \" + str(ratingtask.pi()))"
   ]
  },
  {
   "cell_type": "code",
   "execution_count": 123,
   "metadata": {},
   "outputs": [],
   "source": [
    "#a ratio relating the level of agreement observed vs what would be expected by chance\n",
    "def fleiss_kappa(lists, classes):\n",
    "    n = len(lists)\n",
    "    N = len(lists[0])\n",
    "    k = len(classes)\n",
    "    \n",
    "    nij = []\n",
    "    for i in range(N):\n",
    "        nij.append([0]*k)\n",
    "        \n",
    "    \n",
    "    for i in range(len(lists)):\n",
    "        for j in range(len(lists[i])):\n",
    "            nij[j][classes.index(lists[i][j])] += 1 \n",
    "    \n",
    "    P = []\n",
    "    for i in nij:\n",
    "        P.append(1/(n*(n-1))*(sum([j*j for j in i])-n))\n",
    "    return (((sum(P)/N)-(sum([y*y for y in [x/(N*n) for x in[sum(i) for i in zip(*nij)]]])))/(1-sum([y*y for y in [x/(N*n) for x in[sum(i) for i in zip(*nij)]]]))+1)/2"
   ]
  },
  {
   "cell_type": "code",
   "execution_count": 124,
   "metadata": {},
   "outputs": [
    {
     "name": "stdout",
     "output_type": "stream",
     "text": [
      "0.6696225078045701\n"
     ]
    }
   ],
   "source": [
    "classes = [0, 1, 2, 3] \n",
    "\n",
    "rater1 = df['dh_1']\n",
    "rater2 = df['dh_2']\n",
    "rater3 = df['dh_3']\n",
    "\n",
    "ratings = [rater1, rater2, rater3]\n",
    "\n",
    "print(fleiss_kappa(ratings, classes))"
   ]
  },
  {
   "cell_type": "markdown",
   "metadata": {},
   "source": [
    "## Integer encoding + Min-Max Scaling"
   ]
  },
  {
   "cell_type": "markdown",
   "metadata": {},
   "source": [
    "scale these numerical descriptive features before fitting any models"
   ]
  },
  {
   "cell_type": "markdown",
   "metadata": {},
   "source": [
    "Each descriptive feature is scaled to be between 0 and 1. Min-max scaling for a numerical feature is done as follows:"
   ]
  },
  {
   "attachments": {
    "image.png": {
     "image/png": "[encoded data removed]"
    }
   },
   "cell_type": "markdown",
   "metadata": {},
   "source": [
    "![image.png](attachment:image.png)"
   ]
  },
  {
   "cell_type": "code",
   "execution_count": 125,
   "metadata": {},
   "outputs": [],
   "source": [
    "r_df=pd.DataFrame({'rater1':rater1,'rater2':rater2,'rater3':rater3}, columns=['rater1','rater2','rater3'])\n",
    "df['rating_avg']=r_df.mean(axis=1)"
   ]
  },
  {
   "cell_type": "code",
   "execution_count": 126,
   "metadata": {},
   "outputs": [],
   "source": [
    "x=df['rating_avg'].values"
   ]
  },
  {
   "cell_type": "code",
   "execution_count": 127,
   "metadata": {},
   "outputs": [],
   "source": [
    "#其實已經做了Integer encoding, 可當成是numerical\n",
    "x=x.reshape((-1,1))\n",
    "min_max= preprocessing.MinMaxScaler().fit_transform(x).ravel()"
   ]
  },
  {
   "cell_type": "code",
   "execution_count": 128,
   "metadata": {},
   "outputs": [],
   "source": [
    "df['min_max']=min_max"
   ]
  },
  {
   "cell_type": "markdown",
   "metadata": {},
   "source": [
    "##  Integer encoding + Standard Scaling"
   ]
  },
  {
   "cell_type": "markdown",
   "metadata": {},
   "source": [
    "Each descriptive feature has a 0 mean and 1 standard deviation. "
   ]
  },
  {
   "attachments": {
    "image.png": {
     "image/png": "[encoded data removed]"
    }
   },
   "cell_type": "markdown",
   "metadata": {},
   "source": [
    "![image.png](attachment:image.png)"
   ]
  },
  {
   "cell_type": "code",
   "execution_count": 65,
   "metadata": {},
   "outputs": [],
   "source": [
    "x=df['rating_avg'].values\n",
    "x=x.reshape((-1,1))\n",
    "standard = preprocessing.StandardScaler().fit_transform(x).ravel()"
   ]
  },
  {
   "cell_type": "code",
   "execution_count": 66,
   "metadata": {},
   "outputs": [],
   "source": [
    "df['standard']=standard"
   ]
  },
  {
   "cell_type": "code",
   "execution_count": 71,
   "metadata": {},
   "outputs": [],
   "source": [
    "#labelencoder = LabelEncoder()\n",
    "#df['dh_1_label_enc'] = labelencoder.fit_transform(df['dh_1'])\n",
    "#df['dh_1_label_enc']"
   ]
  },
  {
   "cell_type": "markdown",
   "metadata": {},
   "source": [
    "## Anno-500 標記統計"
   ]
  },
  {
   "cell_type": "code",
   "execution_count": 12,
   "metadata": {},
   "outputs": [],
   "source": [
    "import matplotlib.pyplot as plt"
   ]
  },
  {
   "cell_type": "code",
   "execution_count": 87,
   "metadata": {},
   "outputs": [
    {
     "data": {
      "image/png": "[encoded data removed]",
      "text/plain": [
       "<Figure size 432x288 with 1 Axes>"
      ]
     },
     "metadata": {
      "needs_background": "light"
     },
     "output_type": "display_data"
    }
   ],
   "source": [
    "x = [\"zero_overlap\",\"two_overlap\", \"all_overlap\"]\n",
    "y = [45, 256,199]\n",
    "bar=plt.bar(x, y)\n",
    "for rect in bar:\n",
    "    height = rect.get_height()\n",
    "    plt.text(rect.get_x() + rect.get_width()/2.0, height, '%d' % int(height), ha='center', va='bottom')\n",
    "plt.xlabel(\"Agreement\")\n",
    "plt.ylabel(\"Counts\")\n",
    "plt.title(\"Bar Chart of Dark Humor Annotation Agreement\")\n",
    "plt.show()"
   ]
  },
  {
   "cell_type": "code",
   "execution_count": 11,
   "metadata": {},
   "outputs": [
    {
     "data": {
      "text/html": [
       "<div>\n",
       "<style scoped>\n",
       "    .dataframe tbody tr th:only-of-type {\n",
       "        vertical-align: middle;\n",
       "    }\n",
       "\n",
       "    .dataframe tbody tr th {\n",
       "        vertical-align: top;\n",
       "    }\n",
       "\n",
       "    .dataframe thead th {\n",
       "        text-align: right;\n",
       "    }\n",
       "</style>\n",
       "<table border=\"1\" class=\"dataframe\">\n",
       "  <thead>\n",
       "    <tr style=\"text-align: right;\">\n",
       "      <th></th>\n",
       "      <th>ID</th>\n",
       "      <th>Images</th>\n",
       "      <th>OCR</th>\n",
       "      <th>Template_Name</th>\n",
       "      <th>dh_1</th>\n",
       "      <th>dh_2</th>\n",
       "      <th>dh_3</th>\n",
       "      <th>cln_content</th>\n",
       "      <th>ocr_emb</th>\n",
       "      <th>tm_emb</th>\n",
       "      <th>p2v2_emb</th>\n",
       "      <th>ocr_tm_p2v2_500_emb</th>\n",
       "      <th>porn_score</th>\n",
       "      <th>profanity_score</th>\n",
       "      <th>pronoun_count</th>\n",
       "      <th>polarity_score</th>\n",
       "      <th>sentiment</th>\n",
       "      <th>rating_avg</th>\n",
       "      <th>min_max</th>\n",
       "    </tr>\n",
       "  </thead>\n",
       "  <tbody>\n",
       "    <tr>\n",
       "      <th>0</th>\n",
       "      <td>1</td>\n",
       "      <td>NaN</td>\n",
       "      <td>當我再差幾秒就遲到時，卻在這幾秒內衝到學校。我。學校。</td>\n",
       "      <td>自信的善逸</td>\n",
       "      <td>0</td>\n",
       "      <td>0</td>\n",
       "      <td>0</td>\n",
       "      <td>[當我, 再, 差, 幾秒, 就, 遲到, 時, ，, 卻, 在, 這幾秒, 內, 衝到, ...</td>\n",
       "      <td>[-0.0034480316, -0.0014064792, -0.020086164, -...</td>\n",
       "      <td>[-0.051428244, -0.006179096, 0.012731423, -0.0...</td>\n",
       "      <td>[-0.5377346, 0.8174292, 0.43731427, -0.4928556...</td>\n",
       "      <td>[-0.0034480316, -0.0014064792, -0.020086164, -...</td>\n",
       "      <td>0</td>\n",
       "      <td>0</td>\n",
       "      <td>1</td>\n",
       "      <td>0</td>\n",
       "      <td>0</td>\n",
       "      <td>0.000000</td>\n",
       "      <td>0.000000</td>\n",
       "    </tr>\n",
       "    <tr>\n",
       "      <th>1</th>\n",
       "      <td>2</td>\n",
       "      <td>NaN</td>\n",
       "      <td>當你以為他們要幫你拿倉鼠飼料來餵你吃，但手上卻是拿著兩條蟒蛇加上一個攝影機。</td>\n",
       "      <td>怕爆倉鼠</td>\n",
       "      <td>0</td>\n",
       "      <td>2</td>\n",
       "      <td>0</td>\n",
       "      <td>[當你以, 為, 他們, 要, 幫, 你, 拿, 倉鼠, 飼料, 來, 餵, 你, 吃, ，...</td>\n",
       "      <td>[0.013175973, -0.0027130025, 0.030018723, 0.02...</td>\n",
       "      <td>[-0.005815765, 0.007365296, 0.0742434, 0.01984...</td>\n",
       "      <td>[-0.35660374, 0.6002908, 0.49771008, -0.273855...</td>\n",
       "      <td>[0.013175973, -0.0027130025, 0.030018723, 0.02...</td>\n",
       "      <td>0</td>\n",
       "      <td>0</td>\n",
       "      <td>1</td>\n",
       "      <td>0</td>\n",
       "      <td>0</td>\n",
       "      <td>0.666667</td>\n",
       "      <td>0.222222</td>\n",
       "    </tr>\n",
       "    <tr>\n",
       "      <th>2</th>\n",
       "      <td>3</td>\n",
       "      <td>NaN</td>\n",
       "      <td>紅燈了行人大搖大擺的過馬路。行人。台灣的計程車司機\\n</td>\n",
       "      <td>小丑被車撞</td>\n",
       "      <td>0</td>\n",
       "      <td>1</td>\n",
       "      <td>0</td>\n",
       "      <td>[紅燈, 了, 行, 人大, 搖大, 擺, 的, 過馬路, 。, 行人, 。, 台灣, 的,...</td>\n",
       "      <td>[-0.035057098, -0.073808864, -0.018074743, 0.0...</td>\n",
       "      <td>[-0.028380213, -0.022930214, -0.0462088, 0.035...</td>\n",
       "      <td>[-0.20228152, 0.4813008, 0.08527977, -0.103984...</td>\n",
       "      <td>[-0.035057098, -0.073808864, -0.018074743, 0.0...</td>\n",
       "      <td>0</td>\n",
       "      <td>0</td>\n",
       "      <td>0</td>\n",
       "      <td>0</td>\n",
       "      <td>0</td>\n",
       "      <td>0.333333</td>\n",
       "      <td>0.111111</td>\n",
       "    </tr>\n",
       "    <tr>\n",
       "      <th>3</th>\n",
       "      <td>4</td>\n",
       "      <td>NaN</td>\n",
       "      <td>辛普森家庭從來不會讓我失望。AREA 51 WARNING:DO NOT ENTER!\\n\\n</td>\n",
       "      <td>51禁區辛普森家族早就知道了</td>\n",
       "      <td>0</td>\n",
       "      <td>0</td>\n",
       "      <td>0</td>\n",
       "      <td>[辛普森, 家庭, 從來, 不會, 讓, 我, 失望, 。, AREA,  , 51,  ,...</td>\n",
       "      <td>[0.014597042, -0.008372392, 0.042043738, 0.007...</td>\n",
       "      <td>[0.03861497, -0.026871063, 0.057037357, 0.0161...</td>\n",
       "      <td>[0.18491076, 0.5516072, 0.264255, 0.2202262, -...</td>\n",
       "      <td>[0.014597042, -0.008372392, 0.042043738, 0.007...</td>\n",
       "      <td>0</td>\n",
       "      <td>0</td>\n",
       "      <td>1</td>\n",
       "      <td>-3</td>\n",
       "      <td>-1</td>\n",
       "      <td>0.000000</td>\n",
       "      <td>0.000000</td>\n",
       "    </tr>\n",
       "    <tr>\n",
       "      <th>4</th>\n",
       "      <td>5</td>\n",
       "      <td>NaN</td>\n",
       "      <td>武漢肺炎疫情日漸嚴重。習近平:</td>\n",
       "      <td>小熊維尼笑</td>\n",
       "      <td>0</td>\n",
       "      <td>1</td>\n",
       "      <td>2</td>\n",
       "      <td>[武漢, 肺炎, 疫情, 日漸, 嚴重, 。, 習近, 平, :]</td>\n",
       "      <td>[0.0012484181, -0.026934076, 0.0077450513, 0.0...</td>\n",
       "      <td>[-0.017085267, -0.011113647, 0.05663415, 0.012...</td>\n",
       "      <td>[-0.13843994, 0.43964586, 0.3693608, -0.027635...</td>\n",
       "      <td>[0.0012484181, -0.026934076, 0.0077450513, 0.0...</td>\n",
       "      <td>0</td>\n",
       "      <td>0</td>\n",
       "      <td>0</td>\n",
       "      <td>-2</td>\n",
       "      <td>-1</td>\n",
       "      <td>1.000000</td>\n",
       "      <td>0.333333</td>\n",
       "    </tr>\n",
       "    <tr>\n",
       "      <th>5</th>\n",
       "      <td>6</td>\n",
       "      <td>NaN</td>\n",
       "      <td>女人:我的傷勢如何?護理人員:還不錯,只有腿部擦傷而已。女人:我能看看嗎?護理人員:不太方便...</td>\n",
       "      <td>女人躺在救護車上</td>\n",
       "      <td>2</td>\n",
       "      <td>2</td>\n",
       "      <td>2</td>\n",
       "      <td>[女人, :, 我, 的, 傷勢, 如何, ?, 護理, 人員, :, 還不錯, ,, 只有...</td>\n",
       "      <td>[0.051407035, 0.015403028, 0.06547234, 0.00215...</td>\n",
       "      <td>[0.018699622, -0.018211206, -0.0697222, 0.0294...</td>\n",
       "      <td>[-0.6882256, 0.49104884, 0.3950626, -0.0669471...</td>\n",
       "      <td>[0.051407035, 0.015403028, 0.06547234, 0.00215...</td>\n",
       "      <td>0</td>\n",
       "      <td>0</td>\n",
       "      <td>1</td>\n",
       "      <td>-2</td>\n",
       "      <td>-1</td>\n",
       "      <td>2.000000</td>\n",
       "      <td>0.666667</td>\n",
       "    </tr>\n",
       "    <tr>\n",
       "      <th>6</th>\n",
       "      <td>7</td>\n",
       "      <td>NaN</td>\n",
       "      <td>醫生:史蒂芬妮,你快死了。病人:什麼!?醫生:愚人節快樂!病人:哈哈哈,可是今天不是四月一號...</td>\n",
       "      <td>醫生看著苦惱的病人</td>\n",
       "      <td>2</td>\n",
       "      <td>2</td>\n",
       "      <td>2</td>\n",
       "      <td>[醫生, :, 史蒂芬, 妮, ,, 你, 快死了, 。, 病人, :, 什麼, !, ?,...</td>\n",
       "      <td>[0.006917947, -0.040207602, 0.0038061142, -0.0...</td>\n",
       "      <td>[0.019617623, -0.023825625, -0.020928422, 0.01...</td>\n",
       "      <td>[-0.52309585, 0.67755055, 0.43121225, -0.56486...</td>\n",
       "      <td>[0.006917947, -0.040207602, 0.0038061142, -0.0...</td>\n",
       "      <td>0</td>\n",
       "      <td>0</td>\n",
       "      <td>2</td>\n",
       "      <td>-4</td>\n",
       "      <td>-1</td>\n",
       "      <td>2.000000</td>\n",
       "      <td>0.666667</td>\n",
       "    </tr>\n",
       "    <tr>\n",
       "      <th>7</th>\n",
       "      <td>8</td>\n",
       "      <td>NaN</td>\n",
       "      <td>皮卡:我不是腦麻兒。皮卡。\\n</td>\n",
       "      <td>低能兒</td>\n",
       "      <td>2</td>\n",
       "      <td>3</td>\n",
       "      <td>2</td>\n",
       "      <td>[皮卡, :, 我, 不是, 腦麻兒, 。, 皮卡, 。, \\n]</td>\n",
       "      <td>[0.06848506, -0.05862978, -0.0019475162, -0.03...</td>\n",
       "      <td>[0.013279542, -0.06721787, -0.024495786, -0.05...</td>\n",
       "      <td>[-0.45322442, 0.9036457, 0.34255874, -0.193167...</td>\n",
       "      <td>[0.06848506, -0.05862978, -0.0019475162, -0.03...</td>\n",
       "      <td>0</td>\n",
       "      <td>0</td>\n",
       "      <td>1</td>\n",
       "      <td>-1</td>\n",
       "      <td>-1</td>\n",
       "      <td>2.333333</td>\n",
       "      <td>0.777778</td>\n",
       "    </tr>\n",
       "    <tr>\n",
       "      <th>8</th>\n",
       "      <td>9</td>\n",
       "      <td>NaN</td>\n",
       "      <td>給三歲半的小妹妹買的芭比娃娃，但她的玩法好像和其他孩子有點不同..\\n</td>\n",
       "      <td>芭比娃娃欺負別人</td>\n",
       "      <td>1</td>\n",
       "      <td>1</td>\n",
       "      <td>0</td>\n",
       "      <td>[給三歲, 半, 的, 小妹妹, 買, 的, 芭比娃娃, ，, 但, 她, 的, 玩法, 好...</td>\n",
       "      <td>[0.032532975, 0.00016502145, 0.017045466, 0.01...</td>\n",
       "      <td>[-0.03801355, -0.023124255, 0.053622477, 0.006...</td>\n",
       "      <td>[-0.3106686, 0.575411, 0.7006884, -0.48054448,...</td>\n",
       "      <td>[0.032532975, 0.00016502145, 0.017045466, 0.01...</td>\n",
       "      <td>0</td>\n",
       "      <td>0</td>\n",
       "      <td>0</td>\n",
       "      <td>1</td>\n",
       "      <td>1</td>\n",
       "      <td>0.666667</td>\n",
       "      <td>0.222222</td>\n",
       "    </tr>\n",
       "    <tr>\n",
       "      <th>9</th>\n",
       "      <td>10</td>\n",
       "      <td>NaN</td>\n",
       "      <td>中國人:「相信党,相信政府!」口罩都不用戴了?不戴!相信政府!</td>\n",
       "      <td>大媽開心、停屍間</td>\n",
       "      <td>2</td>\n",
       "      <td>2</td>\n",
       "      <td>2</td>\n",
       "      <td>[中國人, :, 「, 相信, 党, ,, 相信, 政府, !, 」, 口罩, 都, 不用,...</td>\n",
       "      <td>[0.01874962, 0.055081934, 0.02705088, -0.02416...</td>\n",
       "      <td>[-0.006264757, -0.04730464, -0.008424059, -0.0...</td>\n",
       "      <td>[0.38690665, 0.57285905, 0.6802858, 0.15483646...</td>\n",
       "      <td>[0.01874962, 0.055081934, 0.02705088, -0.02416...</td>\n",
       "      <td>0</td>\n",
       "      <td>0</td>\n",
       "      <td>0</td>\n",
       "      <td>-1</td>\n",
       "      <td>-1</td>\n",
       "      <td>2.000000</td>\n",
       "      <td>0.666667</td>\n",
       "    </tr>\n",
       "  </tbody>\n",
       "</table>\n",
       "</div>"
      ],
      "text/plain": [
       "   ID  Images                                                OCR  \\\n",
       "0   1     NaN                        當我再差幾秒就遲到時，卻在這幾秒內衝到學校。我。學校。   \n",
       "1   2     NaN             當你以為他們要幫你拿倉鼠飼料來餵你吃，但手上卻是拿著兩條蟒蛇加上一個攝影機。   \n",
       "2   3     NaN                        紅燈了行人大搖大擺的過馬路。行人。台灣的計程車司機\\n   \n",
       "3   4     NaN    辛普森家庭從來不會讓我失望。AREA 51 WARNING:DO NOT ENTER!\\n\\n   \n",
       "4   5     NaN                                    武漢肺炎疫情日漸嚴重。習近平:   \n",
       "5   6     NaN  女人:我的傷勢如何?護理人員:還不錯,只有腿部擦傷而已。女人:我能看看嗎?護理人員:不太方便...   \n",
       "6   7     NaN  醫生:史蒂芬妮,你快死了。病人:什麼!?醫生:愚人節快樂!病人:哈哈哈,可是今天不是四月一號...   \n",
       "7   8     NaN                                    皮卡:我不是腦麻兒。皮卡。\\n   \n",
       "8   9     NaN                給三歲半的小妹妹買的芭比娃娃，但她的玩法好像和其他孩子有點不同..\\n   \n",
       "9  10     NaN                    中國人:「相信党,相信政府!」口罩都不用戴了?不戴!相信政府!   \n",
       "\n",
       "    Template_Name  dh_1  dh_2  dh_3  \\\n",
       "0           自信的善逸     0     0     0   \n",
       "1            怕爆倉鼠     0     2     0   \n",
       "2           小丑被車撞     0     1     0   \n",
       "3  51禁區辛普森家族早就知道了     0     0     0   \n",
       "4           小熊維尼笑     0     1     2   \n",
       "5        女人躺在救護車上     2     2     2   \n",
       "6       醫生看著苦惱的病人     2     2     2   \n",
       "7             低能兒     2     3     2   \n",
       "8        芭比娃娃欺負別人     1     1     0   \n",
       "9        大媽開心、停屍間     2     2     2   \n",
       "\n",
       "                                         cln_content  \\\n",
       "0  [當我, 再, 差, 幾秒, 就, 遲到, 時, ，, 卻, 在, 這幾秒, 內, 衝到, ...   \n",
       "1  [當你以, 為, 他們, 要, 幫, 你, 拿, 倉鼠, 飼料, 來, 餵, 你, 吃, ，...   \n",
       "2  [紅燈, 了, 行, 人大, 搖大, 擺, 的, 過馬路, 。, 行人, 。, 台灣, 的,...   \n",
       "3  [辛普森, 家庭, 從來, 不會, 讓, 我, 失望, 。, AREA,  , 51,  ,...   \n",
       "4                  [武漢, 肺炎, 疫情, 日漸, 嚴重, 。, 習近, 平, :]   \n",
       "5  [女人, :, 我, 的, 傷勢, 如何, ?, 護理, 人員, :, 還不錯, ,, 只有...   \n",
       "6  [醫生, :, 史蒂芬, 妮, ,, 你, 快死了, 。, 病人, :, 什麼, !, ?,...   \n",
       "7                  [皮卡, :, 我, 不是, 腦麻兒, 。, 皮卡, 。, \\n]   \n",
       "8  [給三歲, 半, 的, 小妹妹, 買, 的, 芭比娃娃, ，, 但, 她, 的, 玩法, 好...   \n",
       "9  [中國人, :, 「, 相信, 党, ,, 相信, 政府, !, 」, 口罩, 都, 不用,...   \n",
       "\n",
       "                                             ocr_emb  \\\n",
       "0  [-0.0034480316, -0.0014064792, -0.020086164, -...   \n",
       "1  [0.013175973, -0.0027130025, 0.030018723, 0.02...   \n",
       "2  [-0.035057098, -0.073808864, -0.018074743, 0.0...   \n",
       "3  [0.014597042, -0.008372392, 0.042043738, 0.007...   \n",
       "4  [0.0012484181, -0.026934076, 0.0077450513, 0.0...   \n",
       "5  [0.051407035, 0.015403028, 0.06547234, 0.00215...   \n",
       "6  [0.006917947, -0.040207602, 0.0038061142, -0.0...   \n",
       "7  [0.06848506, -0.05862978, -0.0019475162, -0.03...   \n",
       "8  [0.032532975, 0.00016502145, 0.017045466, 0.01...   \n",
       "9  [0.01874962, 0.055081934, 0.02705088, -0.02416...   \n",
       "\n",
       "                                              tm_emb  \\\n",
       "0  [-0.051428244, -0.006179096, 0.012731423, -0.0...   \n",
       "1  [-0.005815765, 0.007365296, 0.0742434, 0.01984...   \n",
       "2  [-0.028380213, -0.022930214, -0.0462088, 0.035...   \n",
       "3  [0.03861497, -0.026871063, 0.057037357, 0.0161...   \n",
       "4  [-0.017085267, -0.011113647, 0.05663415, 0.012...   \n",
       "5  [0.018699622, -0.018211206, -0.0697222, 0.0294...   \n",
       "6  [0.019617623, -0.023825625, -0.020928422, 0.01...   \n",
       "7  [0.013279542, -0.06721787, -0.024495786, -0.05...   \n",
       "8  [-0.03801355, -0.023124255, 0.053622477, 0.006...   \n",
       "9  [-0.006264757, -0.04730464, -0.008424059, -0.0...   \n",
       "\n",
       "                                            p2v2_emb  \\\n",
       "0  [-0.5377346, 0.8174292, 0.43731427, -0.4928556...   \n",
       "1  [-0.35660374, 0.6002908, 0.49771008, -0.273855...   \n",
       "2  [-0.20228152, 0.4813008, 0.08527977, -0.103984...   \n",
       "3  [0.18491076, 0.5516072, 0.264255, 0.2202262, -...   \n",
       "4  [-0.13843994, 0.43964586, 0.3693608, -0.027635...   \n",
       "5  [-0.6882256, 0.49104884, 0.3950626, -0.0669471...   \n",
       "6  [-0.52309585, 0.67755055, 0.43121225, -0.56486...   \n",
       "7  [-0.45322442, 0.9036457, 0.34255874, -0.193167...   \n",
       "8  [-0.3106686, 0.575411, 0.7006884, -0.48054448,...   \n",
       "9  [0.38690665, 0.57285905, 0.6802858, 0.15483646...   \n",
       "\n",
       "                                 ocr_tm_p2v2_500_emb  porn_score  \\\n",
       "0  [-0.0034480316, -0.0014064792, -0.020086164, -...           0   \n",
       "1  [0.013175973, -0.0027130025, 0.030018723, 0.02...           0   \n",
       "2  [-0.035057098, -0.073808864, -0.018074743, 0.0...           0   \n",
       "3  [0.014597042, -0.008372392, 0.042043738, 0.007...           0   \n",
       "4  [0.0012484181, -0.026934076, 0.0077450513, 0.0...           0   \n",
       "5  [0.051407035, 0.015403028, 0.06547234, 0.00215...           0   \n",
       "6  [0.006917947, -0.040207602, 0.0038061142, -0.0...           0   \n",
       "7  [0.06848506, -0.05862978, -0.0019475162, -0.03...           0   \n",
       "8  [0.032532975, 0.00016502145, 0.017045466, 0.01...           0   \n",
       "9  [0.01874962, 0.055081934, 0.02705088, -0.02416...           0   \n",
       "\n",
       "   profanity_score  pronoun_count  polarity_score sentiment  rating_avg  \\\n",
       "0                0              1               0         0    0.000000   \n",
       "1                0              1               0         0    0.666667   \n",
       "2                0              0               0         0    0.333333   \n",
       "3                0              1              -3        -1    0.000000   \n",
       "4                0              0              -2        -1    1.000000   \n",
       "5                0              1              -2        -1    2.000000   \n",
       "6                0              2              -4        -1    2.000000   \n",
       "7                0              1              -1        -1    2.333333   \n",
       "8                0              0               1         1    0.666667   \n",
       "9                0              0              -1        -1    2.000000   \n",
       "\n",
       "    min_max  \n",
       "0  0.000000  \n",
       "1  0.222222  \n",
       "2  0.111111  \n",
       "3  0.000000  \n",
       "4  0.333333  \n",
       "5  0.666667  \n",
       "6  0.666667  \n",
       "7  0.777778  \n",
       "8  0.222222  \n",
       "9  0.666667  "
      ]
     },
     "execution_count": 11,
     "metadata": {},
     "output_type": "execute_result"
    }
   ],
   "source": [
    "df.head(10)"
   ]
  },
  {
   "cell_type": "code",
   "execution_count": 48,
   "metadata": {},
   "outputs": [
    {
     "name": "stdout",
     "output_type": "stream",
     "text": [
      "count    500.000000\n",
      "mean       0.860000\n",
      "std        0.846200\n",
      "min        0.000000\n",
      "25%        0.000000\n",
      "50%        0.666667\n",
      "75%        1.666667\n",
      "max        3.000000\n",
      "Name: rating_avg, dtype: float64\n"
     ]
    }
   ],
   "source": [
    "print(df['rating_avg'].describe())"
   ]
  },
  {
   "cell_type": "code",
   "execution_count": 60,
   "metadata": {},
   "outputs": [
    {
     "data": {
      "text/plain": [
       "0    266\n",
       "2    146\n",
       "1     73\n",
       "3     15\n",
       "Name: dh_1, dtype: int64"
      ]
     },
     "execution_count": 60,
     "metadata": {},
     "output_type": "execute_result"
    }
   ],
   "source": [
    "Anno_1=df['dh_1'].value_counts()\n",
    "Anno_2=df['dh_2'].value_counts()\n",
    "Anno_3=df['dh_3'].value_counts()\n",
    "Anno_1\n"
   ]
  },
  {
   "cell_type": "code",
   "execution_count": 62,
   "metadata": {},
   "outputs": [
    {
     "data": {
      "image/png": "[encoded data removed]",
      "text/plain": [
       "<Figure size 432x288 with 1 Axes>"
      ]
     },
     "metadata": {
      "needs_background": "light"
     },
     "output_type": "display_data"
    },
    {
     "data": {
      "text/plain": [
       "<Figure size 432x288 with 0 Axes>"
      ]
     },
     "metadata": {},
     "output_type": "display_data"
    }
   ],
   "source": [
    "labels = ['0', '1', '2', '3']\n",
    "#x = np.arange(len(labels))  # the label locations\n",
    "#width = 0.35  # the width of the bars\n",
    "col_count = 4\n",
    "bar_width = 0.2\n",
    "index = np.arange(col_count)\n",
    "A1_counts = [266, 73, 146, 15]\n",
    "A2_counts = [294, 74, 65, 67]\n",
    "A3_counts = [191, 156, 140, 13]\n",
    "#pdf = pd.DataFrame([['Annotator_1','0',266],['Annotator_1','1',73],['Annotator_1','2',146],['Annotator_1','3',15],\n",
    "                   #['Annotator_2','0',294],['Annotator_2','1',74], ['Annotator_2','2',65], ['Annotator_2','3',67], ['Annotator_3','0',191],  ['Annotator_3','1',156], ['Annotator_3','2',140], ['Annotator_3','3',13]], columns=['Annotators','ratings','val'])\n",
    "#pdf.pivot('Annotators', 'ratings', \"val\").plot(kind='bar')\n",
    "A = plt.bar(index,\n",
    "           A1_counts, \n",
    "           bar_width,\n",
    "           alpha=.4,\n",
    "           label=\"Annotator_1\") \n",
    "B = plt.bar(index+0.2,\n",
    "            A2_counts,\n",
    "            bar_width,\n",
    "            alpha=.4,\n",
    "            label=\"Annotator_2\") \n",
    "C = plt.bar(index+0.4,\n",
    "            A3_counts,\n",
    "            bar_width,\n",
    "            alpha=.4,\n",
    "            label=\"Annotator_3\") # x,y ,width\n",
    "def createLabels(data):\n",
    "    for item in data:\n",
    "        height = item.get_height()\n",
    "        plt.text(\n",
    "            item.get_x()+item.get_width()/2., \n",
    "            height*1.05, \n",
    "            '%d' % int(height),\n",
    "            ha = \"center\",\n",
    "            va = \"bottom\",\n",
    "        )\n",
    "createLabels(A)\n",
    "createLabels(B)\n",
    "createLabels(C)\n",
    "\n",
    "plt.xlabel(\"Ratings\")\n",
    "plt.ylabel(\"Counts\")\n",
    "plt.xticks(index+.3 / 2 ,(\"0\",\"1\",\"2\",\"3\"))\n",
    "#plt.xticks(rotation=360, horizontalalignment=\"center\")\n",
    "plt.legend() #要使用label要加這行\n",
    "plt.title(\"The Distribution of Ratings\")\n",
    "#plt.grid(True)\n",
    "plt.show()\n",
    "\n",
    "plt.savefig('dis_rat.png')"
   ]
  },
  {
   "cell_type": "code",
   "execution_count": 61,
   "metadata": {},
   "outputs": [
    {
     "ename": "ValueError",
     "evalue": "shape mismatch: objects cannot be broadcast to a single shape",
     "output_type": "error",
     "traceback": [
      "\u001b[0;31m---------------------------------------------------------------------------\u001b[0m",
      "\u001b[0;31mValueError\u001b[0m                                Traceback (most recent call last)",
      "\u001b[0;32m<ipython-input-61-9c412efa495e>\u001b[0m in \u001b[0;36m<module>\u001b[0;34m\u001b[0m\n\u001b[1;32m     15\u001b[0m            \u001b[0mbar_width\u001b[0m\u001b[0;34m,\u001b[0m\u001b[0;34m\u001b[0m\u001b[0;34m\u001b[0m\u001b[0m\n\u001b[1;32m     16\u001b[0m            \u001b[0malpha\u001b[0m\u001b[0;34m=\u001b[0m\u001b[0;36m.4\u001b[0m\u001b[0;34m,\u001b[0m\u001b[0;34m\u001b[0m\u001b[0;34m\u001b[0m\u001b[0m\n\u001b[0;32m---> 17\u001b[0;31m            label=\"Annotator_1\") \n\u001b[0m\u001b[1;32m     18\u001b[0m B = plt.bar(index+0.2,\n\u001b[1;32m     19\u001b[0m             \u001b[0mA2_counts\u001b[0m\u001b[0;34m,\u001b[0m\u001b[0;34m\u001b[0m\u001b[0;34m\u001b[0m\u001b[0m\n",
      "\u001b[0;32m/Library/Frameworks/Python.framework/Versions/3.7/lib/python3.7/site-packages/matplotlib/pyplot.py\u001b[0m in \u001b[0;36mbar\u001b[0;34m(x, height, width, bottom, align, data, **kwargs)\u001b[0m\n\u001b[1;32m   2455\u001b[0m     return gca().bar(\n\u001b[1;32m   2456\u001b[0m         \u001b[0mx\u001b[0m\u001b[0;34m,\u001b[0m \u001b[0mheight\u001b[0m\u001b[0;34m,\u001b[0m \u001b[0mwidth\u001b[0m\u001b[0;34m=\u001b[0m\u001b[0mwidth\u001b[0m\u001b[0;34m,\u001b[0m \u001b[0mbottom\u001b[0m\u001b[0;34m=\u001b[0m\u001b[0mbottom\u001b[0m\u001b[0;34m,\u001b[0m \u001b[0malign\u001b[0m\u001b[0;34m=\u001b[0m\u001b[0malign\u001b[0m\u001b[0;34m,\u001b[0m\u001b[0;34m\u001b[0m\u001b[0;34m\u001b[0m\u001b[0m\n\u001b[0;32m-> 2457\u001b[0;31m         **({\"data\": data} if data is not None else {}), **kwargs)\n\u001b[0m\u001b[1;32m   2458\u001b[0m \u001b[0;34m\u001b[0m\u001b[0m\n\u001b[1;32m   2459\u001b[0m \u001b[0;34m\u001b[0m\u001b[0m\n",
      "\u001b[0;32m/Library/Frameworks/Python.framework/Versions/3.7/lib/python3.7/site-packages/matplotlib/__init__.py\u001b[0m in \u001b[0;36minner\u001b[0;34m(ax, data, *args, **kwargs)\u001b[0m\n\u001b[1;32m   1808\u001b[0m                         \u001b[0;34m\"the Matplotlib list!)\"\u001b[0m \u001b[0;34m%\u001b[0m \u001b[0;34m(\u001b[0m\u001b[0mlabel_namer\u001b[0m\u001b[0;34m,\u001b[0m \u001b[0mfunc\u001b[0m\u001b[0;34m.\u001b[0m\u001b[0m__name__\u001b[0m\u001b[0;34m)\u001b[0m\u001b[0;34m,\u001b[0m\u001b[0;34m\u001b[0m\u001b[0;34m\u001b[0m\u001b[0m\n\u001b[1;32m   1809\u001b[0m                         RuntimeWarning, stacklevel=2)\n\u001b[0;32m-> 1810\u001b[0;31m             \u001b[0;32mreturn\u001b[0m \u001b[0mfunc\u001b[0m\u001b[0;34m(\u001b[0m\u001b[0max\u001b[0m\u001b[0;34m,\u001b[0m \u001b[0;34m*\u001b[0m\u001b[0margs\u001b[0m\u001b[0;34m,\u001b[0m \u001b[0;34m**\u001b[0m\u001b[0mkwargs\u001b[0m\u001b[0;34m)\u001b[0m\u001b[0;34m\u001b[0m\u001b[0;34m\u001b[0m\u001b[0m\n\u001b[0m\u001b[1;32m   1811\u001b[0m \u001b[0;34m\u001b[0m\u001b[0m\n\u001b[1;32m   1812\u001b[0m         inner.__doc__ = _add_data_doc(inner.__doc__,\n",
      "\u001b[0;32m/Library/Frameworks/Python.framework/Versions/3.7/lib/python3.7/site-packages/matplotlib/axes/_axes.py\u001b[0m in \u001b[0;36mbar\u001b[0;34m(self, x, height, width, bottom, align, **kwargs)\u001b[0m\n\u001b[1;32m   2249\u001b[0m         x, height, width, y, linewidth = np.broadcast_arrays(\n\u001b[1;32m   2250\u001b[0m             \u001b[0;31m# Make args iterable too.\u001b[0m\u001b[0;34m\u001b[0m\u001b[0;34m\u001b[0m\u001b[0;34m\u001b[0m\u001b[0m\n\u001b[0;32m-> 2251\u001b[0;31m             np.atleast_1d(x), height, width, y, linewidth)\n\u001b[0m\u001b[1;32m   2252\u001b[0m \u001b[0;34m\u001b[0m\u001b[0m\n\u001b[1;32m   2253\u001b[0m         \u001b[0;31m# Now that units have been converted, set the tick locations.\u001b[0m\u001b[0;34m\u001b[0m\u001b[0;34m\u001b[0m\u001b[0;34m\u001b[0m\u001b[0m\n",
      "\u001b[0;32m/Library/Frameworks/Python.framework/Versions/3.7/lib/python3.7/site-packages/numpy/lib/stride_tricks.py\u001b[0m in \u001b[0;36mbroadcast_arrays\u001b[0;34m(*args, **kwargs)\u001b[0m\n\u001b[1;32m    257\u001b[0m     \u001b[0margs\u001b[0m \u001b[0;34m=\u001b[0m \u001b[0;34m[\u001b[0m\u001b[0mnp\u001b[0m\u001b[0;34m.\u001b[0m\u001b[0marray\u001b[0m\u001b[0;34m(\u001b[0m\u001b[0m_m\u001b[0m\u001b[0;34m,\u001b[0m \u001b[0mcopy\u001b[0m\u001b[0;34m=\u001b[0m\u001b[0;32mFalse\u001b[0m\u001b[0;34m,\u001b[0m \u001b[0msubok\u001b[0m\u001b[0;34m=\u001b[0m\u001b[0msubok\u001b[0m\u001b[0;34m)\u001b[0m \u001b[0;32mfor\u001b[0m \u001b[0m_m\u001b[0m \u001b[0;32min\u001b[0m \u001b[0margs\u001b[0m\u001b[0;34m]\u001b[0m\u001b[0;34m\u001b[0m\u001b[0;34m\u001b[0m\u001b[0m\n\u001b[1;32m    258\u001b[0m \u001b[0;34m\u001b[0m\u001b[0m\n\u001b[0;32m--> 259\u001b[0;31m     \u001b[0mshape\u001b[0m \u001b[0;34m=\u001b[0m \u001b[0m_broadcast_shape\u001b[0m\u001b[0;34m(\u001b[0m\u001b[0;34m*\u001b[0m\u001b[0margs\u001b[0m\u001b[0;34m)\u001b[0m\u001b[0;34m\u001b[0m\u001b[0;34m\u001b[0m\u001b[0m\n\u001b[0m\u001b[1;32m    260\u001b[0m \u001b[0;34m\u001b[0m\u001b[0m\n\u001b[1;32m    261\u001b[0m     \u001b[0;32mif\u001b[0m \u001b[0mall\u001b[0m\u001b[0;34m(\u001b[0m\u001b[0marray\u001b[0m\u001b[0;34m.\u001b[0m\u001b[0mshape\u001b[0m \u001b[0;34m==\u001b[0m \u001b[0mshape\u001b[0m \u001b[0;32mfor\u001b[0m \u001b[0marray\u001b[0m \u001b[0;32min\u001b[0m \u001b[0margs\u001b[0m\u001b[0;34m)\u001b[0m\u001b[0;34m:\u001b[0m\u001b[0;34m\u001b[0m\u001b[0;34m\u001b[0m\u001b[0m\n",
      "\u001b[0;32m/Library/Frameworks/Python.framework/Versions/3.7/lib/python3.7/site-packages/numpy/lib/stride_tricks.py\u001b[0m in \u001b[0;36m_broadcast_shape\u001b[0;34m(*args)\u001b[0m\n\u001b[1;32m    191\u001b[0m     \u001b[0;31m# use the old-iterator because np.nditer does not handle size 0 arrays\u001b[0m\u001b[0;34m\u001b[0m\u001b[0;34m\u001b[0m\u001b[0;34m\u001b[0m\u001b[0m\n\u001b[1;32m    192\u001b[0m     \u001b[0;31m# consistently\u001b[0m\u001b[0;34m\u001b[0m\u001b[0;34m\u001b[0m\u001b[0;34m\u001b[0m\u001b[0m\n\u001b[0;32m--> 193\u001b[0;31m     \u001b[0mb\u001b[0m \u001b[0;34m=\u001b[0m \u001b[0mnp\u001b[0m\u001b[0;34m.\u001b[0m\u001b[0mbroadcast\u001b[0m\u001b[0;34m(\u001b[0m\u001b[0;34m*\u001b[0m\u001b[0margs\u001b[0m\u001b[0;34m[\u001b[0m\u001b[0;34m:\u001b[0m\u001b[0;36m32\u001b[0m\u001b[0;34m]\u001b[0m\u001b[0;34m)\u001b[0m\u001b[0;34m\u001b[0m\u001b[0;34m\u001b[0m\u001b[0m\n\u001b[0m\u001b[1;32m    194\u001b[0m     \u001b[0;31m# unfortunately, it cannot handle 32 or more arguments directly\u001b[0m\u001b[0;34m\u001b[0m\u001b[0;34m\u001b[0m\u001b[0;34m\u001b[0m\u001b[0m\n\u001b[1;32m    195\u001b[0m     \u001b[0;32mfor\u001b[0m \u001b[0mpos\u001b[0m \u001b[0;32min\u001b[0m \u001b[0mrange\u001b[0m\u001b[0;34m(\u001b[0m\u001b[0;36m32\u001b[0m\u001b[0;34m,\u001b[0m \u001b[0mlen\u001b[0m\u001b[0;34m(\u001b[0m\u001b[0margs\u001b[0m\u001b[0;34m)\u001b[0m\u001b[0;34m,\u001b[0m \u001b[0;36m31\u001b[0m\u001b[0;34m)\u001b[0m\u001b[0;34m:\u001b[0m\u001b[0;34m\u001b[0m\u001b[0;34m\u001b[0m\u001b[0m\n",
      "\u001b[0;31mValueError\u001b[0m: shape mismatch: objects cannot be broadcast to a single shape"
     ]
    },
    {
     "data": {
      "image/png": "[encoded data removed]",
      "text/plain": [
       "<Figure size 432x288 with 1 Axes>"
      ]
     },
     "metadata": {
      "needs_background": "light"
     },
     "output_type": "display_data"
    }
   ],
   "source": [
    "labels = ['Annotator 1', 'Annotator 2', 'Annotator 3']\n",
    "#x = np.arange(len(labels))  # the label locations\n",
    "#width = 0.35  # the width of the bars\n",
    "col_count = 3\n",
    "bar_width = 0.2\n",
    "index = np.arange(col_count)\n",
    "A1_counts = [266, 73, 146, 15]\n",
    "A2_counts = [294, 74, 65, 67]\n",
    "A3_counts = [191, 156, 140, 13]\n",
    "#pdf = pd.DataFrame([['Annotator_1','0',266],['Annotator_1','1',73],['Annotator_1','2',146],['Annotator_1','3',15],\n",
    "                   #['Annotator_2','0',294],['Annotator_2','1',74], ['Annotator_2','2',65], ['Annotator_2','3',67], ['Annotator_3','0',191],  ['Annotator_3','1',156], ['Annotator_3','2',140], ['Annotator_3','3',13]], columns=['Annotators','ratings','val'])\n",
    "#pdf.pivot('Annotators', 'ratings', \"val\").plot(kind='bar')\n",
    "A = plt.bar(index,\n",
    "           A1_counts, \n",
    "           bar_width,\n",
    "           alpha=.4,\n",
    "           label=\"Annotator_1\") \n",
    "B = plt.bar(index+0.2,\n",
    "            A2_counts,\n",
    "            bar_width,\n",
    "            alpha=.4,\n",
    "            label=\"Annotator_2\") \n",
    "C = plt.bar(index+0.4,\n",
    "            A3_counts,\n",
    "            bar_width,\n",
    "            alpha=.4,\n",
    "            label=\"Annotator_3\") # x,y ,width\n",
    "\n",
    "def createLabels(data):\n",
    "    for item in data:\n",
    "        height = item.get_height()\n",
    "        plt.text(\n",
    "            item.get_x()+item.get_width()/2., \n",
    "            height*1.05, \n",
    "            '%d' % int(height),\n",
    "            ha = \"center\",\n",
    "            va = \"bottom\",\n",
    "        )\n",
    "createLabels(A)\n",
    "createLabels(B)\n",
    "createLabels(C)\n",
    "#createLabels(D)\n",
    "plt.xlabel(\"Ratings\")\n",
    "plt.ylabel(\"Counts\")\n",
    "plt.xticks(index+.3 / 2 ,('Annotator 1', 'Annotator 2', 'Annotator 3'))\n",
    "#plt.xticks(rotation=360, horizontalalignment=\"center\")\n",
    "plt.legend() #要使用label要加這行\n",
    "plt.title(\"The Distribution of Ratings\")\n",
    "#plt.grid(True)\n",
    "plt.show()\n",
    "\n",
    "#plt.savefig('dis_anno.png')"
   ]
  },
  {
   "cell_type": "markdown",
   "metadata": {},
   "source": [
    "## Check df"
   ]
  },
  {
   "cell_type": "code",
   "execution_count": 10,
   "metadata": {},
   "outputs": [
    {
     "data": {
      "text/plain": [
       "Index(['ID', 'Images', 'OCR', 'Template_Name', 'dh_1', 'dh_2', 'dh_3',\n",
       "       'cln_content', 'ocr_emb', 'tm_emb', 'p2v2_emb', 'ocr_tm_p2v2_500_emb',\n",
       "       'porn_score', 'profanity_score', 'pronoun_count', 'polarity_score',\n",
       "       'sentiment', 'rating_avg', 'min_max'],\n",
       "      dtype='object')"
      ]
     },
     "execution_count": 10,
     "metadata": {},
     "output_type": "execute_result"
    }
   ],
   "source": [
    "#還要加轉換後的dh_score進去當target variable\n",
    "df.columns"
   ]
  },
  {
   "cell_type": "code",
   "execution_count": 130,
   "metadata": {},
   "outputs": [],
   "source": [
    "pickle.dump(df, open('df_p2v2.pkl', 'wb'))"
   ]
  },
  {
   "cell_type": "code",
   "execution_count": 9,
   "metadata": {},
   "outputs": [],
   "source": [
    "df = pickle.load(open('df_p2v2.pkl', 'rb')) "
   ]
  },
  {
   "cell_type": "code",
   "execution_count": 5,
   "metadata": {},
   "outputs": [],
   "source": [
    "#df.iloc[:,16]\n",
    "Annox=df.iloc[:,12:16].values"
   ]
  },
  {
   "cell_type": "code",
   "execution_count": 6,
   "metadata": {},
   "outputs": [
    {
     "name": "stdout",
     "output_type": "stream",
     "text": [
      "[[0 0 1 0]\n",
      " [0 0 1 0]\n",
      " [0 0 0 0]\n",
      " ...\n",
      " [0 0 1 1]\n",
      " [0 0 0 0]\n",
      " [0 0 1 2]]\n"
     ]
    }
   ],
   "source": [
    "print(Annox)\n",
    "Annox.shape\n",
    "np.save('Annox', Annox)"
   ]
  },
  {
   "cell_type": "markdown",
   "metadata": {},
   "source": [
    "## Combine np.array"
   ]
  },
  {
   "cell_type": "code",
   "execution_count": 8,
   "metadata": {},
   "outputs": [],
   "source": [
    "#ocr_tm_p2v_500是1536d, Annox是4d\n",
    "#ocr_tm_p2v_500是2048d, Annox是4d\n",
    "#ocr_tm_p2v_500是3072d, Annox是4d\n",
    "#Combined_np1=np.concatenate((ocr_tm_p2v_500, Annox), axis=1)\n",
    "#Combined_np2=np.concatenate((ocr_tm_p2v2_500, Annox), axis=1)\n",
    "#Combined_np3=np.concatenate((ocr_tm_p2v3_500, Annox), axis=1)\n",
    "ocr_annox=np.concatenate((ocr_500, Annox), axis=1)\n",
    "tm_annox=np.concatenate((tm_500, Annox), axis=1)\n",
    "p2v_annox=np.concatenate((p2v_500, Annox), axis=1)\n",
    "tm_p2v_annox=np.concatenate((tm_p2v_500, Annox), axis=1)\n",
    "ocr_p2v_annox=np.concatenate((ocr_p2v_500, Annox), axis=1)\n",
    "ocr_tm_annox=np.concatenate((ocr_tm_500, Annox), axis=1)\n",
    "ocr_tm_p2v_annox=np.concatenate((ocr_tm_p2v_500, Annox), axis=1)"
   ]
  },
  {
   "cell_type": "code",
   "execution_count": 11,
   "metadata": {},
   "outputs": [],
   "source": [
    "p2v2_annox=np.concatenate((p2v2_500, Annox), axis=1)\n",
    "tm_p2v2_annox=np.concatenate((tm_p2v2_500, Annox), axis=1)\n",
    "ocr_p2v2_annox=np.concatenate((ocr_p2v2_500, Annox), axis=1)\n",
    "p2v3_annox=np.concatenate((p2v3_500, Annox), axis=1)\n",
    "tm_p2v3_annox=np.concatenate((tm_p2v3_500, Annox), axis=1)\n",
    "ocr_p2v3_annox=np.concatenate((ocr_p2v3_500, Annox), axis=1)"
   ]
  },
  {
   "cell_type": "code",
   "execution_count": 9,
   "metadata": {},
   "outputs": [
    {
     "data": {
      "text/plain": [
       "(500, 516)"
      ]
     },
     "execution_count": 9,
     "metadata": {},
     "output_type": "execute_result"
    }
   ],
   "source": [
    "# Check dimension\n",
    "#Combined_np1.shape\n",
    "#Combined_np2.shape\n",
    "#Combined_np3.shape\n",
    "ocr_annox.shape\n",
    "#Combined_np1[0]"
   ]
  },
  {
   "cell_type": "code",
   "execution_count": 34,
   "metadata": {},
   "outputs": [],
   "source": [
    "np.save('Combined_np1', Combined_np1)\n",
    "np.save('Combined_np2', Combined_np2)\n",
    "np.save('Combined_np3', Combined_np3)"
   ]
  },
  {
   "cell_type": "code",
   "execution_count": 10,
   "metadata": {},
   "outputs": [],
   "source": [
    "np.save('ocr_annox', ocr_annox)\n",
    "np.save('tm_annox', tm_annox)\n",
    "np.save('p2v_annox', p2v_annox)\n",
    "np.save('tm_p2v_annox', tm_p2v_annox)\n",
    "np.save('ocr_p2v_annox', ocr_p2v_annox)\n",
    "np.save('ocr_tm_annox', ocr_tm_annox)\n",
    "#np.save('ocr_tm_p2v_annox', ocr_tm_p2v_annox)"
   ]
  },
  {
   "cell_type": "code",
   "execution_count": 12,
   "metadata": {},
   "outputs": [],
   "source": [
    "np.save('p2v2_annox', p2v2_annox)\n",
    "np.save('p2v3_annox', p2v3_annox)\n",
    "np.save('tm_p2v2_annox', tm_p2v2_annox)\n",
    "np.save('tm_p2v3_annox', tm_p2v3_annox)\n",
    "np.save('ocr_p2v2_annox', ocr_p2v2_annox)\n",
    "np.save('ocr_p2v3_annox', ocr_p2v3_annox)"
   ]
  },
  {
   "cell_type": "code",
   "execution_count": null,
   "metadata": {},
   "outputs": [],
   "source": []
  }
 ],
 "metadata": {
  "kernelspec": {
   "display_name": "Python 3",
   "language": "python",
   "name": "python3"
  },
  "language_info": {
   "codemirror_mode": {
    "name": "ipython",
    "version": 3
   },
   "file_extension": ".py",
   "mimetype": "text/x-python",
   "name": "python",
   "nbconvert_exporter": "python",
   "pygments_lexer": "ipython3",
   "version": "3.7.2"
  }
 },
 "nbformat": 4,
 "nbformat_minor": 2
}
