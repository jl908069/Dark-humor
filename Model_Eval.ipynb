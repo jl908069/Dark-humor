{
 "cells": [
  {
   "cell_type": "code",
   "execution_count": 1,
   "metadata": {},
   "outputs": [],
   "source": [
    "import pandas as pd\n",
    "import numpy as np\n",
    "import pickle\n",
    "from sklearn.neural_network import MLPRegressor\n",
    "from sklearn.neural_network import MLPClassifier\n",
    "from sklearn.metrics import mean_squared_error, mean_absolute_error, r2_score\n",
    "from sklearn.model_selection import train_test_split"
   ]
  },
  {
   "cell_type": "code",
   "execution_count": 2,
   "metadata": {},
   "outputs": [],
   "source": [
    "from sklearn import neural_network\n",
    "from sklearn.preprocessing import StandardScaler\n",
    "from sklearn.pipeline import Pipeline\n",
    "from sklearn.model_selection import KFold\n",
    "from sklearn.model_selection import cross_val_score\n",
    "from sklearn.preprocessing import MinMaxScaler\n",
    "import sklearn.model_selection\n",
    "import matplotlib.pyplot as plt\n",
    "import sys\n",
    "from math import sqrt"
   ]
  },
  {
   "cell_type": "code",
   "execution_count": 3,
   "metadata": {},
   "outputs": [
    {
     "name": "stderr",
     "output_type": "stream",
     "text": [
      "Using TensorFlow backend.\n"
     ]
    }
   ],
   "source": [
    "from keras.models import Sequential\n",
    "from keras.layers import Dense\n",
    "from keras.wrappers.scikit_learn import KerasRegressor\n",
    "from sklearn.model_selection import cross_val_score\n",
    "from sklearn.model_selection import KFold"
   ]
  },
  {
   "cell_type": "code",
   "execution_count": 4,
   "metadata": {},
   "outputs": [],
   "source": [
    "#ocr_merged=np.load('ocr_merged.npy')\n",
    "#tm_merged=np.load('tm_merged.npy')\n",
    "#p2v_merged=np.load('p2v_merged.npy')\n",
    "#p2v3_merged=np.load('p2v3_merged.npy')\n",
    "#ocr_tm_merged=np.load('ocr_tm_merged.npy')\n",
    "#ocr_p2v3_merged=np.load('ocr_p2v3_merged.npy')\n",
    "#ocr_tm_p2v_merged=np.load('ocr_tm_p2v_merged.npy')"
   ]
  },
  {
   "cell_type": "code",
   "execution_count": 54,
   "metadata": {},
   "outputs": [],
   "source": [
    "df=pd.read_pickle('df_p2v2.pkl')\n",
    "dataset = df.to_numpy()"
   ]
  },
  {
   "cell_type": "code",
   "execution_count": 55,
   "metadata": {},
   "outputs": [],
   "source": [
    "x = dataset[:,8:16]\n",
    "y = dataset[:,18]"
   ]
  },
  {
   "cell_type": "code",
   "execution_count": 56,
   "metadata": {},
   "outputs": [
    {
     "data": {
      "text/html": [
       "<div>\n",
       "<style scoped>\n",
       "    .dataframe tbody tr th:only-of-type {\n",
       "        vertical-align: middle;\n",
       "    }\n",
       "\n",
       "    .dataframe tbody tr th {\n",
       "        vertical-align: top;\n",
       "    }\n",
       "\n",
       "    .dataframe thead th {\n",
       "        text-align: right;\n",
       "    }\n",
       "</style>\n",
       "<table border=\"1\" class=\"dataframe\">\n",
       "  <thead>\n",
       "    <tr style=\"text-align: right;\">\n",
       "      <th></th>\n",
       "      <th>Images</th>\n",
       "    </tr>\n",
       "  </thead>\n",
       "  <tbody>\n",
       "    <tr>\n",
       "      <th>0</th>\n",
       "      <td>NaN</td>\n",
       "    </tr>\n",
       "    <tr>\n",
       "      <th>1</th>\n",
       "      <td>NaN</td>\n",
       "    </tr>\n",
       "    <tr>\n",
       "      <th>2</th>\n",
       "      <td>NaN</td>\n",
       "    </tr>\n",
       "    <tr>\n",
       "      <th>3</th>\n",
       "      <td>NaN</td>\n",
       "    </tr>\n",
       "    <tr>\n",
       "      <th>4</th>\n",
       "      <td>NaN</td>\n",
       "    </tr>\n",
       "    <tr>\n",
       "      <th>...</th>\n",
       "      <td>...</td>\n",
       "    </tr>\n",
       "    <tr>\n",
       "      <th>495</th>\n",
       "      <td>NaN</td>\n",
       "    </tr>\n",
       "    <tr>\n",
       "      <th>496</th>\n",
       "      <td>NaN</td>\n",
       "    </tr>\n",
       "    <tr>\n",
       "      <th>497</th>\n",
       "      <td>NaN</td>\n",
       "    </tr>\n",
       "    <tr>\n",
       "      <th>498</th>\n",
       "      <td>NaN</td>\n",
       "    </tr>\n",
       "    <tr>\n",
       "      <th>499</th>\n",
       "      <td>NaN</td>\n",
       "    </tr>\n",
       "  </tbody>\n",
       "</table>\n",
       "<p>500 rows × 1 columns</p>\n",
       "</div>"
      ],
      "text/plain": [
       "     Images\n",
       "0       NaN\n",
       "1       NaN\n",
       "2       NaN\n",
       "3       NaN\n",
       "4       NaN\n",
       "..      ...\n",
       "495     NaN\n",
       "496     NaN\n",
       "497     NaN\n",
       "498     NaN\n",
       "499     NaN\n",
       "\n",
       "[500 rows x 1 columns]"
      ]
     },
     "execution_count": 56,
     "metadata": {},
     "output_type": "execute_result"
    }
   ],
   "source": [
    "col_mask=df.isnull().any(axis=0)\n",
    "row_mask=df.isnull().any(axis=1)\n",
    "df.loc[row_mask,col_mask]"
   ]
  },
  {
   "cell_type": "code",
   "execution_count": 5,
   "metadata": {},
   "outputs": [
    {
     "data": {
      "text/plain": [
       "1002"
      ]
     },
     "execution_count": 5,
     "metadata": {},
     "output_type": "execute_result"
    }
   ],
   "source": [
    "#a=np.ones((501,1))\n",
    "#b=np.zeros((501,1))\n",
    "#dh_score=np.vstack((a, b))\n",
    "#len(dh_score)"
   ]
  },
  {
   "cell_type": "markdown",
   "metadata": {},
   "source": [
    "## Keras MLP"
   ]
  },
  {
   "cell_type": "code",
   "execution_count": 109,
   "metadata": {},
   "outputs": [],
   "source": [
    "x=tm_merged\n",
    "y=dh_score"
   ]
  },
  {
   "cell_type": "code",
   "execution_count": 22,
   "metadata": {},
   "outputs": [
    {
     "name": "stdout",
     "output_type": "stream",
     "text": [
      "WARNING:tensorflow:From /home/jl8394/humor/lib/python3.6/site-packages/keras/backend/tensorflow_backend.py:66: The name tf.get_default_graph is deprecated. Please use tf.compat.v1.get_default_graph instead.\n",
      "\n",
      "WARNING:tensorflow:From /home/jl8394/humor/lib/python3.6/site-packages/keras/backend/tensorflow_backend.py:541: The name tf.placeholder is deprecated. Please use tf.compat.v1.placeholder instead.\n",
      "\n",
      "WARNING:tensorflow:From /home/jl8394/humor/lib/python3.6/site-packages/keras/backend/tensorflow_backend.py:4432: The name tf.random_uniform is deprecated. Please use tf.random.uniform instead.\n",
      "\n",
      "WARNING:tensorflow:From /home/jl8394/humor/lib/python3.6/site-packages/keras/optimizers.py:793: The name tf.train.Optimizer is deprecated. Please use tf.compat.v1.train.Optimizer instead.\n",
      "\n"
     ]
    },
    {
     "ename": "ValueError",
     "evalue": "Error when checking input: expected dense_1_input to have shape (1536,) but got array with shape (8,)",
     "output_type": "error",
     "traceback": [
      "\u001b[0;31m---------------------------------------------------------------------------\u001b[0m",
      "\u001b[0;31mValueError\u001b[0m                                Traceback (most recent call last)",
      "\u001b[0;32m<ipython-input-22-cc21248b4ed4>\u001b[0m in \u001b[0;36m<module>\u001b[0;34m\u001b[0m\n\u001b[1;32m      7\u001b[0m \u001b[0mmodel\u001b[0m\u001b[0;34m.\u001b[0m\u001b[0madd\u001b[0m\u001b[0;34m(\u001b[0m\u001b[0mDense\u001b[0m\u001b[0;34m(\u001b[0m\u001b[0;36m1\u001b[0m\u001b[0;34m,\u001b[0m \u001b[0mactivation\u001b[0m\u001b[0;34m=\u001b[0m\u001b[0;34m\"sigmoid\"\u001b[0m\u001b[0;34m)\u001b[0m\u001b[0;34m)\u001b[0m\u001b[0;34m\u001b[0m\u001b[0;34m\u001b[0m\u001b[0m\n\u001b[1;32m      8\u001b[0m \u001b[0mmodel\u001b[0m\u001b[0;34m.\u001b[0m\u001b[0mcompile\u001b[0m\u001b[0;34m(\u001b[0m\u001b[0moptimizer\u001b[0m\u001b[0;34m=\u001b[0m\u001b[0;34m\"adam\"\u001b[0m\u001b[0;34m,\u001b[0m \u001b[0mloss\u001b[0m\u001b[0;34m=\u001b[0m\u001b[0;34m\"mse\"\u001b[0m\u001b[0;34m,\u001b[0m\u001b[0mmetrics\u001b[0m\u001b[0;34m=\u001b[0m\u001b[0;34m[\u001b[0m\u001b[0;34m'accuracy'\u001b[0m\u001b[0;34m]\u001b[0m\u001b[0;34m)\u001b[0m\u001b[0;34m\u001b[0m\u001b[0;34m\u001b[0m\u001b[0m\n\u001b[0;32m----> 9\u001b[0;31m \u001b[0mmodel\u001b[0m\u001b[0;34m.\u001b[0m\u001b[0mfit\u001b[0m\u001b[0;34m(\u001b[0m\u001b[0mx_train\u001b[0m\u001b[0;34m,\u001b[0m \u001b[0my_train\u001b[0m\u001b[0;34m,\u001b[0m \u001b[0mepochs\u001b[0m\u001b[0;34m=\u001b[0m\u001b[0;36m100\u001b[0m\u001b[0;34m,\u001b[0m \u001b[0mverbose\u001b[0m\u001b[0;34m=\u001b[0m\u001b[0;36m1\u001b[0m\u001b[0;34m)\u001b[0m\u001b[0;34m\u001b[0m\u001b[0;34m\u001b[0m\u001b[0m\n\u001b[0m\u001b[1;32m     10\u001b[0m \u001b[0my_pred\u001b[0m \u001b[0;34m=\u001b[0m \u001b[0mmodel\u001b[0m\u001b[0;34m.\u001b[0m\u001b[0mpredict\u001b[0m\u001b[0;34m(\u001b[0m\u001b[0mx_test\u001b[0m\u001b[0;34m)\u001b[0m\u001b[0;34m\u001b[0m\u001b[0;34m\u001b[0m\u001b[0m\n",
      "\u001b[0;32m~/humor/lib/python3.6/site-packages/keras/engine/training.py\u001b[0m in \u001b[0;36mfit\u001b[0;34m(self, x, y, batch_size, epochs, verbose, callbacks, validation_split, validation_data, shuffle, class_weight, sample_weight, initial_epoch, steps_per_epoch, validation_steps, validation_freq, max_queue_size, workers, use_multiprocessing, **kwargs)\u001b[0m\n\u001b[1;32m   1087\u001b[0m             \u001b[0msample_weight\u001b[0m\u001b[0;34m=\u001b[0m\u001b[0msample_weight\u001b[0m\u001b[0;34m,\u001b[0m\u001b[0;34m\u001b[0m\u001b[0;34m\u001b[0m\u001b[0m\n\u001b[1;32m   1088\u001b[0m             \u001b[0mclass_weight\u001b[0m\u001b[0;34m=\u001b[0m\u001b[0mclass_weight\u001b[0m\u001b[0;34m,\u001b[0m\u001b[0;34m\u001b[0m\u001b[0;34m\u001b[0m\u001b[0m\n\u001b[0;32m-> 1089\u001b[0;31m             batch_size=batch_size)\n\u001b[0m\u001b[1;32m   1090\u001b[0m \u001b[0;34m\u001b[0m\u001b[0m\n\u001b[1;32m   1091\u001b[0m         \u001b[0;31m# Prepare validation data.\u001b[0m\u001b[0;34m\u001b[0m\u001b[0;34m\u001b[0m\u001b[0;34m\u001b[0m\u001b[0m\n",
      "\u001b[0;32m~/humor/lib/python3.6/site-packages/keras/engine/training.py\u001b[0m in \u001b[0;36m_standardize_user_data\u001b[0;34m(self, x, y, sample_weight, class_weight, check_array_lengths, batch_size)\u001b[0m\n\u001b[1;32m    755\u001b[0m             \u001b[0mfeed_input_shapes\u001b[0m\u001b[0;34m,\u001b[0m\u001b[0;34m\u001b[0m\u001b[0;34m\u001b[0m\u001b[0m\n\u001b[1;32m    756\u001b[0m             \u001b[0mcheck_batch_axis\u001b[0m\u001b[0;34m=\u001b[0m\u001b[0;32mFalse\u001b[0m\u001b[0;34m,\u001b[0m  \u001b[0;31m# Don't enforce the batch size.\u001b[0m\u001b[0;34m\u001b[0m\u001b[0;34m\u001b[0m\u001b[0m\n\u001b[0;32m--> 757\u001b[0;31m             exception_prefix='input')\n\u001b[0m\u001b[1;32m    758\u001b[0m \u001b[0;34m\u001b[0m\u001b[0m\n\u001b[1;32m    759\u001b[0m         \u001b[0;32mif\u001b[0m \u001b[0my\u001b[0m \u001b[0;32mis\u001b[0m \u001b[0;32mnot\u001b[0m \u001b[0;32mNone\u001b[0m\u001b[0;34m:\u001b[0m\u001b[0;34m\u001b[0m\u001b[0;34m\u001b[0m\u001b[0m\n",
      "\u001b[0;32m~/humor/lib/python3.6/site-packages/keras/engine/training_utils.py\u001b[0m in \u001b[0;36mstandardize_input_data\u001b[0;34m(data, names, shapes, check_batch_axis, exception_prefix)\u001b[0m\n\u001b[1;32m    139\u001b[0m                             \u001b[0;34m': expected '\u001b[0m \u001b[0;34m+\u001b[0m \u001b[0mnames\u001b[0m\u001b[0;34m[\u001b[0m\u001b[0mi\u001b[0m\u001b[0;34m]\u001b[0m \u001b[0;34m+\u001b[0m \u001b[0;34m' to have shape '\u001b[0m \u001b[0;34m+\u001b[0m\u001b[0;34m\u001b[0m\u001b[0;34m\u001b[0m\u001b[0m\n\u001b[1;32m    140\u001b[0m                             \u001b[0mstr\u001b[0m\u001b[0;34m(\u001b[0m\u001b[0mshape\u001b[0m\u001b[0;34m)\u001b[0m \u001b[0;34m+\u001b[0m \u001b[0;34m' but got array with shape '\u001b[0m \u001b[0;34m+\u001b[0m\u001b[0;34m\u001b[0m\u001b[0;34m\u001b[0m\u001b[0m\n\u001b[0;32m--> 141\u001b[0;31m                             str(data_shape))\n\u001b[0m\u001b[1;32m    142\u001b[0m     \u001b[0;32mreturn\u001b[0m \u001b[0mdata\u001b[0m\u001b[0;34m\u001b[0m\u001b[0;34m\u001b[0m\u001b[0m\n\u001b[1;32m    143\u001b[0m \u001b[0;34m\u001b[0m\u001b[0m\n",
      "\u001b[0;31mValueError\u001b[0m: Error when checking input: expected dense_1_input to have shape (1536,) but got array with shape (8,)"
     ]
    }
   ],
   "source": [
    "x_val, x_test, y_val, y_test = train_test_split(x_test, y_test, test_size=0.7,stratify=y_test)\n",
    "model = Sequential()\n",
    "#input_size = len(x[0])\n",
    "input_size =1536\n",
    "model.add(Dense(100, activation=\"relu\", input_dim=input_size))\n",
    "model.add(Dense(100, activation=\"relu\"))\n",
    "model.add(Dense(1, activation=\"sigmoid\"))\n",
    "model.compile(optimizer=\"adam\", loss=\"mse\",metrics=['accuracy'])\n",
    "model.fit(x_train, y_train, epochs=100, verbose=1)\n",
    "y_pred = model.predict(x_test)"
   ]
  },
  {
   "cell_type": "code",
   "execution_count": 77,
   "metadata": {},
   "outputs": [],
   "source": [
    "#def model():\n",
    "    #model = Sequential()\n",
    "    #input_size = len(x[0])\n",
    "    #model.add(Dense(100, activation=\"relu\", input_dim=input_size))\n",
    "    #model.add(Dense(100, activation=\"relu\"))\n",
    "    #model.add(Dense(1, activation=\"sigmoid\"))\n",
    "    #model.compile(optimizer=\"adam\", loss=\"mse\",metrics=['accuracy'])\n",
    "    #return model"
   ]
  },
  {
   "cell_type": "code",
   "execution_count": 111,
   "metadata": {},
   "outputs": [
    {
     "name": "stdout",
     "output_type": "stream",
     "text": [
      "Train on 701 samples, validate on 5 samples\n",
      "Epoch 1/100\n",
      "701/701 [==============================] - 0s 48us/step - loss: 7.2753e-04 - accuracy: 0.9986 - val_loss: 8.4731e-05 - val_accuracy: 1.0000\n",
      "Epoch 2/100\n",
      "701/701 [==============================] - 0s 36us/step - loss: 7.2470e-04 - accuracy: 0.9986 - val_loss: 8.4133e-05 - val_accuracy: 1.0000\n",
      "Epoch 3/100\n",
      "701/701 [==============================] - 0s 36us/step - loss: 7.2320e-04 - accuracy: 0.9986 - val_loss: 8.4430e-05 - val_accuracy: 1.0000\n",
      "Epoch 4/100\n",
      "701/701 [==============================] - 0s 36us/step - loss: 7.2284e-04 - accuracy: 0.9986 - val_loss: 8.5587e-05 - val_accuracy: 1.0000\n",
      "Epoch 5/100\n",
      "701/701 [==============================] - 0s 36us/step - loss: 7.2244e-04 - accuracy: 0.9971 - val_loss: 8.5841e-05 - val_accuracy: 1.0000\n",
      "Epoch 6/100\n",
      "701/701 [==============================] - 0s 34us/step - loss: 7.1824e-04 - accuracy: 0.9986 - val_loss: 8.3097e-05 - val_accuracy: 1.0000\n",
      "Epoch 7/100\n",
      "701/701 [==============================] - 0s 35us/step - loss: 7.2359e-04 - accuracy: 0.9986 - val_loss: 8.2120e-05 - val_accuracy: 1.0000\n",
      "Epoch 8/100\n",
      "701/701 [==============================] - 0s 35us/step - loss: 7.2517e-04 - accuracy: 0.9971 - val_loss: 5.8530e-05 - val_accuracy: 1.0000\n",
      "Epoch 9/100\n",
      "701/701 [==============================] - 0s 35us/step - loss: 7.2101e-04 - accuracy: 0.9971 - val_loss: 6.0554e-05 - val_accuracy: 1.0000\n",
      "Epoch 10/100\n",
      "701/701 [==============================] - 0s 35us/step - loss: 7.2120e-04 - accuracy: 0.9986 - val_loss: 5.5202e-05 - val_accuracy: 1.0000\n",
      "Epoch 11/100\n",
      "701/701 [==============================] - 0s 35us/step - loss: 7.2331e-04 - accuracy: 0.9986 - val_loss: 4.0321e-05 - val_accuracy: 1.0000\n",
      "Epoch 12/100\n",
      "701/701 [==============================] - 0s 36us/step - loss: 0.0015 - accuracy: 0.9986 - val_loss: 3.7082e-05 - val_accuracy: 1.0000\n",
      "Epoch 13/100\n",
      "701/701 [==============================] - 0s 36us/step - loss: 0.0013 - accuracy: 0.9986 - val_loss: 4.0211e-05 - val_accuracy: 1.0000\n",
      "Epoch 14/100\n",
      "701/701 [==============================] - 0s 36us/step - loss: 9.3873e-04 - accuracy: 0.9986 - val_loss: 4.5437e-05 - val_accuracy: 1.0000\n",
      "Epoch 15/100\n",
      "701/701 [==============================] - 0s 37us/step - loss: 8.6662e-04 - accuracy: 0.9971 - val_loss: 5.0208e-05 - val_accuracy: 1.0000\n",
      "Epoch 16/100\n",
      "701/701 [==============================] - 0s 35us/step - loss: 7.2112e-04 - accuracy: 0.9986 - val_loss: 4.3989e-05 - val_accuracy: 1.0000\n",
      "Epoch 17/100\n",
      "701/701 [==============================] - 0s 35us/step - loss: 7.1973e-04 - accuracy: 0.9986 - val_loss: 4.1504e-05 - val_accuracy: 1.0000\n",
      "Epoch 18/100\n",
      "701/701 [==============================] - 0s 36us/step - loss: 7.2476e-04 - accuracy: 0.9986 - val_loss: 3.9817e-05 - val_accuracy: 1.0000\n",
      "Epoch 19/100\n",
      "701/701 [==============================] - 0s 36us/step - loss: 7.2509e-04 - accuracy: 0.9971 - val_loss: 3.8545e-05 - val_accuracy: 1.0000\n",
      "Epoch 20/100\n",
      "701/701 [==============================] - 0s 36us/step - loss: 7.2797e-04 - accuracy: 0.9971 - val_loss: 3.7952e-05 - val_accuracy: 1.0000\n",
      "Epoch 21/100\n",
      "701/701 [==============================] - 0s 36us/step - loss: 7.2512e-04 - accuracy: 0.9986 - val_loss: 3.6777e-05 - val_accuracy: 1.0000\n",
      "Epoch 22/100\n",
      "701/701 [==============================] - 0s 35us/step - loss: 7.2487e-04 - accuracy: 0.9971 - val_loss: 3.4691e-05 - val_accuracy: 1.0000\n",
      "Epoch 23/100\n",
      "701/701 [==============================] - 0s 34us/step - loss: 7.3160e-04 - accuracy: 0.9971 - val_loss: 3.3893e-05 - val_accuracy: 1.0000\n",
      "Epoch 24/100\n",
      "701/701 [==============================] - 0s 36us/step - loss: 7.3040e-04 - accuracy: 0.9971 - val_loss: 3.3108e-05 - val_accuracy: 1.0000\n",
      "Epoch 25/100\n",
      "701/701 [==============================] - 0s 35us/step - loss: 7.2252e-04 - accuracy: 0.9986 - val_loss: 3.2266e-05 - val_accuracy: 1.0000\n",
      "Epoch 26/100\n",
      "701/701 [==============================] - 0s 35us/step - loss: 7.1802e-04 - accuracy: 0.9986 - val_loss: 3.1657e-05 - val_accuracy: 1.0000\n",
      "Epoch 27/100\n",
      "701/701 [==============================] - 0s 35us/step - loss: 7.2437e-04 - accuracy: 0.9986 - val_loss: 3.1079e-05 - val_accuracy: 1.0000\n",
      "Epoch 28/100\n",
      "701/701 [==============================] - 0s 36us/step - loss: 7.1849e-04 - accuracy: 0.9986 - val_loss: 3.0540e-05 - val_accuracy: 1.0000\n",
      "Epoch 29/100\n",
      "701/701 [==============================] - 0s 35us/step - loss: 7.2390e-04 - accuracy: 0.9986 - val_loss: 3.0104e-05 - val_accuracy: 1.0000\n",
      "Epoch 30/100\n",
      "701/701 [==============================] - 0s 36us/step - loss: 7.1660e-04 - accuracy: 0.9986 - val_loss: 2.9221e-05 - val_accuracy: 1.0000\n",
      "Epoch 31/100\n",
      "701/701 [==============================] - 0s 36us/step - loss: 7.2531e-04 - accuracy: 0.9986 - val_loss: 2.8762e-05 - val_accuracy: 1.0000\n",
      "Epoch 32/100\n",
      "701/701 [==============================] - 0s 36us/step - loss: 7.1903e-04 - accuracy: 0.9986 - val_loss: 2.8454e-05 - val_accuracy: 1.0000\n",
      "Epoch 33/100\n",
      "701/701 [==============================] - 0s 35us/step - loss: 7.1836e-04 - accuracy: 0.9986 - val_loss: 2.8503e-05 - val_accuracy: 1.0000\n",
      "Epoch 34/100\n",
      "701/701 [==============================] - 0s 35us/step - loss: 7.2406e-04 - accuracy: 0.9971 - val_loss: 2.8724e-05 - val_accuracy: 1.0000\n",
      "Epoch 35/100\n",
      "701/701 [==============================] - 0s 34us/step - loss: 7.2556e-04 - accuracy: 0.9971 - val_loss: 2.8314e-05 - val_accuracy: 1.0000\n",
      "Epoch 36/100\n",
      "701/701 [==============================] - 0s 34us/step - loss: 7.1966e-04 - accuracy: 0.9986 - val_loss: 2.8374e-05 - val_accuracy: 1.0000\n",
      "Epoch 37/100\n",
      "701/701 [==============================] - 0s 35us/step - loss: 0.0018 - accuracy: 0.9986 - val_loss: 7.2147e-05 - val_accuracy: 1.0000\n",
      "Epoch 38/100\n",
      "701/701 [==============================] - 0s 35us/step - loss: 0.0014 - accuracy: 0.9986 - val_loss: 6.7438e-05 - val_accuracy: 1.0000\n",
      "Epoch 39/100\n",
      "701/701 [==============================] - 0s 36us/step - loss: 0.0014 - accuracy: 0.9986 - val_loss: 6.8010e-05 - val_accuracy: 1.0000\n",
      "Epoch 40/100\n",
      "701/701 [==============================] - 0s 35us/step - loss: 0.0014 - accuracy: 0.9986 - val_loss: 6.9462e-05 - val_accuracy: 1.0000\n",
      "Epoch 41/100\n",
      "701/701 [==============================] - 0s 36us/step - loss: 0.0014 - accuracy: 0.9986 - val_loss: 7.0150e-05 - val_accuracy: 1.0000\n",
      "Epoch 42/100\n",
      "701/701 [==============================] - 0s 36us/step - loss: 0.0014 - accuracy: 0.9986 - val_loss: 6.8957e-05 - val_accuracy: 1.0000\n",
      "Epoch 43/100\n",
      "701/701 [==============================] - 0s 35us/step - loss: 0.0014 - accuracy: 0.9986 - val_loss: 6.8824e-05 - val_accuracy: 1.0000\n",
      "Epoch 44/100\n",
      "701/701 [==============================] - 0s 36us/step - loss: 0.0014 - accuracy: 0.9986 - val_loss: 6.8063e-05 - val_accuracy: 1.0000\n",
      "Epoch 45/100\n",
      "701/701 [==============================] - 0s 36us/step - loss: 0.0014 - accuracy: 0.9986 - val_loss: 6.7295e-05 - val_accuracy: 1.0000\n",
      "Epoch 46/100\n",
      "701/701 [==============================] - 0s 35us/step - loss: 0.0014 - accuracy: 0.9986 - val_loss: 6.6367e-05 - val_accuracy: 1.0000\n",
      "Epoch 47/100\n",
      "701/701 [==============================] - 0s 36us/step - loss: 0.0014 - accuracy: 0.9986 - val_loss: 6.7046e-05 - val_accuracy: 1.0000\n",
      "Epoch 48/100\n",
      "701/701 [==============================] - 0s 36us/step - loss: 0.0014 - accuracy: 0.9986 - val_loss: 6.7022e-05 - val_accuracy: 1.0000\n",
      "Epoch 49/100\n",
      "701/701 [==============================] - 0s 35us/step - loss: 0.0014 - accuracy: 0.9986 - val_loss: 6.5869e-05 - val_accuracy: 1.0000\n",
      "Epoch 50/100\n",
      "701/701 [==============================] - 0s 35us/step - loss: 0.0014 - accuracy: 0.9986 - val_loss: 6.5312e-05 - val_accuracy: 1.0000\n",
      "Epoch 51/100\n",
      "701/701 [==============================] - 0s 35us/step - loss: 0.0014 - accuracy: 0.9986 - val_loss: 6.4907e-05 - val_accuracy: 1.0000\n",
      "Epoch 52/100\n",
      "701/701 [==============================] - 0s 37us/step - loss: 0.0014 - accuracy: 0.9986 - val_loss: 6.3626e-05 - val_accuracy: 1.0000\n",
      "Epoch 53/100\n",
      "701/701 [==============================] - 0s 36us/step - loss: 0.0014 - accuracy: 0.9986 - val_loss: 6.2909e-05 - val_accuracy: 1.0000\n",
      "Epoch 54/100\n",
      "701/701 [==============================] - 0s 35us/step - loss: 0.0014 - accuracy: 0.9986 - val_loss: 6.2720e-05 - val_accuracy: 1.0000\n"
     ]
    },
    {
     "name": "stdout",
     "output_type": "stream",
     "text": [
      "Epoch 55/100\n",
      "701/701 [==============================] - 0s 36us/step - loss: 0.0014 - accuracy: 0.9986 - val_loss: 6.1425e-05 - val_accuracy: 1.0000\n",
      "Epoch 56/100\n",
      "701/701 [==============================] - 0s 35us/step - loss: 0.0014 - accuracy: 0.9986 - val_loss: 6.1529e-05 - val_accuracy: 1.0000\n",
      "Epoch 57/100\n",
      "701/701 [==============================] - 0s 36us/step - loss: 0.0014 - accuracy: 0.9986 - val_loss: 6.0946e-05 - val_accuracy: 1.0000\n",
      "Epoch 58/100\n",
      "701/701 [==============================] - 0s 35us/step - loss: 0.0014 - accuracy: 0.9986 - val_loss: 6.0819e-05 - val_accuracy: 1.0000\n",
      "Epoch 59/100\n",
      "701/701 [==============================] - 0s 35us/step - loss: 0.0014 - accuracy: 0.9986 - val_loss: 6.2116e-05 - val_accuracy: 1.0000\n",
      "Epoch 60/100\n",
      "701/701 [==============================] - 0s 35us/step - loss: 0.0014 - accuracy: 0.9986 - val_loss: 6.1232e-05 - val_accuracy: 1.0000\n",
      "Epoch 61/100\n",
      "701/701 [==============================] - 0s 35us/step - loss: 0.0014 - accuracy: 0.9986 - val_loss: 6.1085e-05 - val_accuracy: 1.0000\n",
      "Epoch 62/100\n",
      "701/701 [==============================] - 0s 35us/step - loss: 0.0014 - accuracy: 0.9986 - val_loss: 6.0624e-05 - val_accuracy: 1.0000\n",
      "Epoch 63/100\n",
      "701/701 [==============================] - 0s 36us/step - loss: 0.0014 - accuracy: 0.9986 - val_loss: 5.9493e-05 - val_accuracy: 1.0000\n",
      "Epoch 64/100\n",
      "701/701 [==============================] - 0s 35us/step - loss: 0.0014 - accuracy: 0.9986 - val_loss: 5.9510e-05 - val_accuracy: 1.0000\n",
      "Epoch 65/100\n",
      "701/701 [==============================] - 0s 35us/step - loss: 0.0014 - accuracy: 0.9986 - val_loss: 5.8831e-05 - val_accuracy: 1.0000\n",
      "Epoch 66/100\n",
      "701/701 [==============================] - 0s 35us/step - loss: 0.0014 - accuracy: 0.9986 - val_loss: 5.8549e-05 - val_accuracy: 1.0000\n",
      "Epoch 67/100\n",
      "701/701 [==============================] - 0s 35us/step - loss: 0.0014 - accuracy: 0.9986 - val_loss: 5.8182e-05 - val_accuracy: 1.0000\n",
      "Epoch 68/100\n",
      "701/701 [==============================] - 0s 36us/step - loss: 0.0014 - accuracy: 0.9986 - val_loss: 5.7542e-05 - val_accuracy: 1.0000\n",
      "Epoch 69/100\n",
      "701/701 [==============================] - 0s 35us/step - loss: 0.0014 - accuracy: 0.9986 - val_loss: 5.7399e-05 - val_accuracy: 1.0000\n",
      "Epoch 70/100\n",
      "701/701 [==============================] - 0s 36us/step - loss: 0.0014 - accuracy: 0.9986 - val_loss: 5.6307e-05 - val_accuracy: 1.0000\n",
      "Epoch 71/100\n",
      "701/701 [==============================] - 0s 35us/step - loss: 0.0014 - accuracy: 0.9986 - val_loss: 5.6405e-05 - val_accuracy: 1.0000\n",
      "Epoch 72/100\n",
      "701/701 [==============================] - 0s 35us/step - loss: 0.0014 - accuracy: 0.9986 - val_loss: 5.5778e-05 - val_accuracy: 1.0000\n",
      "Epoch 73/100\n",
      "701/701 [==============================] - 0s 35us/step - loss: 0.0014 - accuracy: 0.9986 - val_loss: 5.5457e-05 - val_accuracy: 1.0000\n",
      "Epoch 74/100\n",
      "701/701 [==============================] - 0s 36us/step - loss: 0.0014 - accuracy: 0.9986 - val_loss: 5.5182e-05 - val_accuracy: 1.0000\n",
      "Epoch 75/100\n",
      "701/701 [==============================] - 0s 36us/step - loss: 0.0014 - accuracy: 0.9986 - val_loss: 5.4341e-05 - val_accuracy: 1.0000\n",
      "Epoch 76/100\n",
      "701/701 [==============================] - 0s 35us/step - loss: 0.0014 - accuracy: 0.9986 - val_loss: 5.4140e-05 - val_accuracy: 1.0000\n",
      "Epoch 77/100\n",
      "701/701 [==============================] - 0s 35us/step - loss: 0.0014 - accuracy: 0.9986 - val_loss: 5.2991e-05 - val_accuracy: 1.0000\n",
      "Epoch 78/100\n",
      "701/701 [==============================] - 0s 36us/step - loss: 0.0014 - accuracy: 0.9986 - val_loss: 5.3442e-05 - val_accuracy: 1.0000\n",
      "Epoch 79/100\n",
      "701/701 [==============================] - 0s 36us/step - loss: 0.0014 - accuracy: 0.9986 - val_loss: 5.3473e-05 - val_accuracy: 1.0000\n",
      "Epoch 80/100\n",
      "701/701 [==============================] - 0s 35us/step - loss: 0.0014 - accuracy: 0.9986 - val_loss: 5.2760e-05 - val_accuracy: 1.0000\n",
      "Epoch 81/100\n",
      "701/701 [==============================] - 0s 36us/step - loss: 0.0014 - accuracy: 0.9986 - val_loss: 5.1558e-05 - val_accuracy: 1.0000\n",
      "Epoch 82/100\n",
      "701/701 [==============================] - 0s 35us/step - loss: 0.0014 - accuracy: 0.9986 - val_loss: 5.1437e-05 - val_accuracy: 1.0000\n",
      "Epoch 83/100\n",
      "701/701 [==============================] - 0s 35us/step - loss: 0.0014 - accuracy: 0.9986 - val_loss: 5.1038e-05 - val_accuracy: 1.0000\n",
      "Epoch 84/100\n",
      "701/701 [==============================] - 0s 35us/step - loss: 0.0014 - accuracy: 0.9986 - val_loss: 5.0722e-05 - val_accuracy: 1.0000\n",
      "Epoch 85/100\n",
      "701/701 [==============================] - 0s 35us/step - loss: 0.0014 - accuracy: 0.9986 - val_loss: 5.0361e-05 - val_accuracy: 1.0000\n",
      "Epoch 86/100\n",
      "701/701 [==============================] - 0s 35us/step - loss: 0.0014 - accuracy: 0.9986 - val_loss: 5.0157e-05 - val_accuracy: 1.0000\n",
      "Epoch 87/100\n",
      "701/701 [==============================] - 0s 35us/step - loss: 0.0014 - accuracy: 0.9986 - val_loss: 4.9702e-05 - val_accuracy: 1.0000\n",
      "Epoch 88/100\n",
      "701/701 [==============================] - 0s 36us/step - loss: 0.0014 - accuracy: 0.9986 - val_loss: 4.9133e-05 - val_accuracy: 1.0000\n",
      "Epoch 89/100\n",
      "701/701 [==============================] - 0s 36us/step - loss: 0.0014 - accuracy: 0.9986 - val_loss: 4.9118e-05 - val_accuracy: 1.0000\n",
      "Epoch 90/100\n",
      "701/701 [==============================] - 0s 36us/step - loss: 0.0014 - accuracy: 0.9986 - val_loss: 4.8790e-05 - val_accuracy: 1.0000\n",
      "Epoch 91/100\n",
      "701/701 [==============================] - 0s 36us/step - loss: 0.0014 - accuracy: 0.9986 - val_loss: 4.8187e-05 - val_accuracy: 1.0000\n",
      "Epoch 92/100\n",
      "701/701 [==============================] - 0s 35us/step - loss: 0.0014 - accuracy: 0.9986 - val_loss: 4.7849e-05 - val_accuracy: 1.0000\n",
      "Epoch 93/100\n",
      "701/701 [==============================] - 0s 35us/step - loss: 0.0014 - accuracy: 0.9986 - val_loss: 4.7463e-05 - val_accuracy: 1.0000\n",
      "Epoch 94/100\n",
      "701/701 [==============================] - 0s 36us/step - loss: 0.0014 - accuracy: 0.9986 - val_loss: 4.6922e-05 - val_accuracy: 1.0000\n",
      "Epoch 95/100\n",
      "701/701 [==============================] - 0s 36us/step - loss: 0.0014 - accuracy: 0.9986 - val_loss: 4.7035e-05 - val_accuracy: 1.0000\n",
      "Epoch 96/100\n",
      "701/701 [==============================] - 0s 36us/step - loss: 0.0014 - accuracy: 0.9986 - val_loss: 4.7964e-05 - val_accuracy: 1.0000\n",
      "Epoch 97/100\n",
      "701/701 [==============================] - 0s 35us/step - loss: 0.0014 - accuracy: 0.9986 - val_loss: 4.7604e-05 - val_accuracy: 1.0000\n",
      "Epoch 98/100\n",
      "701/701 [==============================] - 0s 36us/step - loss: 0.0014 - accuracy: 0.9986 - val_loss: 4.7057e-05 - val_accuracy: 1.0000\n",
      "Epoch 99/100\n",
      "701/701 [==============================] - 0s 36us/step - loss: 0.0014 - accuracy: 0.9986 - val_loss: 4.6523e-05 - val_accuracy: 1.0000\n",
      "Epoch 100/100\n",
      "701/701 [==============================] - 0s 36us/step - loss: 0.0014 - accuracy: 0.9986 - val_loss: 4.6045e-05 - val_accuracy: 1.0000\n"
     ]
    }
   ],
   "source": [
    "history = model.fit(x_train, y_train,\n",
    "                    batch_size=25,\n",
    "                    epochs=100,\n",
    "                    verbose=1,\n",
    "                    validation_data=(x_val, y_val))"
   ]
  },
  {
   "cell_type": "code",
   "execution_count": 113,
   "metadata": {},
   "outputs": [
    {
     "data": {
      "image/png": "[encoded data removed]",
      "text/plain": [
       "<Figure size 432x288 with 1 Axes>"
      ]
     },
     "metadata": {
      "needs_background": "light"
     },
     "output_type": "display_data"
    },
    {
     "data": {
      "image/png": "[encoded data removed]",
      "text/plain": [
       "<Figure size 432x288 with 1 Axes>"
      ]
     },
     "metadata": {
      "needs_background": "light"
     },
     "output_type": "display_data"
    }
   ],
   "source": [
    "plt.plot(history.history['accuracy'])\n",
    "plt.plot(history.history['val_accuracy'])\n",
    "plt.title('tm model accuracy')\n",
    "plt.ylabel('accuracy')\n",
    "plt.xlabel('epoch')\n",
    "plt.legend(['train', 'val'], loc='upper left')\n",
    "plt.show()\n",
    "# summarize history for loss\n",
    "plt.plot(history.history['loss'])\n",
    "plt.plot(history.history['val_loss'])\n",
    "plt.title('tm model loss')\n",
    "plt.ylabel('loss')\n",
    "plt.xlabel('epoch')\n",
    "plt.legend(['train', 'val'], loc='upper left')\n",
    "plt.show()"
   ]
  },
  {
   "cell_type": "markdown",
   "metadata": {},
   "source": [
    "## MLP Regressor in Scikit Learn"
   ]
  },
  {
   "cell_type": "code",
   "execution_count": 57,
   "metadata": {},
   "outputs": [],
   "source": [
    "mlp = neural_network.MLPRegressor(hidden_layer_sizes=(100,100), activation=\"relu\",\n",
    "                 solver='adam', alpha=0.0001,\n",
    "                 batch_size='auto', learning_rate=\"constant\",\n",
    "                 learning_rate_init=0.01,\n",
    "                 power_t=0.5, max_iter=1000,tol=1e-4,random_state=2020)"
   ]
  },
  {
   "cell_type": "code",
   "execution_count": 58,
   "metadata": {},
   "outputs": [
    {
     "ename": "ValueError",
     "evalue": "setting an array element with a sequence.",
     "output_type": "error",
     "traceback": [
      "\u001b[0;31m---------------------------------------------------------------------------\u001b[0m",
      "\u001b[0;31mTypeError\u001b[0m                                 Traceback (most recent call last)",
      "\u001b[0;31mTypeError\u001b[0m: only size-1 arrays can be converted to Python scalars",
      "\nThe above exception was the direct cause of the following exception:\n",
      "\u001b[0;31mValueError\u001b[0m                                Traceback (most recent call last)",
      "\u001b[0;32m<ipython-input-58-107a61eb8a6a>\u001b[0m in \u001b[0;36m<module>\u001b[0;34m\u001b[0m\n\u001b[1;32m      1\u001b[0m \u001b[0mx_train\u001b[0m\u001b[0;34m,\u001b[0m \u001b[0mx_test\u001b[0m\u001b[0;34m,\u001b[0m \u001b[0my_train\u001b[0m\u001b[0;34m,\u001b[0m \u001b[0my_test\u001b[0m \u001b[0;34m=\u001b[0m \u001b[0mtrain_test_split\u001b[0m\u001b[0;34m(\u001b[0m\u001b[0mx\u001b[0m\u001b[0;34m,\u001b[0m \u001b[0my\u001b[0m\u001b[0;34m,\u001b[0m \u001b[0mtest_size\u001b[0m\u001b[0;34m=\u001b[0m\u001b[0;36m.3\u001b[0m\u001b[0;34m,\u001b[0m \u001b[0mrandom_state\u001b[0m\u001b[0;34m=\u001b[0m\u001b[0;36m2020\u001b[0m\u001b[0;34m)\u001b[0m\u001b[0;34m\u001b[0m\u001b[0;34m\u001b[0m\u001b[0m\n\u001b[0;32m----> 2\u001b[0;31m \u001b[0mmlp\u001b[0m\u001b[0;34m.\u001b[0m\u001b[0mfit\u001b[0m\u001b[0;34m(\u001b[0m\u001b[0mx_train\u001b[0m\u001b[0;34m,\u001b[0m \u001b[0my_train\u001b[0m\u001b[0;34m)\u001b[0m\u001b[0;34m\u001b[0m\u001b[0;34m\u001b[0m\u001b[0m\n\u001b[0m\u001b[1;32m      3\u001b[0m \u001b[0mscaler\u001b[0m\u001b[0;34m=\u001b[0m\u001b[0mStandardScaler\u001b[0m\u001b[0;34m(\u001b[0m\u001b[0;34m)\u001b[0m\u001b[0;34m\u001b[0m\u001b[0;34m\u001b[0m\u001b[0m\n\u001b[1;32m      4\u001b[0m \u001b[0mx_train\u001b[0m\u001b[0;34m=\u001b[0m\u001b[0mscaler\u001b[0m\u001b[0;34m.\u001b[0m\u001b[0mfit_transform\u001b[0m\u001b[0;34m(\u001b[0m\u001b[0mx_train\u001b[0m\u001b[0;34m)\u001b[0m\u001b[0;34m\u001b[0m\u001b[0;34m\u001b[0m\u001b[0m\n\u001b[1;32m      5\u001b[0m \u001b[0mx_test\u001b[0m\u001b[0;34m=\u001b[0m\u001b[0mscaler\u001b[0m\u001b[0;34m.\u001b[0m\u001b[0mtransform\u001b[0m\u001b[0;34m(\u001b[0m\u001b[0mx_test\u001b[0m\u001b[0;34m)\u001b[0m\u001b[0;34m\u001b[0m\u001b[0;34m\u001b[0m\u001b[0m\n",
      "\u001b[0;32m~/humor/lib/python3.6/site-packages/sklearn/neural_network/_multilayer_perceptron.py\u001b[0m in \u001b[0;36mfit\u001b[0;34m(self, X, y)\u001b[0m\n\u001b[1;32m    625\u001b[0m         \u001b[0mself\u001b[0m \u001b[0;34m:\u001b[0m \u001b[0mreturns\u001b[0m \u001b[0ma\u001b[0m \u001b[0mtrained\u001b[0m \u001b[0mMLP\u001b[0m \u001b[0mmodel\u001b[0m\u001b[0;34m.\u001b[0m\u001b[0;34m\u001b[0m\u001b[0;34m\u001b[0m\u001b[0m\n\u001b[1;32m    626\u001b[0m         \"\"\"\n\u001b[0;32m--> 627\u001b[0;31m         \u001b[0;32mreturn\u001b[0m \u001b[0mself\u001b[0m\u001b[0;34m.\u001b[0m\u001b[0m_fit\u001b[0m\u001b[0;34m(\u001b[0m\u001b[0mX\u001b[0m\u001b[0;34m,\u001b[0m \u001b[0my\u001b[0m\u001b[0;34m,\u001b[0m \u001b[0mincremental\u001b[0m\u001b[0;34m=\u001b[0m\u001b[0;32mFalse\u001b[0m\u001b[0;34m)\u001b[0m\u001b[0;34m\u001b[0m\u001b[0;34m\u001b[0m\u001b[0m\n\u001b[0m\u001b[1;32m    628\u001b[0m \u001b[0;34m\u001b[0m\u001b[0m\n\u001b[1;32m    629\u001b[0m     \u001b[0;34m@\u001b[0m\u001b[0mproperty\u001b[0m\u001b[0;34m\u001b[0m\u001b[0;34m\u001b[0m\u001b[0m\n",
      "\u001b[0;32m~/humor/lib/python3.6/site-packages/sklearn/neural_network/_multilayer_perceptron.py\u001b[0m in \u001b[0;36m_fit\u001b[0;34m(self, X, y, incremental)\u001b[0m\n\u001b[1;32m    323\u001b[0m                              hidden_layer_sizes)\n\u001b[1;32m    324\u001b[0m \u001b[0;34m\u001b[0m\u001b[0m\n\u001b[0;32m--> 325\u001b[0;31m         \u001b[0mX\u001b[0m\u001b[0;34m,\u001b[0m \u001b[0my\u001b[0m \u001b[0;34m=\u001b[0m \u001b[0mself\u001b[0m\u001b[0;34m.\u001b[0m\u001b[0m_validate_input\u001b[0m\u001b[0;34m(\u001b[0m\u001b[0mX\u001b[0m\u001b[0;34m,\u001b[0m \u001b[0my\u001b[0m\u001b[0;34m,\u001b[0m \u001b[0mincremental\u001b[0m\u001b[0;34m)\u001b[0m\u001b[0;34m\u001b[0m\u001b[0;34m\u001b[0m\u001b[0m\n\u001b[0m\u001b[1;32m    326\u001b[0m         \u001b[0mn_samples\u001b[0m\u001b[0;34m,\u001b[0m \u001b[0mn_features\u001b[0m \u001b[0;34m=\u001b[0m \u001b[0mX\u001b[0m\u001b[0;34m.\u001b[0m\u001b[0mshape\u001b[0m\u001b[0;34m\u001b[0m\u001b[0;34m\u001b[0m\u001b[0m\n\u001b[1;32m    327\u001b[0m \u001b[0;34m\u001b[0m\u001b[0m\n",
      "\u001b[0;32m~/humor/lib/python3.6/site-packages/sklearn/neural_network/_multilayer_perceptron.py\u001b[0m in \u001b[0;36m_validate_input\u001b[0;34m(self, X, y, incremental)\u001b[0m\n\u001b[1;32m   1338\u001b[0m     \u001b[0;32mdef\u001b[0m \u001b[0m_validate_input\u001b[0m\u001b[0;34m(\u001b[0m\u001b[0mself\u001b[0m\u001b[0;34m,\u001b[0m \u001b[0mX\u001b[0m\u001b[0;34m,\u001b[0m \u001b[0my\u001b[0m\u001b[0;34m,\u001b[0m \u001b[0mincremental\u001b[0m\u001b[0;34m)\u001b[0m\u001b[0;34m:\u001b[0m\u001b[0;34m\u001b[0m\u001b[0;34m\u001b[0m\u001b[0m\n\u001b[1;32m   1339\u001b[0m         X, y = check_X_y(X, y, accept_sparse=['csr', 'csc', 'coo'],\n\u001b[0;32m-> 1340\u001b[0;31m                          multi_output=True, y_numeric=True)\n\u001b[0m\u001b[1;32m   1341\u001b[0m         \u001b[0;32mif\u001b[0m \u001b[0my\u001b[0m\u001b[0;34m.\u001b[0m\u001b[0mndim\u001b[0m \u001b[0;34m==\u001b[0m \u001b[0;36m2\u001b[0m \u001b[0;32mand\u001b[0m \u001b[0my\u001b[0m\u001b[0;34m.\u001b[0m\u001b[0mshape\u001b[0m\u001b[0;34m[\u001b[0m\u001b[0;36m1\u001b[0m\u001b[0;34m]\u001b[0m \u001b[0;34m==\u001b[0m \u001b[0;36m1\u001b[0m\u001b[0;34m:\u001b[0m\u001b[0;34m\u001b[0m\u001b[0;34m\u001b[0m\u001b[0m\n\u001b[1;32m   1342\u001b[0m             \u001b[0my\u001b[0m \u001b[0;34m=\u001b[0m \u001b[0mcolumn_or_1d\u001b[0m\u001b[0;34m(\u001b[0m\u001b[0my\u001b[0m\u001b[0;34m,\u001b[0m \u001b[0mwarn\u001b[0m\u001b[0;34m=\u001b[0m\u001b[0;32mTrue\u001b[0m\u001b[0;34m)\u001b[0m\u001b[0;34m\u001b[0m\u001b[0;34m\u001b[0m\u001b[0m\n",
      "\u001b[0;32m~/humor/lib/python3.6/site-packages/sklearn/utils/validation.py\u001b[0m in \u001b[0;36mcheck_X_y\u001b[0;34m(X, y, accept_sparse, accept_large_sparse, dtype, order, copy, force_all_finite, ensure_2d, allow_nd, multi_output, ensure_min_samples, ensure_min_features, y_numeric, warn_on_dtype, estimator)\u001b[0m\n\u001b[1;32m    753\u001b[0m                     \u001b[0mensure_min_features\u001b[0m\u001b[0;34m=\u001b[0m\u001b[0mensure_min_features\u001b[0m\u001b[0;34m,\u001b[0m\u001b[0;34m\u001b[0m\u001b[0;34m\u001b[0m\u001b[0m\n\u001b[1;32m    754\u001b[0m                     \u001b[0mwarn_on_dtype\u001b[0m\u001b[0;34m=\u001b[0m\u001b[0mwarn_on_dtype\u001b[0m\u001b[0;34m,\u001b[0m\u001b[0;34m\u001b[0m\u001b[0;34m\u001b[0m\u001b[0m\n\u001b[0;32m--> 755\u001b[0;31m                     estimator=estimator)\n\u001b[0m\u001b[1;32m    756\u001b[0m     \u001b[0;32mif\u001b[0m \u001b[0mmulti_output\u001b[0m\u001b[0;34m:\u001b[0m\u001b[0;34m\u001b[0m\u001b[0;34m\u001b[0m\u001b[0m\n\u001b[1;32m    757\u001b[0m         y = check_array(y, 'csr', force_all_finite=True, ensure_2d=False,\n",
      "\u001b[0;32m~/humor/lib/python3.6/site-packages/sklearn/utils/validation.py\u001b[0m in \u001b[0;36mcheck_array\u001b[0;34m(array, accept_sparse, accept_large_sparse, dtype, order, copy, force_all_finite, ensure_2d, allow_nd, ensure_min_samples, ensure_min_features, warn_on_dtype, estimator)\u001b[0m\n\u001b[1;32m    529\u001b[0m                     \u001b[0marray\u001b[0m \u001b[0;34m=\u001b[0m \u001b[0marray\u001b[0m\u001b[0;34m.\u001b[0m\u001b[0mastype\u001b[0m\u001b[0;34m(\u001b[0m\u001b[0mdtype\u001b[0m\u001b[0;34m,\u001b[0m \u001b[0mcasting\u001b[0m\u001b[0;34m=\u001b[0m\u001b[0;34m\"unsafe\"\u001b[0m\u001b[0;34m,\u001b[0m \u001b[0mcopy\u001b[0m\u001b[0;34m=\u001b[0m\u001b[0;32mFalse\u001b[0m\u001b[0;34m)\u001b[0m\u001b[0;34m\u001b[0m\u001b[0;34m\u001b[0m\u001b[0m\n\u001b[1;32m    530\u001b[0m                 \u001b[0;32melse\u001b[0m\u001b[0;34m:\u001b[0m\u001b[0;34m\u001b[0m\u001b[0;34m\u001b[0m\u001b[0m\n\u001b[0;32m--> 531\u001b[0;31m                     \u001b[0marray\u001b[0m \u001b[0;34m=\u001b[0m \u001b[0mnp\u001b[0m\u001b[0;34m.\u001b[0m\u001b[0masarray\u001b[0m\u001b[0;34m(\u001b[0m\u001b[0marray\u001b[0m\u001b[0;34m,\u001b[0m \u001b[0morder\u001b[0m\u001b[0;34m=\u001b[0m\u001b[0morder\u001b[0m\u001b[0;34m,\u001b[0m \u001b[0mdtype\u001b[0m\u001b[0;34m=\u001b[0m\u001b[0mdtype\u001b[0m\u001b[0;34m)\u001b[0m\u001b[0;34m\u001b[0m\u001b[0;34m\u001b[0m\u001b[0m\n\u001b[0m\u001b[1;32m    532\u001b[0m             \u001b[0;32mexcept\u001b[0m \u001b[0mComplexWarning\u001b[0m\u001b[0;34m:\u001b[0m\u001b[0;34m\u001b[0m\u001b[0;34m\u001b[0m\u001b[0m\n\u001b[1;32m    533\u001b[0m                 raise ValueError(\"Complex data not supported\\n\"\n",
      "\u001b[0;32m~/humor/lib/python3.6/site-packages/numpy/core/_asarray.py\u001b[0m in \u001b[0;36masarray\u001b[0;34m(a, dtype, order)\u001b[0m\n\u001b[1;32m     83\u001b[0m \u001b[0;34m\u001b[0m\u001b[0m\n\u001b[1;32m     84\u001b[0m     \"\"\"\n\u001b[0;32m---> 85\u001b[0;31m     \u001b[0;32mreturn\u001b[0m \u001b[0marray\u001b[0m\u001b[0;34m(\u001b[0m\u001b[0ma\u001b[0m\u001b[0;34m,\u001b[0m \u001b[0mdtype\u001b[0m\u001b[0;34m,\u001b[0m \u001b[0mcopy\u001b[0m\u001b[0;34m=\u001b[0m\u001b[0;32mFalse\u001b[0m\u001b[0;34m,\u001b[0m \u001b[0morder\u001b[0m\u001b[0;34m=\u001b[0m\u001b[0morder\u001b[0m\u001b[0;34m)\u001b[0m\u001b[0;34m\u001b[0m\u001b[0;34m\u001b[0m\u001b[0m\n\u001b[0m\u001b[1;32m     86\u001b[0m \u001b[0;34m\u001b[0m\u001b[0m\n\u001b[1;32m     87\u001b[0m \u001b[0;34m\u001b[0m\u001b[0m\n",
      "\u001b[0;31mValueError\u001b[0m: setting an array element with a sequence."
     ]
    }
   ],
   "source": [
    "x_train, x_test, y_train, y_test = train_test_split(x, y, test_size=.3, random_state=2020)\n",
    "mlp.fit(x_train, y_train)\n",
    "scaler=StandardScaler()\n",
    "x_train=scaler.fit_transform(x_train)\n",
    "x_test=scaler.transform(x_test)"
   ]
  },
  {
   "cell_type": "code",
   "execution_count": 53,
   "metadata": {},
   "outputs": [
    {
     "name": "stderr",
     "output_type": "stream",
     "text": [
      "/home/jl8394/humor/lib/python3.6/site-packages/sklearn/neural_network/_multilayer_perceptron.py:1342: DataConversionWarning: A column-vector y was passed when a 1d array was expected. Please change the shape of y to (n_samples, ), for example using ravel().\n",
      "  y = column_or_1d(y, warn=True)\n",
      "/home/jl8394/humor/lib/python3.6/site-packages/sklearn/model_selection/_split.py:296: FutureWarning: Setting a random_state has no effect since shuffle is False. This will raise an error in 0.24. You should leave random_state to its default (None), or set shuffle=True.\n",
      "  FutureWarning\n",
      "/home/jl8394/humor/lib/python3.6/site-packages/sklearn/neural_network/_multilayer_perceptron.py:1342: DataConversionWarning: A column-vector y was passed when a 1d array was expected. Please change the shape of y to (n_samples, ), for example using ravel().\n",
      "  y = column_or_1d(y, warn=True)\n",
      "/home/jl8394/humor/lib/python3.6/site-packages/sklearn/neural_network/_multilayer_perceptron.py:1342: DataConversionWarning: A column-vector y was passed when a 1d array was expected. Please change the shape of y to (n_samples, ), for example using ravel().\n",
      "  y = column_or_1d(y, warn=True)\n",
      "/home/jl8394/humor/lib/python3.6/site-packages/sklearn/neural_network/_multilayer_perceptron.py:1342: DataConversionWarning: A column-vector y was passed when a 1d array was expected. Please change the shape of y to (n_samples, ), for example using ravel().\n",
      "  y = column_or_1d(y, warn=True)\n",
      "/home/jl8394/humor/lib/python3.6/site-packages/sklearn/neural_network/_multilayer_perceptron.py:1342: DataConversionWarning: A column-vector y was passed when a 1d array was expected. Please change the shape of y to (n_samples, ), for example using ravel().\n",
      "  y = column_or_1d(y, warn=True)\n",
      "/home/jl8394/humor/lib/python3.6/site-packages/sklearn/neural_network/_multilayer_perceptron.py:1342: DataConversionWarning: A column-vector y was passed when a 1d array was expected. Please change the shape of y to (n_samples, ), for example using ravel().\n",
      "  y = column_or_1d(y, warn=True)\n",
      "/home/jl8394/humor/lib/python3.6/site-packages/sklearn/neural_network/_multilayer_perceptron.py:1342: DataConversionWarning: A column-vector y was passed when a 1d array was expected. Please change the shape of y to (n_samples, ), for example using ravel().\n",
      "  y = column_or_1d(y, warn=True)\n",
      "/home/jl8394/humor/lib/python3.6/site-packages/sklearn/neural_network/_multilayer_perceptron.py:1342: DataConversionWarning: A column-vector y was passed when a 1d array was expected. Please change the shape of y to (n_samples, ), for example using ravel().\n",
      "  y = column_or_1d(y, warn=True)\n",
      "/home/jl8394/humor/lib/python3.6/site-packages/sklearn/neural_network/_multilayer_perceptron.py:1342: DataConversionWarning: A column-vector y was passed when a 1d array was expected. Please change the shape of y to (n_samples, ), for example using ravel().\n",
      "  y = column_or_1d(y, warn=True)\n",
      "/home/jl8394/humor/lib/python3.6/site-packages/sklearn/neural_network/_multilayer_perceptron.py:1342: DataConversionWarning: A column-vector y was passed when a 1d array was expected. Please change the shape of y to (n_samples, ), for example using ravel().\n",
      "  y = column_or_1d(y, warn=True)\n",
      "/home/jl8394/humor/lib/python3.6/site-packages/sklearn/neural_network/_multilayer_perceptron.py:1342: DataConversionWarning: A column-vector y was passed when a 1d array was expected. Please change the shape of y to (n_samples, ), for example using ravel().\n",
      "  y = column_or_1d(y, warn=True)\n",
      "/home/jl8394/humor/lib/python3.6/site-packages/sklearn/neural_network/_multilayer_perceptron.py:1342: DataConversionWarning: A column-vector y was passed when a 1d array was expected. Please change the shape of y to (n_samples, ), for example using ravel().\n",
      "  y = column_or_1d(y, warn=True)\n",
      "/home/jl8394/humor/lib/python3.6/site-packages/sklearn/neural_network/_multilayer_perceptron.py:1342: DataConversionWarning: A column-vector y was passed when a 1d array was expected. Please change the shape of y to (n_samples, ), for example using ravel().\n",
      "  y = column_or_1d(y, warn=True)\n",
      "/home/jl8394/humor/lib/python3.6/site-packages/sklearn/neural_network/_multilayer_perceptron.py:1342: DataConversionWarning: A column-vector y was passed when a 1d array was expected. Please change the shape of y to (n_samples, ), for example using ravel().\n",
      "  y = column_or_1d(y, warn=True)\n",
      "/home/jl8394/humor/lib/python3.6/site-packages/sklearn/neural_network/_multilayer_perceptron.py:1342: DataConversionWarning: A column-vector y was passed when a 1d array was expected. Please change the shape of y to (n_samples, ), for example using ravel().\n",
      "  y = column_or_1d(y, warn=True)\n",
      "/home/jl8394/humor/lib/python3.6/site-packages/sklearn/neural_network/_multilayer_perceptron.py:1342: DataConversionWarning: A column-vector y was passed when a 1d array was expected. Please change the shape of y to (n_samples, ), for example using ravel().\n",
      "  y = column_or_1d(y, warn=True)\n"
     ]
    }
   ],
   "source": [
    "pipeline=Pipeline([('transformer',scaler),('estimator',mlp)])\n",
    "pipeline.fit(x,y)\n",
    "cv=KFold(n_splits=15,random_state=2020)\n",
    "scorescrossval=cross_val_score(pipeline,x_test,y_test,cv=cv)"
   ]
  },
  {
   "cell_type": "code",
   "execution_count": 54,
   "metadata": {},
   "outputs": [],
   "source": [
    "nnr_pred = mlp.predict(x_test)\n",
    "nny_pred= mlp.predict(x_train)\n",
    "list_training_error = []\n",
    "list_testing_error = []"
   ]
  },
  {
   "cell_type": "code",
   "execution_count": 55,
   "metadata": {},
   "outputs": [
    {
     "data": {
      "image/png": "[encoded data removed]",
      "text/plain": [
       "<Figure size 432x288 with 2 Axes>"
      ]
     },
     "metadata": {
      "needs_background": "light"
     },
     "output_type": "display_data"
    }
   ],
   "source": [
    "for train_index, test_index in cv.split(x):\n",
    "    fold_training_error = mean_absolute_error(y_train, nny_pred)        \n",
    "    fold_testing_error = mean_absolute_error(y_test, nnr_pred)\n",
    "    list_training_error.append(fold_training_error)\n",
    "    list_testing_error.append(fold_testing_error)\n",
    "\n",
    "    \n",
    "plt.subplot(1,2,1)\n",
    "plt.plot(range(1, cv.get_n_splits() + 1), np.array(list_training_error).ravel())\n",
    "plt.xlabel('number of fold')\n",
    "plt.ylabel('training error')\n",
    "plt.title('Training error across folds')\n",
    "plt.tight_layout()\n",
    "\n",
    "plt.subplot(1,2,2)\n",
    "plt.plot(range(1, cv.get_n_splits() + 1), np.array(list_testing_error).ravel())\n",
    "plt.xlabel('number of fold')\n",
    "plt.ylabel('testing error')\n",
    "plt.title('Testing error across folds')\n",
    "plt.tight_layout()\n",
    "plt.show()"
   ]
  },
  {
   "cell_type": "code",
   "execution_count": 56,
   "metadata": {},
   "outputs": [
    {
     "data": {
      "text/plain": [
       "0.9639835960110431"
      ]
     },
     "execution_count": 56,
     "metadata": {},
     "output_type": "execute_result"
    }
   ],
   "source": [
    "neural_network_regression_score = mlp.score(x_test, y_test)\n",
    "neural_network_regression_score"
   ]
  },
  {
   "cell_type": "markdown",
   "metadata": {},
   "source": [
    "## MLP Classifier"
   ]
  },
  {
   "cell_type": "code",
   "execution_count": 6,
   "metadata": {},
   "outputs": [],
   "source": [
    "x=ocr_tm_p2v_merged\n",
    "y=dh_score"
   ]
  },
  {
   "cell_type": "code",
   "execution_count": 8,
   "metadata": {},
   "outputs": [],
   "source": [
    "mlp = MLPClassifier(hidden_layer_sizes=(100,100), max_iter=500,activation = 'relu',solver='adam',random_state=1)"
   ]
  },
  {
   "cell_type": "code",
   "execution_count": 9,
   "metadata": {},
   "outputs": [
    {
     "name": "stderr",
     "output_type": "stream",
     "text": [
      "/home/jl8394/humor/lib/python3.6/site-packages/sklearn/neural_network/_multilayer_perceptron.py:934: DataConversionWarning: A column-vector y was passed when a 1d array was expected. Please change the shape of y to (n_samples, ), for example using ravel().\n",
      "  y = column_or_1d(y, warn=True)\n"
     ]
    }
   ],
   "source": [
    "x_train, x_test, y_train, y_test = train_test_split(x, y, test_size=.3, random_state=2020)\n",
    "mlp.fit(x_train, y_train)\n",
    "scaler=StandardScaler()\n",
    "x_train=scaler.fit_transform(x_train)\n",
    "x_test=scaler.transform(x_test)"
   ]
  },
  {
   "cell_type": "code",
   "execution_count": 10,
   "metadata": {},
   "outputs": [],
   "source": [
    "def accuracy(confusion_matrix):\n",
    "   diagonal_sum = confusion_matrix.trace()\n",
    "   sum_of_all_elements = confusion_matrix.sum()\n",
    "   return diagonal_sum / sum_of_all_elements\n",
    "    \n"
   ]
  },
  {
   "cell_type": "code",
   "execution_count": 11,
   "metadata": {},
   "outputs": [
    {
     "name": "stderr",
     "output_type": "stream",
     "text": [
      "/home/jl8394/humor/lib/python3.6/site-packages/sklearn/neural_network/_multilayer_perceptron.py:934: DataConversionWarning: A column-vector y was passed when a 1d array was expected. Please change the shape of y to (n_samples, ), for example using ravel().\n",
      "  y = column_or_1d(y, warn=True)\n"
     ]
    },
    {
     "data": {
      "text/plain": [
       "MLPClassifier(activation='relu', alpha=0.0001, batch_size='auto', beta_1=0.9,\n",
       "              beta_2=0.999, early_stopping=False, epsilon=1e-08,\n",
       "              hidden_layer_sizes=(100, 100), learning_rate='constant',\n",
       "              learning_rate_init=0.001, max_fun=15000, max_iter=500,\n",
       "              momentum=0.9, n_iter_no_change=10, nesterovs_momentum=True,\n",
       "              power_t=0.5, random_state=1, shuffle=True, solver='adam',\n",
       "              tol=0.0001, validation_fraction=0.1, verbose=False,\n",
       "              warm_start=False)"
      ]
     },
     "execution_count": 11,
     "metadata": {},
     "output_type": "execute_result"
    }
   ],
   "source": [
    "mlp.fit(x_train, y_train)"
   ]
  },
  {
   "cell_type": "code",
   "execution_count": 18,
   "metadata": {},
   "outputs": [],
   "source": [
    "#Predicting y for X_val\n",
    "#y_pred = mlp.predict(x_train)\n",
    "predictions = mlp.predict(x_test)"
   ]
  },
  {
   "cell_type": "code",
   "execution_count": 19,
   "metadata": {},
   "outputs": [
    {
     "name": "stdout",
     "output_type": "stream",
     "text": [
      "[[104  38]\n",
      " [ 48 111]]\n"
     ]
    }
   ],
   "source": [
    "#Importing Confusion Matrix\n",
    "from sklearn.metrics import classification_report,confusion_matrix\n",
    "#Comparing the predictions against the actual observations in y_val\n",
    "#cm = confusion_matrix(y_pred, y_train)\n",
    "print(confusion_matrix(y_test,predictions))"
   ]
  },
  {
   "cell_type": "code",
   "execution_count": 20,
   "metadata": {},
   "outputs": [
    {
     "name": "stdout",
     "output_type": "stream",
     "text": [
      "              precision    recall  f1-score   support\n",
      "\n",
      "         0.0       0.68      0.73      0.71       142\n",
      "         1.0       0.74      0.70      0.72       159\n",
      "\n",
      "    accuracy                           0.71       301\n",
      "   macro avg       0.71      0.72      0.71       301\n",
      "weighted avg       0.72      0.71      0.71       301\n",
      "\n"
     ]
    }
   ],
   "source": [
    "print(classification_report(y_test,predictions))"
   ]
  },
  {
   "cell_type": "code",
   "execution_count": null,
   "metadata": {},
   "outputs": [],
   "source": []
  }
 ],
 "metadata": {
  "kernelspec": {
   "display_name": "Python 3",
   "language": "python",
   "name": "python3"
  },
  "language_info": {
   "codemirror_mode": {
    "name": "ipython",
    "version": 3
   },
   "file_extension": ".py",
   "mimetype": "text/x-python",
   "name": "python",
   "nbconvert_exporter": "python",
   "pygments_lexer": "ipython3",
   "version": "3.7.2"
  }
 },
 "nbformat": 4,
 "nbformat_minor": 4
}
